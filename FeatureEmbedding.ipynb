{
 "cells": [
  {
   "cell_type": "code",
   "execution_count": 1,
   "id": "8acdbde2",
   "metadata": {
    "ExecuteTime": {
     "end_time": "2021-12-03T07:15:02.071819Z",
     "start_time": "2021-12-03T07:14:53.747289Z"
    }
   },
   "outputs": [],
   "source": [
    "# jupyter notebook 同时输出多行\n",
    "import import_ipynb\n",
    "from IPython.core.interactiveshell import InteractiveShell\n",
    "InteractiveShell.ast_node_interactivity = 'all'\n",
    "\n",
    "## for data\n",
    "import pandas as pd\n",
    "import numpy as np\n",
    "import random\n",
    "import torch\n",
    "import torch.nn as nn\n",
    "\n",
    "## for plotting\n",
    "import matplotlib.pyplot as plt\n",
    "import seaborn as sns\n",
    "\n",
    "## for machine learning\n",
    "from sklearn.model_selection import train_test_split\n",
    "\n",
    "%matplotlib inline\n",
    "\n",
    "## Chinese display\n",
    "plt.rcParams['font.sans-serif']=['SimHei']\n",
    "plt.rcParams['axes.unicode_minus'] = False\n",
    "\n",
    "## No warnings\n",
    "import warnings\n",
    "warnings.filterwarnings('ignore') "
   ]
  },
  {
   "cell_type": "code",
   "execution_count": 44,
   "id": "458fc412",
   "metadata": {
    "ExecuteTime": {
     "end_time": "2021-11-23T11:55:52.388314Z",
     "start_time": "2021-11-23T11:55:52.306296Z"
    }
   },
   "outputs": [
    {
     "data": {
      "text/plain": [
       "(11600, 46)"
      ]
     },
     "execution_count": 44,
     "metadata": {},
     "output_type": "execute_result"
    }
   ],
   "source": [
    "df_file = \"data/Diarrhea_fillna.tsv\"\n",
    "df = pd.read_csv(df_file, sep=\"\\t\", index_col=0, encoding=\"utf-8\")\n",
    "df.shape\n",
    "\n",
    "y = \"细菌结果\"\n",
    "df[y] = df[y].map(lambda x: 0 if x == \"阴性\" else 1)"
   ]
  },
  {
   "cell_type": "code",
   "execution_count": 45,
   "id": "0714d476",
   "metadata": {
    "ExecuteTime": {
     "end_time": "2021-11-23T11:55:53.886891Z",
     "start_time": "2021-11-23T11:55:53.872887Z"
    }
   },
   "outputs": [],
   "source": [
    "y_col = ['细菌结果']\n",
    "cate_col = df.dtypes[df.dtypes == 'object'].index.tolist()\n",
    "cont_col = df.dtypes[df.dtypes != 'object'].index.tolist()\n",
    "cont_col.remove('细菌结果')"
   ]
  },
  {
   "cell_type": "code",
   "execution_count": 46,
   "id": "8bf68eb7",
   "metadata": {
    "ExecuteTime": {
     "end_time": "2021-11-23T15:00:45.751818Z",
     "start_time": "2021-11-23T15:00:45.746816Z"
    }
   },
   "outputs": [
    {
     "name": "stdout",
     "output_type": "stream",
     "text": [
      "Number of category features:  37\n"
     ]
    }
   ],
   "source": [
    "print(\"Number of category features: \",len(cate_col))"
   ]
  },
  {
   "cell_type": "code",
   "execution_count": 47,
   "id": "7226faf3",
   "metadata": {
    "ExecuteTime": {
     "end_time": "2021-11-23T11:56:06.220365Z",
     "start_time": "2021-11-23T11:56:06.157346Z"
    }
   },
   "outputs": [],
   "source": [
    "# Mapping categories to numbers\n",
    "for col in cate_col:\n",
    "    df[col] = df[col].factorize()[0]\n",
    "df['腹泻性质'] = df['腹泻性质'] + 1"
   ]
  },
  {
   "cell_type": "code",
   "execution_count": 48,
   "id": "57c73d83",
   "metadata": {
    "ExecuteTime": {
     "end_time": "2021-11-23T12:16:47.668939Z",
     "start_time": "2021-11-23T12:16:47.653934Z"
    }
   },
   "outputs": [],
   "source": [
    "class Logistic_Embedding_Model(nn.Module):\n",
    "    def __init__(self, emb_szs, n_cont):\n",
    "        super(Logistic_Embedding_Model, self).__init__()\n",
    "        # The embedded dimension is half of the original dimension\n",
    "        self.embeds = nn.ModuleList([nn.Embedding(ni,nf) for ni,nf in emb_szs])\n",
    "        n_emb = sum((nf for ni,nf in emb_szs))\n",
    "        n_in = n_emb + n_cont\n",
    "        self.linear = nn.Linear(n_in,1)\n",
    "        self.sm = nn.Sigmoid() \n",
    "        # self.bn_cont = nn.BatchNorm1d(n_cont)\n",
    "        \n",
    "    def forward(self, x_cat, x_cont):\n",
    "        embeddings = []\n",
    "        for i,e in enumerate(self.embeds):\n",
    "            col = torch.tensor(x_cat.iloc[:,i].values)\n",
    "            embeddings.append(e(col))\n",
    "        x = torch.cat(embeddings, 1)\n",
    "        \n",
    "        x_cont = torch.tensor(x_cont.values)\n",
    "        # x_cont = self.bn_cont(x_cont.double())\n",
    "        x = torch.cat([x,x_cont],1)\n",
    "        x = self.linear(x.float())\n",
    "        x = self.sm(x)\n",
    "        return x"
   ]
  },
  {
   "cell_type": "code",
   "execution_count": 49,
   "id": "6335b234",
   "metadata": {
    "ExecuteTime": {
     "end_time": "2021-11-23T12:16:48.032669Z",
     "start_time": "2021-11-23T12:16:48.001662Z"
    }
   },
   "outputs": [
    {
     "name": "stdout",
     "output_type": "stream",
     "text": [
      "X_train shape: (8120, 45) | X_test shape: (3480, 45)\n",
      "y_train mean: 0.2 | y_test mean: 0.2\n",
      "--------------------------------------------------\n",
      "Train set：\n",
      "0    0.795813\n",
      "1    0.204187\n",
      "Name: 细菌结果, dtype: float64\n",
      "Test set：\n",
      "0    0.79569\n",
      "1    0.20431\n",
      "Name: 细菌结果, dtype: float64\n"
     ]
    }
   ],
   "source": [
    "# Stratified sampling\n",
    "df_train, df_test = train_test_split(df, test_size=0.3,\n",
    "                                     stratify=df[y], random_state=42)\n",
    "\n",
    "# print info\n",
    "print(\"X_train shape:\", df_train.drop(y, axis=1).shape,\n",
    "      \"| X_test shape:\", df_test.drop(y, axis=1).shape)\n",
    "print(\"y_train mean:\", round(\n",
    "    np.mean(df_train[y]), 2), \"| y_test mean:\", round(np.mean(df_test[y]), 2))\n",
    "\n",
    "print('-'*50)\n",
    "\n",
    "print(\"Train set：\")\n",
    "print(df_train[y].value_counts() / len(df_train[y]))\n",
    "print(\"Test set：\")\n",
    "print(df_test[y].value_counts() / len(df_test[y]))"
   ]
  },
  {
   "cell_type": "code",
   "execution_count": 50,
   "id": "bc5cc468",
   "metadata": {
    "ExecuteTime": {
     "end_time": "2021-11-23T12:16:48.366762Z",
     "start_time": "2021-11-23T12:16:48.351760Z"
    }
   },
   "outputs": [
    {
     "data": {
      "text/plain": [
       "<torch._C.Generator at 0x1e5b94b5230>"
      ]
     },
     "execution_count": 50,
     "metadata": {},
     "output_type": "execute_result"
    }
   ],
   "source": [
    "cat_train = df_train[cate_col]\n",
    "cat_test = df_test[cate_col]\n",
    "cont_train = df_train[cont_col]\n",
    "cont_test = df_test[cont_col]\n",
    "\n",
    "y_train = torch.tensor(df_train[y].values).unsqueeze(1)\n",
    "y_test = torch.tensor(df_test[y].values).unsqueeze(1)\n",
    "\n",
    "torch.manual_seed(33)\n",
    "device = torch.device('cuda' if torch.cuda.is_available() else 'cpu')\n",
    "cate_szs = [df[col].nunique() for col in cate_col]\n",
    "emb_szs = [(size, min(50, (size + 1)//2)) for size in cate_szs]\n",
    "model = Logistic_Embedding_Model(emb_szs, n_cont=cont_train.shape[1])"
   ]
  },
  {
   "cell_type": "code",
   "execution_count": 51,
   "id": "7d8c26a1",
   "metadata": {
    "ExecuteTime": {
     "end_time": "2021-11-23T12:18:11.096853Z",
     "start_time": "2021-11-23T12:18:11.081849Z"
    }
   },
   "outputs": [],
   "source": [
    "# Define loss functions and optimizers\n",
    "loss_func = nn.BCELoss()\n",
    "optimizer = torch.optim.Adam(model.parameters(),lr = 0.001)\n",
    "epochs = 1000"
   ]
  },
  {
   "cell_type": "code",
   "execution_count": 52,
   "id": "26a0ce6d",
   "metadata": {},
   "outputs": [],
   "source": [
    "loss_list = []\n",
    "\n",
    "# Start training\n",
    "for epoch in range(epochs):\n",
    "    out = model(cat_train,cont_train)\n",
    "    loss = loss_func(out,y_train.float())\n",
    "    print_loss = loss.data.item()\n",
    "    loss_list.append(loss)\n",
    "    mask = out.ge(0.5).float() \n",
    "    correct = (mask == y_train).sum()  \n",
    "    acc = correct.item() / len(y_train)  \n",
    "    \n",
    "    optimizer.zero_grad()\n",
    "    loss.backward()\n",
    "    optimizer.step()\n",
    "    \n",
    "    # if (epoch + 1) % 20 == 0:\n",
    "    #     print('*'*10)\n",
    "    #     print('epoch {}'.format(epoch+1)) \n",
    "    #     print('loss is {:.4f}'.format(print_loss))  \n",
    "    #     print('acc is {:.4f}'.format(acc))  "
   ]
  },
  {
   "cell_type": "code",
   "execution_count": 53,
   "id": "ff741281",
   "metadata": {
    "ExecuteTime": {
     "end_time": "2021-11-23T12:59:59.106887Z",
     "start_time": "2021-11-23T12:59:59.097886Z"
    }
   },
   "outputs": [],
   "source": [
    "# Get embedding\n",
    "feature_embedding_dict = {}\n",
    "for i,matrix in enumerate(model.embeds.parameters()):\n",
    "    feature_embedding_dict[i] = matrix.detach().numpy()   "
   ]
  },
  {
   "cell_type": "code",
   "execution_count": 54,
   "id": "6c21843a",
   "metadata": {
    "ExecuteTime": {
     "end_time": "2021-11-23T13:00:48.913674Z",
     "start_time": "2021-11-23T13:00:48.899672Z"
    }
   },
   "outputs": [
    {
     "data": {
      "text/plain": [
       "array([ 1.2983361 ,  0.39348063, -0.4909039 ,  0.08802915, -1.4797117 ,\n",
       "        0.43262202,  0.5034583 , -0.45339465, -1.4613835 ], dtype=float32)"
      ]
     },
     "execution_count": 54,
     "metadata": {},
     "output_type": "execute_result"
    }
   ],
   "source": [
    "feature_embedding_dict[0][1]"
   ]
  },
  {
   "cell_type": "code",
   "execution_count": 67,
   "id": "d0660000",
   "metadata": {
    "ExecuteTime": {
     "end_time": "2021-11-23T14:41:58.286412Z",
     "start_time": "2021-11-23T14:41:58.267408Z"
    }
   },
   "outputs": [],
   "source": [
    "df = df.reset_index().drop('index',axis=1)"
   ]
  },
  {
   "cell_type": "code",
   "execution_count": 68,
   "id": "d6fa0c2d",
   "metadata": {
    "ExecuteTime": {
     "end_time": "2021-11-23T14:42:01.737189Z",
     "start_time": "2021-11-23T14:42:01.710183Z"
    }
   },
   "outputs": [],
   "source": [
    "df_cate = df[cate_col]\n",
    "df_cont = df[cont_col]"
   ]
  },
  {
   "cell_type": "code",
   "execution_count": 69,
   "id": "b5fe4a1d",
   "metadata": {
    "ExecuteTime": {
     "end_time": "2021-11-23T14:33:18.641331Z",
     "start_time": "2021-11-23T14:33:18.625328Z"
    }
   },
   "outputs": [],
   "source": [
    "## converting the values into dataframe and attaching them to the dataframe\n",
    "def to_embed(df, col):\n",
    "    temp_list = []\n",
    "    for i in range(len(df.iloc[:, col])):\n",
    "        # x 为第 i 行第 col 列的值\n",
    "        x = df.iloc[i, col]\n",
    "        temp_list.append(feature_embedding_dict[col][x])\n",
    "    temp = pd.DataFrame(\n",
    "        temp_list,\n",
    "        columns=[\n",
    "            f\"{df.iloc[:,col].name}_dim\" + str(i)\n",
    "            for i in range(feature_embedding_dict[col].shape[1])\n",
    "        ])\n",
    "    return temp"
   ]
  },
  {
   "cell_type": "code",
   "execution_count": 70,
   "id": "2081d04a",
   "metadata": {
    "ExecuteTime": {
     "end_time": "2021-11-23T14:35:27.514528Z",
     "start_time": "2021-11-23T14:35:20.641331Z"
    },
    "scrolled": true
   },
   "outputs": [],
   "source": [
    "embed_file = pd.DataFrame()\n",
    "for col, col_name in enumerate(cate_col):\n",
    "    temp = to_embed(df_cate, col)\n",
    "    embed_file = pd.concat([embed_file, temp], axis=1)"
   ]
  },
  {
   "cell_type": "code",
   "execution_count": 71,
   "id": "5bea1e8b",
   "metadata": {
    "ExecuteTime": {
     "end_time": "2021-11-23T14:43:36.945175Z",
     "start_time": "2021-11-23T14:43:36.894164Z"
    }
   },
   "outputs": [
    {
     "data": {
      "text/plain": [
       "(11600, 220)"
      ]
     },
     "execution_count": 71,
     "metadata": {},
     "output_type": "execute_result"
    }
   ],
   "source": [
    "embed_file = pd.concat([embed_file, df_cont, df['细菌结果']], axis=1)\n",
    "embed_file.shape"
   ]
  },
  {
   "cell_type": "code",
   "execution_count": 72,
   "id": "17ea967e",
   "metadata": {
    "ExecuteTime": {
     "end_time": "2021-11-23T14:51:01.754875Z",
     "start_time": "2021-11-23T14:50:59.389341Z"
    }
   },
   "outputs": [],
   "source": [
    "df_file = \"data/Diarrhea_embed_219.tsv\"\n",
    "embed_file.to_csv(df_file, sep=\"\\t\", encoding=\"utf-8\")"
   ]
  }
 ],
 "metadata": {
  "kernelspec": {
   "display_name": "Python 3",
   "language": "python",
   "name": "python3"
  },
  "language_info": {
   "codemirror_mode": {
    "name": "ipython",
    "version": 3
   },
   "file_extension": ".py",
   "mimetype": "text/x-python",
   "name": "python",
   "nbconvert_exporter": "python",
   "pygments_lexer": "ipython3",
   "version": "3.8.8"
  },
  "toc": {
   "base_numbering": 1,
   "nav_menu": {},
   "number_sections": true,
   "sideBar": true,
   "skip_h1_title": false,
   "title_cell": "Table of Contents",
   "title_sidebar": "Contents",
   "toc_cell": false,
   "toc_position": {},
   "toc_section_display": true,
   "toc_window_display": false
  },
  "varInspector": {
   "cols": {
    "lenName": 16,
    "lenType": 16,
    "lenVar": 40
   },
   "kernels_config": {
    "python": {
     "delete_cmd_postfix": "",
     "delete_cmd_prefix": "del ",
     "library": "var_list.py",
     "varRefreshCmd": "print(var_dic_list())"
    },
    "r": {
     "delete_cmd_postfix": ") ",
     "delete_cmd_prefix": "rm(",
     "library": "var_list.r",
     "varRefreshCmd": "cat(var_dic_list()) "
    }
   },
   "position": {
    "height": "688.854px",
    "left": "1040.09px",
    "right": "20px",
    "top": "74.9773px",
    "width": "441.004px"
   },
   "types_to_exclude": [
    "module",
    "function",
    "builtin_function_or_method",
    "instance",
    "_Feature"
   ],
   "window_display": false
  }
 },
 "nbformat": 4,
 "nbformat_minor": 5
}
