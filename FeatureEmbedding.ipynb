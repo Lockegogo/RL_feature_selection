{
 "cells": [
  {
   "cell_type": "code",
   "execution_count": 1,
   "id": "8acdbde2",
   "metadata": {
    "ExecuteTime": {
     "end_time": "2021-12-03T07:15:02.071819Z",
     "start_time": "2021-12-03T07:14:53.747289Z"
    }
   },
   "outputs": [],
   "source": [
    "import import_ipynb\n",
    "from IPython.core.interactiveshell import InteractiveShell\n",
    "InteractiveShell.ast_node_interactivity = 'all'\n",
    "\n",
    "## for data\n",
    "import pandas as pd\n",
    "import numpy as np\n",
    "import random\n",
    "import torch\n",
    "import torch.nn as nn\n",
    "\n",
    "## for plotting\n",
    "import matplotlib.pyplot as plt\n",
    "import seaborn as sns\n",
    "\n",
    "## for machine learning\n",
    "from sklearn.model_selection import train_test_split\n",
    "\n",
    "%matplotlib inline\n",
    "\n",
    "## Chinese display\n",
    "plt.rcParams['font.sans-serif']=['SimHei']\n",
    "plt.rcParams['axes.unicode_minus'] = False\n",
    "\n",
    "## No warnings\n",
    "import warnings\n",
    "warnings.filterwarnings('ignore') "
   ]
  },
  {
   "cell_type": "code",
   "execution_count": 2,
   "id": "4e5c3300",
   "metadata": {},
   "outputs": [
    {
     "data": {
      "text/plain": [
       "(11600, 383)"
      ]
     },
     "execution_count": 2,
     "metadata": {},
     "output_type": "execute_result"
    }
   ],
   "source": [
    "df_file = \"data/Diarrhea_onehot_382.tsv\"\n",
    "df = pd.read_csv(df_file, sep=\"\\t\", index_col=0, encoding=\"utf-8\")\n",
    "df.shape"
   ]
  },
  {
   "cell_type": "code",
   "execution_count": 3,
   "id": "26beb840",
   "metadata": {},
   "outputs": [],
   "source": [
    "class Logistic_Embedding_Model(nn.Module):\n",
    "    def __init__(self, num, emb_szs):\n",
    "        # num = 382\n",
    "        super(Logistic_Embedding_Model, self).__init__()\n",
    "        self.embedding = nn.Linear(num, emb_szs)\n",
    "        self.linear = nn.Linear(emb_szs,1)\n",
    "        self.sm = nn.Sigmoid() \n",
    "        # self.bn_cont = nn.BatchNorm1d(n_cont)\n",
    "        \n",
    "    def forward(self, x):\n",
    "        x = self.embedding(x)\n",
    "        x = self.linear(x.float())\n",
    "        x = self.sm(x)\n",
    "        return x"
   ]
  },
  {
   "cell_type": "code",
   "execution_count": 4,
   "id": "6335b234",
   "metadata": {
    "ExecuteTime": {
     "end_time": "2021-11-23T12:16:48.032669Z",
     "start_time": "2021-11-23T12:16:48.001662Z"
    }
   },
   "outputs": [
    {
     "name": "stdout",
     "output_type": "stream",
     "text": [
      "X_train shape: (8120, 382) | X_test shape: (3480, 382)\n",
      "y_train mean: 0.2 | y_test mean: 0.2\n",
      "--------------------------------------------------\n",
      "Train set：\n",
      "0.0    0.795813\n",
      "1.0    0.204187\n",
      "Name: 细菌结果, dtype: float64\n",
      "Test set：\n",
      "0.0    0.79569\n",
      "1.0    0.20431\n",
      "Name: 细菌结果, dtype: float64\n"
     ]
    }
   ],
   "source": [
    "y = '细菌结果'\n",
    "\n",
    "# Stratified sampling\n",
    "df_train, df_test = train_test_split(df, test_size=0.3,\n",
    "                                     stratify=df[y], random_state=42)\n",
    "\n",
    "# print info\n",
    "\n",
    "print(\"X_train shape:\", df_train.drop(y, axis=1).shape,\n",
    "      \"| X_test shape:\", df_test.drop(y, axis=1).shape)\n",
    "print(\"y_train mean:\", round(\n",
    "    np.mean(df_train[y]), 2), \"| y_test mean:\", round(np.mean(df_test[y]), 2))\n",
    "\n",
    "print('-'*50)\n",
    "\n",
    "print(\"Train set：\")\n",
    "print(df_train[y].value_counts() / len(df_train[y]))\n",
    "print(\"Test set：\")\n",
    "print(df_test[y].value_counts() / len(df_test[y]))"
   ]
  },
  {
   "cell_type": "code",
   "execution_count": 5,
   "id": "bc5cc468",
   "metadata": {
    "ExecuteTime": {
     "end_time": "2021-11-23T12:16:48.366762Z",
     "start_time": "2021-11-23T12:16:48.351760Z"
    }
   },
   "outputs": [
    {
     "data": {
      "text/plain": [
       "<torch._C.Generator at 0x1f4cc613f10>"
      ]
     },
     "execution_count": 5,
     "metadata": {},
     "output_type": "execute_result"
    }
   ],
   "source": [
    "\n",
    "y_train = torch.tensor(df_train[y].values).unsqueeze(1)\n",
    "y_test = torch.tensor(df_test[y].values).unsqueeze(1)\n",
    "\n",
    "\n",
    "torch.manual_seed(33)\n",
    "device = torch.device('cuda' if torch.cuda.is_available() else 'cpu')\n",
    "\n",
    "# 设置一个固定值\n",
    "emb_szs = 100\n",
    "model = Logistic_Embedding_Model(df_train.drop(y, axis=1).shape[1], emb_szs)"
   ]
  },
  {
   "cell_type": "code",
   "execution_count": 6,
   "id": "7d8c26a1",
   "metadata": {
    "ExecuteTime": {
     "end_time": "2021-11-23T12:18:11.096853Z",
     "start_time": "2021-11-23T12:18:11.081849Z"
    }
   },
   "outputs": [],
   "source": [
    "# Define loss functions and optimizers\n",
    "loss_func = nn.BCELoss()\n",
    "optimizer = torch.optim.Adam(model.parameters(),lr = 0.001)\n",
    "epochs = 1000"
   ]
  },
  {
   "cell_type": "code",
   "execution_count": 7,
   "id": "26a0ce6d",
   "metadata": {},
   "outputs": [
    {
     "name": "stderr",
     "output_type": "stream",
     "text": [
      "100%|██████████| 1000/1000 [00:27<00:00, 36.41it/s, loss=0.385]\n"
     ]
    }
   ],
   "source": [
    "loss_list = []\n",
    "from tqdm import tqdm\n",
    "# Start training\n",
    "with tqdm(range(epochs)) as tq:\n",
    "    for epoch in tq:\n",
    "        out = model(torch.FloatTensor(df_train.drop(y, axis=1).values))\n",
    "        loss = loss_func(out,y_train.float())\n",
    "        print_loss = loss.data.item()\n",
    "        loss_list.append(loss)\n",
    "        mask = out.ge(0.5).float() \n",
    "        correct = (mask == y_train).sum()  \n",
    "        acc = correct.item() / len(y_train)  \n",
    "        \n",
    "        optimizer.zero_grad()\n",
    "        loss.backward()\n",
    "        optimizer.step()\n",
    "        \n",
    "        tq.set_postfix({'loss': '%.03f' % loss.item()}, refresh=False)\n",
    "        # if (epoch + 1) % 20 == 0:\n",
    "        #     print('*'*10)\n",
    "        #     print('epoch {}'.format(epoch+1)) \n",
    "        #     print('loss is {:.4f}'.format(print_loss))  \n",
    "        #     print('acc is {:.4f}'.format(acc))  "
   ]
  },
  {
   "cell_type": "code",
   "execution_count": 8,
   "id": "ab6efb3b",
   "metadata": {},
   "outputs": [],
   "source": [
    "# Get embedding\n",
    "df_emb = pd.DataFrame(model.embedding(torch.FloatTensor(df.drop(y, axis=1).values)).detach().numpy())   "
   ]
  },
  {
   "cell_type": "code",
   "execution_count": 9,
   "id": "3a74259b",
   "metadata": {},
   "outputs": [],
   "source": [
    "df_emb = pd.concat([df_emb, df[y]], axis=1)"
   ]
  },
  {
   "cell_type": "code",
   "execution_count": 10,
   "id": "17ea967e",
   "metadata": {
    "ExecuteTime": {
     "end_time": "2021-11-23T14:51:01.754875Z",
     "start_time": "2021-11-23T14:50:59.389341Z"
    }
   },
   "outputs": [],
   "source": [
    "df_file = \"data/Diarrhea_embed_100.tsv\"\n",
    "df_emb.to_csv(df_file, sep=\"\\t\", encoding=\"utf-8\")"
   ]
  },
  {
   "cell_type": "code",
   "execution_count": null,
   "id": "1d5db45b",
   "metadata": {},
   "outputs": [],
   "source": []
  }
 ],
 "metadata": {
  "interpreter": {
   "hash": "bb86b2e73e40408f6db468da6d9d0d4ea726460eb6a44d55f922f6aec4f641b6"
  },
  "kernelspec": {
   "display_name": "Python 3.8.8 ('base')",
   "language": "python",
   "name": "python3"
  },
  "language_info": {
   "codemirror_mode": {
    "name": "ipython",
    "version": 3
   },
   "file_extension": ".py",
   "mimetype": "text/x-python",
   "name": "python",
   "nbconvert_exporter": "python",
   "pygments_lexer": "ipython3",
   "version": "3.8.8"
  },
  "toc": {
   "base_numbering": 1,
   "nav_menu": {},
   "number_sections": true,
   "sideBar": true,
   "skip_h1_title": false,
   "title_cell": "Table of Contents",
   "title_sidebar": "Contents",
   "toc_cell": false,
   "toc_position": {},
   "toc_section_display": true,
   "toc_window_display": false
  },
  "varInspector": {
   "cols": {
    "lenName": 16,
    "lenType": 16,
    "lenVar": 40
   },
   "kernels_config": {
    "python": {
     "delete_cmd_postfix": "",
     "delete_cmd_prefix": "del ",
     "library": "var_list.py",
     "varRefreshCmd": "print(var_dic_list())"
    },
    "r": {
     "delete_cmd_postfix": ") ",
     "delete_cmd_prefix": "rm(",
     "library": "var_list.r",
     "varRefreshCmd": "cat(var_dic_list()) "
    }
   },
   "position": {
    "height": "688.854px",
    "left": "1040.09px",
    "right": "20px",
    "top": "74.9773px",
    "width": "441.004px"
   },
   "types_to_exclude": [
    "module",
    "function",
    "builtin_function_or_method",
    "instance",
    "_Feature"
   ],
   "window_display": false
  }
 },
 "nbformat": 4,
 "nbformat_minor": 5
}
