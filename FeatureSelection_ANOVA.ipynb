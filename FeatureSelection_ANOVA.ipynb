{
 "cells": [
  {
   "cell_type": "code",
   "execution_count": 232,
   "id": "69640370",
   "metadata": {
    "ExecuteTime": {
     "end_time": "2021-10-10T02:56:58.116286Z",
     "start_time": "2021-10-10T02:56:58.095091Z"
    }
   },
   "outputs": [],
   "source": [
    "# jupyter notebook 同时输出多行\n",
    "import import_ipynb\n",
    "from IPython.core.interactiveshell import InteractiveShell\n",
    "InteractiveShell.ast_node_interactivity = 'all'\n",
    "\n",
    "## for data\n",
    "import pandas as pd\n",
    "import numpy as np\n",
    "\n",
    "## for plotting\n",
    "import matplotlib.pyplot as plt\n",
    "import missingno as msno\n",
    "import seaborn as sns\n",
    "from pyecharts.charts import Bar, Line\n",
    "from pyecharts import options as opts\n",
    "\n",
    "# sns.set()\n",
    "\n",
    "## for statistical tests\n",
    "import scipy\n",
    "import statsmodels.formula.api as smf\n",
    "import statsmodels.api as sm\n",
    "\n",
    "## for machine learning\n",
    "from sklearn import model_selection, preprocessing, feature_selection, ensemble, linear_model, metrics, decomposition\n",
    "from sklearn.decomposition import PCA\n",
    "\n",
    "\n",
    "## for explainer\n",
    "# from lime import lime_tabular\n",
    "\n",
    "#jupyter notebook绘图设置\n",
    "%matplotlib inline\n",
    "# %config InlineBackend.figure_format=\"retina\"\n",
    "\n",
    "#解决中文显示问题\n",
    "plt.rcParams['font.sans-serif']=['SimHei']\n",
    "plt.rcParams['axes.unicode_minus'] = False\n",
    "\n",
    "# 不要发出警告\n",
    "import warnings\n",
    "warnings.filterwarnings('ignore') \n",
    "# 在画图的代码后面加上分号 ; 也可以不发出警告"
   ]
  },
  {
   "cell_type": "code",
   "execution_count": 233,
   "id": "ced306d7",
   "metadata": {
    "ExecuteTime": {
     "end_time": "2021-10-10T02:57:23.164986Z",
     "start_time": "2021-10-10T02:56:58.117285Z"
    },
    "scrolled": true
   },
   "outputs": [
    {
     "name": "stdout",
     "output_type": "stream",
     "text": [
      "(38168, 107)\n"
     ]
    },
    {
     "data": {
      "text/html": [
       "<div>\n",
       "<style scoped>\n",
       "    .dataframe tbody tr th:only-of-type {\n",
       "        vertical-align: middle;\n",
       "    }\n",
       "\n",
       "    .dataframe tbody tr th {\n",
       "        vertical-align: top;\n",
       "    }\n",
       "\n",
       "    .dataframe thead th {\n",
       "        text-align: right;\n",
       "    }\n",
       "</style>\n",
       "<table border=\"1\" class=\"dataframe\">\n",
       "  <thead>\n",
       "    <tr style=\"text-align: right;\">\n",
       "      <th></th>\n",
       "      <th>区县</th>\n",
       "      <th>医院</th>\n",
       "      <th>病例编号</th>\n",
       "      <th>初(复)诊</th>\n",
       "      <th>性别</th>\n",
       "      <th>出生年月</th>\n",
       "      <th>age</th>\n",
       "      <th>户籍</th>\n",
       "      <th>省</th>\n",
       "      <th>详细地址</th>\n",
       "      <th>...</th>\n",
       "      <th>细菌检测结果初次录入时间</th>\n",
       "      <th>细菌检测结果修订时间</th>\n",
       "      <th>样本接收时间(细菌)</th>\n",
       "      <th>病毒结果</th>\n",
       "      <th>Lab备注</th>\n",
       "      <th>病毒检测结果初次录入时间</th>\n",
       "      <th>病毒检测结果修订时间</th>\n",
       "      <th>样本接收时间(病毒)</th>\n",
       "      <th>Unnamed: 105</th>\n",
       "      <th>Unnamed: 106</th>\n",
       "    </tr>\n",
       "  </thead>\n",
       "  <tbody>\n",
       "    <tr>\n",
       "      <th>38163</th>\n",
       "      <td>青浦区</td>\n",
       "      <td>复旦大学附属中山医院青浦分院</td>\n",
       "      <td>11801201809647</td>\n",
       "      <td>初诊</td>\n",
       "      <td>Male</td>\n",
       "      <td>1940-11</td>\n",
       "      <td>77</td>\n",
       "      <td>本市常住</td>\n",
       "      <td>上海市</td>\n",
       "      <td>上海市青浦区重固镇</td>\n",
       "      <td>...</td>\n",
       "      <td>NaN</td>\n",
       "      <td>NaN</td>\n",
       "      <td>NaN</td>\n",
       "      <td>NaN</td>\n",
       "      <td>NaN</td>\n",
       "      <td>NaN</td>\n",
       "      <td>NaN</td>\n",
       "      <td>NaN</td>\n",
       "      <td>NaN</td>\n",
       "      <td>NaN</td>\n",
       "    </tr>\n",
       "    <tr>\n",
       "      <th>38164</th>\n",
       "      <td>青浦区</td>\n",
       "      <td>复旦大学附属中山医院青浦分院</td>\n",
       "      <td>11801201809646</td>\n",
       "      <td>初诊</td>\n",
       "      <td>Male</td>\n",
       "      <td>1997-11</td>\n",
       "      <td>20</td>\n",
       "      <td>本市外来（含港澳台）</td>\n",
       "      <td>上海市</td>\n",
       "      <td>上海市青浦区赵巷镇</td>\n",
       "      <td>...</td>\n",
       "      <td>NaN</td>\n",
       "      <td>NaN</td>\n",
       "      <td>NaN</td>\n",
       "      <td>NaN</td>\n",
       "      <td>NaN</td>\n",
       "      <td>NaN</td>\n",
       "      <td>NaN</td>\n",
       "      <td>NaN</td>\n",
       "      <td>NaN</td>\n",
       "      <td>NaN</td>\n",
       "    </tr>\n",
       "    <tr>\n",
       "      <th>38165</th>\n",
       "      <td>青浦区</td>\n",
       "      <td>复旦大学附属中山医院青浦分院</td>\n",
       "      <td>11801201809645</td>\n",
       "      <td>初诊</td>\n",
       "      <td>Female</td>\n",
       "      <td>1995-01</td>\n",
       "      <td>23</td>\n",
       "      <td>本市外来（含港澳台）</td>\n",
       "      <td>上海市</td>\n",
       "      <td>上海市青浦区盈浦街道</td>\n",
       "      <td>...</td>\n",
       "      <td>NaN</td>\n",
       "      <td>NaN</td>\n",
       "      <td>NaN</td>\n",
       "      <td>NaN</td>\n",
       "      <td>NaN</td>\n",
       "      <td>NaN</td>\n",
       "      <td>NaN</td>\n",
       "      <td>NaN</td>\n",
       "      <td>NaN</td>\n",
       "      <td>NaN</td>\n",
       "    </tr>\n",
       "    <tr>\n",
       "      <th>38166</th>\n",
       "      <td>青浦区</td>\n",
       "      <td>复旦大学附属中山医院青浦分院</td>\n",
       "      <td>11801201809644</td>\n",
       "      <td>初诊</td>\n",
       "      <td>Male</td>\n",
       "      <td>1984-09</td>\n",
       "      <td>33</td>\n",
       "      <td>本市外来（含港澳台）</td>\n",
       "      <td>上海市</td>\n",
       "      <td>上海市青浦区香花桥街道</td>\n",
       "      <td>...</td>\n",
       "      <td>NaN</td>\n",
       "      <td>NaN</td>\n",
       "      <td>NaN</td>\n",
       "      <td>阴性</td>\n",
       "      <td>NaN</td>\n",
       "      <td>2018-07-30</td>\n",
       "      <td>2018-07-30</td>\n",
       "      <td>NaN</td>\n",
       "      <td>NaN</td>\n",
       "      <td>NaN</td>\n",
       "    </tr>\n",
       "    <tr>\n",
       "      <th>38167</th>\n",
       "      <td>青浦区</td>\n",
       "      <td>复旦大学附属中山医院青浦分院</td>\n",
       "      <td>11801201809643</td>\n",
       "      <td>初诊</td>\n",
       "      <td>Female</td>\n",
       "      <td>1973-03</td>\n",
       "      <td>45</td>\n",
       "      <td>本市外来（含港澳台）</td>\n",
       "      <td>上海市</td>\n",
       "      <td>上海市青浦区赵巷镇</td>\n",
       "      <td>...</td>\n",
       "      <td>NaN</td>\n",
       "      <td>NaN</td>\n",
       "      <td>NaN</td>\n",
       "      <td>NaN</td>\n",
       "      <td>NaN</td>\n",
       "      <td>NaN</td>\n",
       "      <td>NaN</td>\n",
       "      <td>NaN</td>\n",
       "      <td>NaN</td>\n",
       "      <td>NaN</td>\n",
       "    </tr>\n",
       "  </tbody>\n",
       "</table>\n",
       "<p>5 rows × 107 columns</p>\n",
       "</div>"
      ],
      "text/plain": [
       "        区县              医院            病例编号 初(复)诊      性别     出生年月  age  \\\n",
       "38163  青浦区  复旦大学附属中山医院青浦分院  11801201809647    初诊    Male  1940-11   77   \n",
       "38164  青浦区  复旦大学附属中山医院青浦分院  11801201809646    初诊    Male  1997-11   20   \n",
       "38165  青浦区  复旦大学附属中山医院青浦分院  11801201809645    初诊  Female  1995-01   23   \n",
       "38166  青浦区  复旦大学附属中山医院青浦分院  11801201809644    初诊    Male  1984-09   33   \n",
       "38167  青浦区  复旦大学附属中山医院青浦分院  11801201809643    初诊  Female  1973-03   45   \n",
       "\n",
       "               户籍    省         详细地址  ... 细菌检测结果初次录入时间 细菌检测结果修订时间 样本接收时间(细菌)  \\\n",
       "38163        本市常住  上海市    上海市青浦区重固镇  ...          NaN        NaN        NaN   \n",
       "38164  本市外来（含港澳台）  上海市    上海市青浦区赵巷镇  ...          NaN        NaN        NaN   \n",
       "38165  本市外来（含港澳台）  上海市   上海市青浦区盈浦街道  ...          NaN        NaN        NaN   \n",
       "38166  本市外来（含港澳台）  上海市  上海市青浦区香花桥街道  ...          NaN        NaN        NaN   \n",
       "38167  本市外来（含港澳台）  上海市    上海市青浦区赵巷镇  ...          NaN        NaN        NaN   \n",
       "\n",
       "      病毒结果 Lab备注 病毒检测结果初次录入时间  病毒检测结果修订时间  样本接收时间(病毒) Unnamed: 105  \\\n",
       "38163  NaN   NaN          NaN         NaN         NaN          NaN   \n",
       "38164  NaN   NaN          NaN         NaN         NaN          NaN   \n",
       "38165  NaN   NaN          NaN         NaN         NaN          NaN   \n",
       "38166   阴性   NaN   2018-07-30  2018-07-30         NaN          NaN   \n",
       "38167  NaN   NaN          NaN         NaN         NaN          NaN   \n",
       "\n",
       "       Unnamed: 106  \n",
       "38163           NaN  \n",
       "38164           NaN  \n",
       "38165           NaN  \n",
       "38166           NaN  \n",
       "38167           NaN  \n",
       "\n",
       "[5 rows x 107 columns]"
      ]
     },
     "execution_count": 233,
     "metadata": {},
     "output_type": "execute_result"
    }
   ],
   "source": [
    "## 读取数据\n",
    "df = pd.read_excel('raw_data/腹泻病个案信息一览2017-2018.xlsx',\n",
    "                   sheet_name=0,\n",
    "                   engine='openpyxl')\n",
    "print(df.shape)\n",
    "\n",
    "df[\"性别\"] = df[\"性别\"].map(lambda x: x.strip())\n",
    "df[\"性别\"] = df[\"性别\"].map(lambda x: \"Male\" if x ==\"男\" or x==\"男性\" else \"Female\")\n",
    "df.tail()"
   ]
  },
  {
   "cell_type": "markdown",
   "id": "7242bfe3",
   "metadata": {},
   "source": [
    "# Data Analysis\n",
    "1. 删除缺失字段为 100% 的column\n",
    "2. 删除和分类无关的列"
   ]
  },
  {
   "cell_type": "code",
   "execution_count": 234,
   "id": "d7f9f7fb",
   "metadata": {
    "ExecuteTime": {
     "end_time": "2021-10-10T02:57:23.180994Z",
     "start_time": "2021-10-10T02:57:23.165987Z"
    }
   },
   "outputs": [
    {
     "data": {
      "text/plain": [
       "区县               object\n",
       "医院               object\n",
       "病例编号              int64\n",
       "初(复)诊            object\n",
       "性别               object\n",
       "                 ...   \n",
       "病毒检测结果初次录入时间     object\n",
       "病毒检测结果修订时间       object\n",
       "样本接收时间(病毒)      float64\n",
       "Unnamed: 105    float64\n",
       "Unnamed: 106    float64\n",
       "Length: 107, dtype: object"
      ]
     },
     "execution_count": 234,
     "metadata": {},
     "output_type": "execute_result"
    }
   ],
   "source": [
    "# 可视化查询缺失值\n",
    "# msno.matrix(df,figsize=(30,8))\n",
    "# p = msno.matrix(df,figsize=(40,12),labels=True)\n",
    "# p.figure.savefig('D:\\Dropbox\\论文\\图片\\missing_data.pdf')\n",
    "\n",
    "# 查看数据类型\n",
    "df.dtypes"
   ]
  },
  {
   "cell_type": "code",
   "execution_count": 235,
   "id": "0381cab3",
   "metadata": {
    "ExecuteTime": {
     "end_time": "2021-10-10T02:57:23.405044Z",
     "start_time": "2021-10-10T02:57:23.181994Z"
    }
   },
   "outputs": [
    {
     "name": "stdout",
     "output_type": "stream",
     "text": [
      "\n",
      "字段数据缺失比例\n",
      "区县                          0 %\n",
      "医院                          0 %\n",
      "病例编号                        0 %\n",
      "初(复)诊                      43 %\n",
      "性别                          0 %\n",
      "出生年月                        0 %\n",
      "age                         0 %\n",
      "户籍                          0 %\n",
      "省                           1 %\n",
      "详细地址                       14 %\n",
      "职业                          0 %\n",
      "就诊日期                        0 %\n",
      "就诊日期1                       0 %\n",
      "发病日期                        0 %\n",
      "首发症状                       17 %\n",
      "其他首发症状                    100 %\n",
      "发热                          0 %\n",
      "体温                         83 %\n",
      "脱水                          0 %\n",
      "脉搏                         99 %\n",
      "收缩压                        99 %\n",
      "舒张压                        99 %\n",
      "腹胀                          0 %\n",
      "恶心                          0 %\n",
      "里急后重                        0 %\n",
      "肠鸣音亢进                       0 %\n",
      "腹痛                          0 %\n",
      "腹痛性质                       48 %\n",
      "腹痛部位                       48 %\n",
      "呕吐                          0 %\n",
      "呕吐频次                       76 %\n",
      "呕吐在腹泻___发生                 80 %\n",
      "持续天数                       76 %\n",
      "腹泻                          0 %\n",
      "腹泻量                        15 %\n",
      "腹泻频次                        0 %\n",
      "腹泻天数                        1 %\n",
      "腹泻性质                        0 %\n",
      "局部感染                       85 %\n",
      "神经症状                       85 %\n",
      "中毒症状                       85 %\n",
      "其他症状                       85 %\n",
      "近6个月有无肠道疾病既往史               0 %\n",
      "最进发作时间                    100 %\n",
      "发病前五天内是否有不洁饮食史              0 %\n",
      "食品名称                       66 %\n",
      "食物分类                       61 %\n",
      "肉与肉制品                     100 %\n",
      "乳与乳制品                     100 %\n",
      "果蔬类                       100 %\n",
      "蛋与蛋制品                     100 %\n",
      "不明                        100 %\n",
      "谷类及制品                     100 %\n",
      "豆类及豆制品                    100 %\n",
      "海、河水产品                    100 %\n",
      "海水产品                      100 %\n",
      "淡水产品                      100 %\n",
      "其他食物                      100 %\n",
      "进餐地点                       66 %\n",
      "发病前5天内是否有不洁饮水史              0 %\n",
      "饮水分类                      100 %\n",
      "发病前5天内周边有无类似腹泻病例            0 %\n",
      "疑似病例人数                     85 %\n",
      "发病前5天内是否有聚餐史                0 %\n",
      "同食者人数                      99 %\n",
      "发病人数                       99 %\n",
      "聚餐日期                       99 %\n",
      "早中晚餐                       99 %\n",
      "聚餐地点                       98 %\n",
      "发病前一周是否外出                  11 %\n",
      "外出地点                       98 %\n",
      "外出时间                       98 %\n",
      "返回时间                       98 %\n",
      "是否家中饲养或接触过宠物               11 %\n",
      "就诊前是否服用过抗生素                 0 %\n",
      "抗生素名称                      94 %\n",
      "wbc                        59 %\n",
      "rbc                        61 %\n",
      "巨噬细胞                       91 %\n",
      "粘液                         92 %\n",
      "中性粒细胞                      68 %\n",
      "wbc.1                      69 %\n",
      "其他检测项目                     96 %\n",
      "病原学检测结果                    97 %\n",
      "诊断                          0 %\n",
      "其他诊断情况                    100 %\n",
      "诊断类型                       22 %\n",
      "临床处理                       12 %\n",
      "本次就诊是否给予抗生素                 0 %\n",
      "抗生素名称.1                    45 %\n",
      "是否采集                        0 %\n",
      "采样类型                        0 %\n",
      "延迟采样数                      88 %\n",
      "采集日期                        7 %\n",
      "样本送样日期                     14 %\n",
      "检测类型                      100 %\n",
      "细菌结果                       70 %\n",
      "细菌检测结果初次录入时间               70 %\n",
      "细菌检测结果修订时间                 76 %\n",
      "样本接收时间(细菌)                100 %\n",
      "病毒结果                       89 %\n",
      "Lab备注                     100 %\n",
      "病毒检测结果初次录入时间               83 %\n",
      "病毒检测结果修订时间                 89 %\n",
      "样本接收时间(病毒)                100 %\n",
      "Unnamed: 105              100 %\n",
      "Unnamed: 106              100 %\n",
      "\n",
      "更新后字段数据缺失比例\n",
      "区县                          0 %\n",
      "医院                          0 %\n",
      "病例编号                        0 %\n",
      "初(复)诊                      43 %\n",
      "性别                          0 %\n",
      "出生年月                        0 %\n",
      "age                         0 %\n",
      "户籍                          0 %\n",
      "省                           1 %\n",
      "详细地址                       14 %\n",
      "职业                          0 %\n",
      "就诊日期                        0 %\n",
      "就诊日期1                       0 %\n",
      "发病日期                        0 %\n",
      "首发症状                       17 %\n",
      "发热                          0 %\n",
      "体温                         83 %\n",
      "脱水                          0 %\n",
      "腹胀                          0 %\n",
      "恶心                          0 %\n",
      "里急后重                        0 %\n",
      "肠鸣音亢进                       0 %\n",
      "腹痛                          0 %\n",
      "腹痛性质                       48 %\n",
      "腹痛部位                       48 %\n",
      "呕吐                          0 %\n",
      "呕吐频次                       76 %\n",
      "呕吐在腹泻___发生                 80 %\n",
      "持续天数                       76 %\n",
      "腹泻                          0 %\n",
      "腹泻量                        15 %\n",
      "腹泻频次                        0 %\n",
      "腹泻天数                        1 %\n",
      "腹泻性质                        0 %\n",
      "局部感染                       85 %\n",
      "神经症状                       85 %\n",
      "中毒症状                       85 %\n",
      "其他症状                       85 %\n",
      "近6个月有无肠道疾病既往史               0 %\n",
      "发病前五天内是否有不洁饮食史              0 %\n",
      "食品名称                       66 %\n",
      "食物分类                       61 %\n",
      "进餐地点                       66 %\n",
      "发病前5天内是否有不洁饮水史              0 %\n",
      "发病前5天内周边有无类似腹泻病例            0 %\n",
      "疑似病例人数                     85 %\n",
      "发病前5天内是否有聚餐史                0 %\n",
      "聚餐地点                       98 %\n",
      "发病前一周是否外出                  11 %\n",
      "外出地点                       98 %\n",
      "外出时间                       98 %\n",
      "返回时间                       98 %\n",
      "是否家中饲养或接触过宠物               11 %\n",
      "就诊前是否服用过抗生素                 0 %\n",
      "抗生素名称                      94 %\n",
      "wbc                        59 %\n",
      "rbc                        61 %\n",
      "巨噬细胞                       91 %\n",
      "粘液                         92 %\n",
      "中性粒细胞                      68 %\n",
      "wbc.1                      69 %\n",
      "其他检测项目                     96 %\n",
      "病原学检测结果                    97 %\n",
      "诊断                          0 %\n",
      "诊断类型                       22 %\n",
      "临床处理                       12 %\n",
      "本次就诊是否给予抗生素                 0 %\n",
      "抗生素名称.1                    45 %\n",
      "是否采集                        0 %\n",
      "采样类型                        0 %\n",
      "延迟采样数                      88 %\n",
      "采集日期                        7 %\n",
      "样本送样日期                     14 %\n",
      "细菌结果                       70 %\n",
      "细菌检测结果初次录入时间               70 %\n",
      "细菌检测结果修订时间                 76 %\n",
      "病毒结果                       89 %\n",
      "病毒检测结果初次录入时间               83 %\n",
      "病毒检测结果修订时间                 89 %\n"
     ]
    }
   ],
   "source": [
    "columns = []\n",
    "## 显示缺失字段的比例\n",
    "print(\"\\n字段数据缺失比例\")\n",
    "for col in df.columns:\n",
    "    ratio = df[col].isnull().sum()/len(df)*100\n",
    "    print(f\"{col:25s} {ratio:3.0f} %\")\n",
    "    # 把缺失比例为 98% 的列删除\n",
    "    if ratio >= 98:\n",
    "        pass\n",
    "    else:\n",
    "        columns.append(col)\n",
    "\n",
    "print(\"\\n更新后字段数据缺失比例\")\n",
    "df = df[columns]\n",
    "for col in df.columns:\n",
    "    ratio = df[col].isnull().sum()/len(df)*100\n",
    "    print(f\"{col:25s} {ratio:3.0f} %\")"
   ]
  },
  {
   "cell_type": "markdown",
   "id": "7361b86a",
   "metadata": {},
   "source": [
    "## 提取所需列"
   ]
  },
  {
   "cell_type": "code",
   "execution_count": 236,
   "id": "0c2f639d",
   "metadata": {
    "ExecuteTime": {
     "end_time": "2021-10-10T02:57:23.709114Z",
     "start_time": "2021-10-10T02:57:23.406045Z"
    }
   },
   "outputs": [],
   "source": [
    "# 把所需要的列提取出来 \n",
    "X = [\"区县\",\"性别\",\"age\",\"户籍\", \"职业\", \"首发症状\", \"发热\",\"体温\",\"脱水\",\n",
    "     \"腹胀\",\"恶心\",\"里急后重\",\"肠鸣音亢进\",\"腹痛\",\"腹痛性质\",\"腹痛部位\",\"呕吐\",\"呕吐频次\",\"呕吐在腹泻___发生\",\"持续天数\",\n",
    "     \"腹泻\",\"腹泻量\",\"腹泻频次\",\"腹泻天数\",\"腹泻性质\",\"神经症状\",\"中毒症状\",\"其他症状\",\"近6个月有无肠道疾病既往史\",\n",
    "    \"发病前五天内是否有不洁饮食史\",\"食品名称\",\"食物分类\",\"进餐地点\",\"发病前5天内是否有不洁饮水史\",\"发病前5天内周边有无类似腹泻病例\",\"疑似病例人数\",\n",
    "    \"发病前5天内是否有聚餐史\",\"发病前一周是否外出\",\"是否家中饲养或接触过宠物\",\"就诊前是否服用过抗生素\",\n",
    "    \"诊断\",\"诊断类型\",\"临床处理\",\"本次就诊是否给予抗生素\",\"抗生素名称.1\",\"是否采集\",\"采样类型\"]\n",
    "y = [\"细菌结果\"]\n",
    "data = df[X + y]\n",
    "\n",
    "# 不知道为什么这里报错了，先 pass\n",
    "# # 简单的预处理: 把空格去掉\n",
    "# for column in X:\n",
    "#     if df[column].dtypes == \"object\":\n",
    "#         print(column)\n",
    "#         df[column] = df[column].map(lambda x: x.strip())\n",
    "\n",
    "\n",
    "# 把提取出来的数据存入新的 `tsv` 文件\n",
    "data_file = \"data\\腹泻_new.tsv\"\n",
    "data.to_csv(data_file, sep=\"\\t\", encoding=\"utf-8\")"
   ]
  },
  {
   "cell_type": "code",
   "execution_count": 237,
   "id": "932310b0",
   "metadata": {
    "ExecuteTime": {
     "end_time": "2021-10-10T02:57:23.901156Z",
     "start_time": "2021-10-10T02:57:23.710114Z"
    }
   },
   "outputs": [
    {
     "data": {
      "text/html": [
       "<div>\n",
       "<style scoped>\n",
       "    .dataframe tbody tr th:only-of-type {\n",
       "        vertical-align: middle;\n",
       "    }\n",
       "\n",
       "    .dataframe tbody tr th {\n",
       "        vertical-align: top;\n",
       "    }\n",
       "\n",
       "    .dataframe thead th {\n",
       "        text-align: right;\n",
       "    }\n",
       "</style>\n",
       "<table border=\"1\" class=\"dataframe\">\n",
       "  <thead>\n",
       "    <tr style=\"text-align: right;\">\n",
       "      <th></th>\n",
       "      <th>区县</th>\n",
       "      <th>性别</th>\n",
       "      <th>age</th>\n",
       "      <th>户籍</th>\n",
       "      <th>职业</th>\n",
       "      <th>首发症状</th>\n",
       "      <th>发热</th>\n",
       "      <th>体温</th>\n",
       "      <th>脱水</th>\n",
       "      <th>腹胀</th>\n",
       "      <th>...</th>\n",
       "      <th>是否家中饲养或接触过宠物</th>\n",
       "      <th>就诊前是否服用过抗生素</th>\n",
       "      <th>诊断</th>\n",
       "      <th>诊断类型</th>\n",
       "      <th>临床处理</th>\n",
       "      <th>本次就诊是否给予抗生素</th>\n",
       "      <th>抗生素名称.1</th>\n",
       "      <th>是否采集</th>\n",
       "      <th>采样类型</th>\n",
       "      <th>细菌结果</th>\n",
       "    </tr>\n",
       "  </thead>\n",
       "  <tbody>\n",
       "    <tr>\n",
       "      <th>0</th>\n",
       "      <td>闵行区</td>\n",
       "      <td>Male</td>\n",
       "      <td>28</td>\n",
       "      <td>本市外来（含港澳台）</td>\n",
       "      <td>干部职员</td>\n",
       "      <td>腹泻</td>\n",
       "      <td>有</td>\n",
       "      <td>37.0</td>\n",
       "      <td>无</td>\n",
       "      <td>有</td>\n",
       "      <td>...</td>\n",
       "      <td>否</td>\n",
       "      <td>否</td>\n",
       "      <td>慢性肠胃炎</td>\n",
       "      <td>临床诊断</td>\n",
       "      <td>NaN</td>\n",
       "      <td>是</td>\n",
       "      <td>其他(阿米卡星)</td>\n",
       "      <td>是</td>\n",
       "      <td>食源性采样</td>\n",
       "      <td>NaN</td>\n",
       "    </tr>\n",
       "    <tr>\n",
       "      <th>1</th>\n",
       "      <td>闵行区</td>\n",
       "      <td>Male</td>\n",
       "      <td>59</td>\n",
       "      <td>本市外来（含港澳台）</td>\n",
       "      <td>医务人员</td>\n",
       "      <td>腹痛,腹泻</td>\n",
       "      <td>无</td>\n",
       "      <td>NaN</td>\n",
       "      <td>无</td>\n",
       "      <td>有</td>\n",
       "      <td>...</td>\n",
       "      <td>否</td>\n",
       "      <td>否</td>\n",
       "      <td>胃肠炎</td>\n",
       "      <td>实验室诊断</td>\n",
       "      <td>NaN</td>\n",
       "      <td>否</td>\n",
       "      <td>NaN</td>\n",
       "      <td>是</td>\n",
       "      <td>食源性采样</td>\n",
       "      <td>其他弯曲菌,小肠结肠耶尔森菌</td>\n",
       "    </tr>\n",
       "    <tr>\n",
       "      <th>2</th>\n",
       "      <td>闵行区</td>\n",
       "      <td>Female</td>\n",
       "      <td>63</td>\n",
       "      <td>本市常住</td>\n",
       "      <td>离退人员</td>\n",
       "      <td>腹泻</td>\n",
       "      <td>无</td>\n",
       "      <td>NaN</td>\n",
       "      <td>无</td>\n",
       "      <td>无</td>\n",
       "      <td>...</td>\n",
       "      <td>否</td>\n",
       "      <td>否</td>\n",
       "      <td>急性胃肠炎</td>\n",
       "      <td>临床诊断</td>\n",
       "      <td>口服用药</td>\n",
       "      <td>否</td>\n",
       "      <td>NaN</td>\n",
       "      <td>否</td>\n",
       "      <td>未采样</td>\n",
       "      <td>NaN</td>\n",
       "    </tr>\n",
       "    <tr>\n",
       "      <th>3</th>\n",
       "      <td>闵行区</td>\n",
       "      <td>Male</td>\n",
       "      <td>81</td>\n",
       "      <td>本市常住</td>\n",
       "      <td>离退人员</td>\n",
       "      <td>腹泻</td>\n",
       "      <td>无</td>\n",
       "      <td>37.0</td>\n",
       "      <td>无</td>\n",
       "      <td>无</td>\n",
       "      <td>...</td>\n",
       "      <td>否</td>\n",
       "      <td>否</td>\n",
       "      <td>急性胃肠炎</td>\n",
       "      <td>临床诊断</td>\n",
       "      <td>口服用药</td>\n",
       "      <td>是</td>\n",
       "      <td>诺氟沙星</td>\n",
       "      <td>否</td>\n",
       "      <td>未采样</td>\n",
       "      <td>NaN</td>\n",
       "    </tr>\n",
       "    <tr>\n",
       "      <th>4</th>\n",
       "      <td>闵行区</td>\n",
       "      <td>Female</td>\n",
       "      <td>49</td>\n",
       "      <td>本市常住</td>\n",
       "      <td>干部职员</td>\n",
       "      <td>腹泻</td>\n",
       "      <td>无</td>\n",
       "      <td>NaN</td>\n",
       "      <td>无</td>\n",
       "      <td>无</td>\n",
       "      <td>...</td>\n",
       "      <td>否</td>\n",
       "      <td>否</td>\n",
       "      <td>急性胃肠炎</td>\n",
       "      <td>临床诊断</td>\n",
       "      <td>口服用药</td>\n",
       "      <td>否</td>\n",
       "      <td>NaN</td>\n",
       "      <td>是</td>\n",
       "      <td>腹泻病采样</td>\n",
       "      <td>NaN</td>\n",
       "    </tr>\n",
       "  </tbody>\n",
       "</table>\n",
       "<p>5 rows × 48 columns</p>\n",
       "</div>"
      ],
      "text/plain": [
       "    区县      性别  age          户籍    职业   首发症状 发热    体温 脱水 腹胀  ... 是否家中饲养或接触过宠物  \\\n",
       "0  闵行区    Male   28  本市外来（含港澳台）  干部职员     腹泻  有  37.0  无  有  ...            否   \n",
       "1  闵行区    Male   59  本市外来（含港澳台）  医务人员  腹痛,腹泻  无   NaN  无  有  ...            否   \n",
       "2  闵行区  Female   63        本市常住  离退人员     腹泻  无   NaN  无  无  ...            否   \n",
       "3  闵行区    Male   81        本市常住  离退人员     腹泻  无  37.0  无  无  ...            否   \n",
       "4  闵行区  Female   49        本市常住  干部职员     腹泻  无   NaN  无  无  ...            否   \n",
       "\n",
       "  就诊前是否服用过抗生素     诊断   诊断类型  临床处理 本次就诊是否给予抗生素   抗生素名称.1  是否采集   采样类型  \\\n",
       "0           否  慢性肠胃炎   临床诊断   NaN           是  其他(阿米卡星)     是  食源性采样   \n",
       "1           否    胃肠炎  实验室诊断   NaN           否       NaN     是  食源性采样   \n",
       "2           否  急性胃肠炎   临床诊断  口服用药           否       NaN     否    未采样   \n",
       "3           否  急性胃肠炎   临床诊断  口服用药           是      诺氟沙星     否    未采样   \n",
       "4           否  急性胃肠炎   临床诊断  口服用药           否       NaN     是  腹泻病采样   \n",
       "\n",
       "             细菌结果  \n",
       "0             NaN  \n",
       "1  其他弯曲菌,小肠结肠耶尔森菌  \n",
       "2             NaN  \n",
       "3             NaN  \n",
       "4             NaN  \n",
       "\n",
       "[5 rows x 48 columns]"
      ]
     },
     "execution_count": 237,
     "metadata": {},
     "output_type": "execute_result"
    }
   ],
   "source": [
    "# 读取文件\n",
    "data_file = \"data\\腹泻_new.tsv\"\n",
    "df = pd.read_csv(data_file, sep=\"\\t\", index_col=0, encoding=\"utf-8\")\n",
    "df.head()"
   ]
  },
  {
   "cell_type": "code",
   "execution_count": 238,
   "id": "a254a217",
   "metadata": {
    "ExecuteTime": {
     "end_time": "2021-10-10T02:57:25.545528Z",
     "start_time": "2021-10-10T02:57:23.902156Z"
    }
   },
   "outputs": [
    {
     "data": {
      "image/png": "[encoded data removed]",
      "text/plain": [
       "<Figure size 1800x720 with 2 Axes>"
      ]
     },
     "metadata": {
      "needs_background": "light"
     },
     "output_type": "display_data"
    }
   ],
   "source": [
    "# 可视化查询缺失值\n",
    "p = msno.matrix(df,figsize=(25,10),labels=True)\n",
    "p.figure.savefig('D:\\Dropbox\\论文\\图片\\missing_data.pdf',bbox_inches = 'tight')"
   ]
  },
  {
   "cell_type": "markdown",
   "id": "028e4844",
   "metadata": {},
   "source": [
    "## 区县分布，性别分布，年龄分布，户籍分布，职业分布"
   ]
  },
  {
   "cell_type": "code",
   "execution_count": 239,
   "id": "fb001e9f",
   "metadata": {
    "ExecuteTime": {
     "end_time": "2021-10-10T02:57:25.561534Z",
     "start_time": "2021-10-10T02:57:25.547529Z"
    }
   },
   "outputs": [],
   "source": [
    "# pros = df['区县']\n",
    "# pros_count = pros.value_counts().sort_values(ascending=False)\n",
    "\n",
    "def val_count(df, column):\n",
    "    column_count = df[column].value_counts().sort_values(ascending=False)\n",
    "    return column_count"
   ]
  },
  {
   "cell_type": "code",
   "execution_count": 240,
   "id": "9c221db4",
   "metadata": {
    "ExecuteTime": {
     "end_time": "2021-10-10T02:57:25.577537Z",
     "start_time": "2021-10-10T02:57:25.563534Z"
    },
    "scrolled": true
   },
   "outputs": [
    {
     "data": {
      "text/html": [
       "\n",
       "<script>\n",
       "    require.config({\n",
       "        paths: {\n",
       "            'echarts':'https://assets.pyecharts.org/assets/echarts.min'\n",
       "        }\n",
       "    });\n",
       "</script>\n",
       "\n",
       "        <div id=\"87230b024a41493292727457117438c0\" style=\"width:900px; height:500px;\"></div>\n",
       "\n",
       "<script>\n",
       "        require(['echarts'], function(echarts) {\n",
       "                var chart_87230b024a41493292727457117438c0 = echarts.init(\n",
       "                    document.getElementById('87230b024a41493292727457117438c0'), 'white', {renderer: 'canvas'});\n",
       "                var option_87230b024a41493292727457117438c0 = {\n",
       "    \"animation\": true,\n",
       "    \"animationThreshold\": 2000,\n",
       "    \"animationDuration\": 1000,\n",
       "    \"animationEasing\": \"cubicOut\",\n",
       "    \"animationDelay\": 0,\n",
       "    \"animationDurationUpdate\": 300,\n",
       "    \"animationEasingUpdate\": \"cubicOut\",\n",
       "    \"animationDelayUpdate\": 0,\n",
       "    \"color\": [\n",
       "        \"#c23531\",\n",
       "        \"#2f4554\",\n",
       "        \"#61a0a8\",\n",
       "        \"#d48265\",\n",
       "        \"#749f83\",\n",
       "        \"#ca8622\",\n",
       "        \"#bda29a\",\n",
       "        \"#6e7074\",\n",
       "        \"#546570\",\n",
       "        \"#c4ccd3\",\n",
       "        \"#f05b72\",\n",
       "        \"#ef5b9c\",\n",
       "        \"#f47920\",\n",
       "        \"#905a3d\",\n",
       "        \"#fab27b\",\n",
       "        \"#2a5caa\",\n",
       "        \"#444693\",\n",
       "        \"#726930\",\n",
       "        \"#b2d235\",\n",
       "        \"#6d8346\",\n",
       "        \"#ac6767\",\n",
       "        \"#1d953f\",\n",
       "        \"#6950a1\",\n",
       "        \"#918597\"\n",
       "    ],\n",
       "    \"series\": [\n",
       "        {\n",
       "            \"type\": \"bar\",\n",
       "            \"name\": \"\\u5c31\\u533b\\u4eba\\u6570\",\n",
       "            \"legendHoverLink\": true,\n",
       "            \"data\": [\n",
       "                19699,\n",
       "                18469\n",
       "            ],\n",
       "            \"showBackground\": false,\n",
       "            \"barMinHeight\": 0,\n",
       "            \"barCategoryGap\": \"20%\",\n",
       "            \"barGap\": \"0%\",\n",
       "            \"large\": false,\n",
       "            \"largeThreshold\": 400,\n",
       "            \"seriesLayoutBy\": \"column\",\n",
       "            \"datasetIndex\": 0,\n",
       "            \"clip\": true,\n",
       "            \"zlevel\": 0,\n",
       "            \"z\": 2,\n",
       "            \"label\": {\n",
       "                \"show\": true,\n",
       "                \"position\": \"top\",\n",
       "                \"rotate\": 0,\n",
       "                \"margin\": 8,\n",
       "                \"fontSize\": 10\n",
       "            },\n",
       "            \"itemStyle\": {\n",
       "                \"opacity\": \"0.5\"\n",
       "            }\n",
       "        }\n",
       "    ],\n",
       "    \"legend\": [\n",
       "        {\n",
       "            \"data\": [\n",
       "                \"\\u5c31\\u533b\\u4eba\\u6570\"\n",
       "            ],\n",
       "            \"selected\": {\n",
       "                \"\\u5c31\\u533b\\u4eba\\u6570\": true\n",
       "            },\n",
       "            \"show\": false,\n",
       "            \"padding\": 5,\n",
       "            \"itemGap\": 10,\n",
       "            \"itemWidth\": 25,\n",
       "            \"itemHeight\": 14\n",
       "        }\n",
       "    ],\n",
       "    \"tooltip\": {\n",
       "        \"show\": true,\n",
       "        \"trigger\": \"item\",\n",
       "        \"triggerOn\": \"mousemove|click\",\n",
       "        \"axisPointer\": {\n",
       "            \"type\": \"line\"\n",
       "        },\n",
       "        \"showContent\": true,\n",
       "        \"alwaysShowContent\": false,\n",
       "        \"showDelay\": 0,\n",
       "        \"hideDelay\": 100,\n",
       "        \"textStyle\": {\n",
       "            \"fontSize\": 14\n",
       "        },\n",
       "        \"borderWidth\": 0,\n",
       "        \"padding\": 5\n",
       "    },\n",
       "    \"xAxis\": [\n",
       "        {\n",
       "            \"name\": \"\\u6027\\u522b\",\n",
       "            \"show\": true,\n",
       "            \"scale\": false,\n",
       "            \"nameLocation\": \"center\",\n",
       "            \"nameGap\": 35,\n",
       "            \"gridIndex\": 0,\n",
       "            \"axisLabel\": {\n",
       "                \"show\": true,\n",
       "                \"position\": \"top\",\n",
       "                \"rotate\": 25,\n",
       "                \"margin\": 8,\n",
       "                \"fontSize\": 10\n",
       "            },\n",
       "            \"inverse\": false,\n",
       "            \"offset\": 0,\n",
       "            \"splitNumber\": 5,\n",
       "            \"minInterval\": 0,\n",
       "            \"splitLine\": {\n",
       "                \"show\": false,\n",
       "                \"lineStyle\": {\n",
       "                    \"show\": true,\n",
       "                    \"width\": 1,\n",
       "                    \"opacity\": 1,\n",
       "                    \"curveness\": 0,\n",
       "                    \"type\": \"solid\"\n",
       "                }\n",
       "            },\n",
       "            \"data\": [\n",
       "                \"Female\",\n",
       "                \"Male\"\n",
       "            ]\n",
       "        }\n",
       "    ],\n",
       "    \"yAxis\": [\n",
       "        {\n",
       "            \"show\": true,\n",
       "            \"scale\": false,\n",
       "            \"nameLocation\": \"end\",\n",
       "            \"nameGap\": 15,\n",
       "            \"gridIndex\": 0,\n",
       "            \"axisLabel\": {\n",
       "                \"show\": true,\n",
       "                \"position\": \"top\",\n",
       "                \"margin\": 8,\n",
       "                \"fontSize\": 10\n",
       "            },\n",
       "            \"inverse\": false,\n",
       "            \"offset\": 0,\n",
       "            \"splitNumber\": 5,\n",
       "            \"minInterval\": 0,\n",
       "            \"splitLine\": {\n",
       "                \"show\": false,\n",
       "                \"lineStyle\": {\n",
       "                    \"show\": true,\n",
       "                    \"width\": 1,\n",
       "                    \"opacity\": 1,\n",
       "                    \"curveness\": 0,\n",
       "                    \"type\": \"solid\"\n",
       "                }\n",
       "            }\n",
       "        }\n",
       "    ],\n",
       "    \"title\": [\n",
       "        {\n",
       "            \"padding\": 5,\n",
       "            \"itemGap\": 10\n",
       "        }\n",
       "    ]\n",
       "};\n",
       "                chart_87230b024a41493292727457117438c0.setOption(option_87230b024a41493292727457117438c0);\n",
       "        });\n",
       "    </script>\n"
      ],
      "text/plain": [
       "<pyecharts.render.display.HTML at 0x24b0d4ff3a0>"
      ]
     },
     "execution_count": 240,
     "metadata": {},
     "output_type": "execute_result"
    }
   ],
   "source": [
    "from pyecharts.charts import Bar\n",
    "from pyecharts import options as opts\n",
    "\n",
    "# 该函数的输入是一个 Series 格式的数据\n",
    "def bar_dist(data, title):\n",
    "    \"\"\"\n",
    "    --- input\n",
    "    data: data count (Type: pd.Series)\n",
    "    title: title of the figrue (Type: String)\n",
    "    --- return\n",
    "    bar: pyecharts object to show\n",
    "    \"\"\"\n",
    "    # 把 index 转换为列表\n",
    "    x = data.index.tolist()\n",
    "    y = data.tolist()\n",
    "    bar = (\n",
    "        Bar()\n",
    "        .add_xaxis(x)\n",
    "        .add_yaxis(\"就医人数\", y, gap=\"0%\", itemstyle_opts=opts.ItemStyleOpts(opacity=\"0.5\"),\n",
    "                   label_opts=opts.LabelOpts(rotate=0, font_size=10))\n",
    "        # 全局配置项\n",
    "        .set_global_opts(title_opts=opts.TitleOpts(title=title),\n",
    "                         xaxis_opts=opts.AxisOpts(name=data.name, \n",
    "                                                  name_location=\"center\",\n",
    "                                                  name_gap = 35,\n",
    "                                                  axislabel_opts=opts.LabelOpts(rotate=25, font_size=10)),\n",
    "                         yaxis_opts=opts.AxisOpts(axislabel_opts=opts.LabelOpts(font_size=10)),\n",
    "                         legend_opts=opts.LegendOpts(is_show=False))\n",
    "    )\n",
    "    return bar\n",
    "\n",
    "# columns = [\"区县\",\"性别\", \"户籍\",\"职业\"]\n",
    "columns = [\"性别\"]\n",
    "\n",
    "f = []\n",
    "for i, column in enumerate(columns):\n",
    "    count = val_count(df, column)\n",
    "    # f.append(bar_dist(count, title=f\"各{column}就医人数分布\"))\n",
    "    f.append(bar_dist(count, title=\"\"))\n",
    "    f[i].render_notebook()\n"
   ]
  },
  {
   "cell_type": "code",
   "execution_count": 241,
   "id": "e4ba7193",
   "metadata": {
    "ExecuteTime": {
     "end_time": "2021-10-10T02:57:25.673559Z",
     "start_time": "2021-10-10T02:57:25.578538Z"
    }
   },
   "outputs": [
    {
     "data": {
      "text/html": [
       "\n",
       "<script>\n",
       "    require.config({\n",
       "        paths: {\n",
       "            'echarts':'https://assets.pyecharts.org/assets/echarts.min'\n",
       "        }\n",
       "    });\n",
       "</script>\n",
       "\n",
       "        <div id=\"01c888cf039d41c993202f585b3f4318\" style=\"width:900px; height:500px;\"></div>\n",
       "\n",
       "<script>\n",
       "        require(['echarts'], function(echarts) {\n",
       "                var chart_01c888cf039d41c993202f585b3f4318 = echarts.init(\n",
       "                    document.getElementById('01c888cf039d41c993202f585b3f4318'), 'white', {renderer: 'canvas'});\n",
       "                var option_01c888cf039d41c993202f585b3f4318 = {\n",
       "    \"animation\": true,\n",
       "    \"animationThreshold\": 2000,\n",
       "    \"animationDuration\": 1000,\n",
       "    \"animationEasing\": \"cubicOut\",\n",
       "    \"animationDelay\": 0,\n",
       "    \"animationDurationUpdate\": 300,\n",
       "    \"animationEasingUpdate\": \"cubicOut\",\n",
       "    \"animationDelayUpdate\": 0,\n",
       "    \"color\": [\n",
       "        \"#c23531\",\n",
       "        \"#2f4554\",\n",
       "        \"#61a0a8\",\n",
       "        \"#d48265\",\n",
       "        \"#749f83\",\n",
       "        \"#ca8622\",\n",
       "        \"#bda29a\",\n",
       "        \"#6e7074\",\n",
       "        \"#546570\",\n",
       "        \"#c4ccd3\",\n",
       "        \"#f05b72\",\n",
       "        \"#ef5b9c\",\n",
       "        \"#f47920\",\n",
       "        \"#905a3d\",\n",
       "        \"#fab27b\",\n",
       "        \"#2a5caa\",\n",
       "        \"#444693\",\n",
       "        \"#726930\",\n",
       "        \"#b2d235\",\n",
       "        \"#6d8346\",\n",
       "        \"#ac6767\",\n",
       "        \"#1d953f\",\n",
       "        \"#6950a1\",\n",
       "        \"#918597\"\n",
       "    ],\n",
       "    \"series\": [\n",
       "        {\n",
       "            \"type\": \"bar\",\n",
       "            \"name\": \"\\u5c31\\u533b\\u4eba\\u6570\",\n",
       "            \"legendHoverLink\": true,\n",
       "            \"data\": [\n",
       "                932,\n",
       "                1118,\n",
       "                1770,\n",
       "                2677,\n",
       "                3639,\n",
       "                3380,\n",
       "                2911,\n",
       "                2051,\n",
       "                1454,\n",
       "                1155,\n",
       "                1153,\n",
       "                1050,\n",
       "                1231,\n",
       "                1773,\n",
       "                1894,\n",
       "                2334,\n",
       "                1972,\n",
       "                1538,\n",
       "                1152,\n",
       "                817,\n",
       "                589,\n",
       "                479,\n",
       "                481,\n",
       "                339,\n",
       "                167,\n",
       "                71,\n",
       "                33,\n",
       "                6\n",
       "            ],\n",
       "            \"showBackground\": false,\n",
       "            \"barMinHeight\": 0,\n",
       "            \"barCategoryGap\": \"20%\",\n",
       "            \"barGap\": \"0%\",\n",
       "            \"large\": false,\n",
       "            \"largeThreshold\": 400,\n",
       "            \"seriesLayoutBy\": \"column\",\n",
       "            \"datasetIndex\": 0,\n",
       "            \"clip\": true,\n",
       "            \"zlevel\": 0,\n",
       "            \"z\": 2,\n",
       "            \"label\": {\n",
       "                \"show\": true,\n",
       "                \"position\": \"top\",\n",
       "                \"rotate\": 0,\n",
       "                \"margin\": 8,\n",
       "                \"fontSize\": 10\n",
       "            },\n",
       "            \"itemStyle\": {\n",
       "                \"opacity\": \"0.5\"\n",
       "            }\n",
       "        }\n",
       "    ],\n",
       "    \"legend\": [\n",
       "        {\n",
       "            \"data\": [\n",
       "                \"\\u5c31\\u533b\\u4eba\\u6570\"\n",
       "            ],\n",
       "            \"selected\": {\n",
       "                \"\\u5c31\\u533b\\u4eba\\u6570\": true\n",
       "            },\n",
       "            \"show\": false,\n",
       "            \"padding\": 5,\n",
       "            \"itemGap\": 10,\n",
       "            \"itemWidth\": 25,\n",
       "            \"itemHeight\": 14\n",
       "        }\n",
       "    ],\n",
       "    \"tooltip\": {\n",
       "        \"show\": true,\n",
       "        \"trigger\": \"item\",\n",
       "        \"triggerOn\": \"mousemove|click\",\n",
       "        \"axisPointer\": {\n",
       "            \"type\": \"line\"\n",
       "        },\n",
       "        \"showContent\": true,\n",
       "        \"alwaysShowContent\": false,\n",
       "        \"showDelay\": 0,\n",
       "        \"hideDelay\": 100,\n",
       "        \"textStyle\": {\n",
       "            \"fontSize\": 14\n",
       "        },\n",
       "        \"borderWidth\": 0,\n",
       "        \"padding\": 5\n",
       "    },\n",
       "    \"xAxis\": [\n",
       "        {\n",
       "            \"name\": \"age\",\n",
       "            \"show\": true,\n",
       "            \"scale\": false,\n",
       "            \"nameLocation\": \"center\",\n",
       "            \"nameGap\": 20,\n",
       "            \"gridIndex\": 0,\n",
       "            \"axisLabel\": {\n",
       "                \"show\": true,\n",
       "                \"position\": \"top\",\n",
       "                \"rotate\": 0,\n",
       "                \"margin\": 8,\n",
       "                \"fontSize\": 10\n",
       "            },\n",
       "            \"inverse\": false,\n",
       "            \"offset\": 0,\n",
       "            \"splitNumber\": 5,\n",
       "            \"minInterval\": 0,\n",
       "            \"splitLine\": {\n",
       "                \"show\": false,\n",
       "                \"lineStyle\": {\n",
       "                    \"show\": true,\n",
       "                    \"width\": 1,\n",
       "                    \"opacity\": 1,\n",
       "                    \"curveness\": 0,\n",
       "                    \"type\": \"solid\"\n",
       "                }\n",
       "            },\n",
       "            \"data\": [\n",
       "                15,\n",
       "                18,\n",
       "                21,\n",
       "                24,\n",
       "                27,\n",
       "                30,\n",
       "                33,\n",
       "                36,\n",
       "                39,\n",
       "                42,\n",
       "                45,\n",
       "                48,\n",
       "                51,\n",
       "                54,\n",
       "                57,\n",
       "                60,\n",
       "                63,\n",
       "                66,\n",
       "                69,\n",
       "                72,\n",
       "                75,\n",
       "                78,\n",
       "                81,\n",
       "                84,\n",
       "                87,\n",
       "                90,\n",
       "                93,\n",
       "                96,\n",
       "                99\n",
       "            ]\n",
       "        }\n",
       "    ],\n",
       "    \"yAxis\": [\n",
       "        {\n",
       "            \"show\": true,\n",
       "            \"scale\": false,\n",
       "            \"nameLocation\": \"end\",\n",
       "            \"nameGap\": 15,\n",
       "            \"gridIndex\": 0,\n",
       "            \"axisLabel\": {\n",
       "                \"show\": true,\n",
       "                \"position\": \"top\",\n",
       "                \"margin\": 8,\n",
       "                \"fontSize\": 10\n",
       "            },\n",
       "            \"inverse\": false,\n",
       "            \"offset\": 0,\n",
       "            \"splitNumber\": 5,\n",
       "            \"minInterval\": 0,\n",
       "            \"splitLine\": {\n",
       "                \"show\": false,\n",
       "                \"lineStyle\": {\n",
       "                    \"show\": true,\n",
       "                    \"width\": 1,\n",
       "                    \"opacity\": 1,\n",
       "                    \"curveness\": 0,\n",
       "                    \"type\": \"solid\"\n",
       "                }\n",
       "            }\n",
       "        }\n",
       "    ],\n",
       "    \"title\": [\n",
       "        {\n",
       "            \"text\": \"\\u5c31\\u533b\\u60a3\\u8005\\u5e74\\u9f84\\u5206\\u5e03\\u76f4\\u65b9\\u56fe\",\n",
       "            \"padding\": 5,\n",
       "            \"itemGap\": 10\n",
       "        }\n",
       "    ]\n",
       "};\n",
       "                chart_01c888cf039d41c993202f585b3f4318.setOption(option_01c888cf039d41c993202f585b3f4318);\n",
       "        });\n",
       "    </script>\n"
      ],
      "text/plain": [
       "<pyecharts.render.display.HTML at 0x24b0fbb6b80>"
      ]
     },
     "execution_count": 241,
     "metadata": {},
     "output_type": "execute_result"
    }
   ],
   "source": [
    "## 直方图\n",
    "# 准备数据\n",
    "import matplotlib.mlab as mlab\n",
    "def data_hist(df, column, interval):\n",
    "    \"\"\"\n",
    "    interval(int): 区间\n",
    "    output: 两个列表 x_axis, count\n",
    "    \"\"\"\n",
    "    # x 轴上的每一个点\n",
    "    x_axis = [\n",
    "        df[column].min() + i * interval\n",
    "        for i in range(int(df[column].max() - df[column].min()) // interval + 1)\n",
    "    ]\n",
    "    # 统计每个间隔内的人数\n",
    "    count = [\n",
    "        len(df[(x_axis[i] <= df[column]) & (df[column] < x_axis[i + 1])])\n",
    "        for i in range(len(x_axis) - 1)\n",
    "    ]\n",
    "    return x_axis, count\n",
    "\n",
    "\n",
    "# 绘制图像\n",
    "# 输入两个列表\n",
    "def figure_hist(x_axis, count, title=\"\"):\n",
    "    bar = (\n",
    "        Bar()\n",
    "        .add_xaxis(x_axis)\n",
    "        .add_yaxis(\"就医人数\", count, gap=\"0%\", itemstyle_opts=opts.ItemStyleOpts(opacity=\"0.5\"),\n",
    "                   label_opts=opts.LabelOpts(rotate=0, font_size=10))\n",
    "        # 全局配置项\n",
    "        .set_global_opts(title_opts=opts.TitleOpts(title=title),\n",
    "                         xaxis_opts=opts.AxisOpts(name=df[column].name, \n",
    "                                                  name_location=\"center\",\n",
    "                                                  name_gap = 20,\n",
    "                                                  axislabel_opts=opts.LabelOpts(rotate=0, font_size=10)),\n",
    "                         yaxis_opts=opts.AxisOpts(axislabel_opts=opts.LabelOpts(font_size=10)),\n",
    "                         legend_opts=opts.LegendOpts(is_show=False))\n",
    "    )\n",
    "    return bar\n",
    "\n",
    "\n",
    "## 绘制图像\n",
    "column = \"age\"\n",
    "age_axis, count= data_hist(df, column, 3)\n",
    "f1 = figure_hist(age_axis, count, \"就医患者年龄分布直方图\")\n",
    "f1.render_notebook()"
   ]
  },
  {
   "cell_type": "code",
   "execution_count": 242,
   "id": "d292df3f",
   "metadata": {
    "ExecuteTime": {
     "end_time": "2021-10-10T02:57:26.184674Z",
     "start_time": "2021-10-10T02:57:25.674559Z"
    }
   },
   "outputs": [
    {
     "data": {
      "text/plain": [
       "<Figure size 936x576 with 0 Axes>"
      ]
     },
     "execution_count": 242,
     "metadata": {},
     "output_type": "execute_result"
    },
    {
     "data": {
      "text/plain": [
       "<matplotlib.legend.Legend at 0x24b10c95fa0>"
      ]
     },
     "execution_count": 242,
     "metadata": {},
     "output_type": "execute_result"
    },
    {
     "data": {
      "text/plain": [
       "[None, None, None, None, None, None, None, None, None, None, None, None, None]"
      ]
     },
     "execution_count": 242,
     "metadata": {},
     "output_type": "execute_result"
    },
    {
     "data": {
      "text/plain": [
       "Text(0.5, 0, 'Age')"
      ]
     },
     "execution_count": 242,
     "metadata": {},
     "output_type": "execute_result"
    },
    {
     "data": {
      "text/plain": [
       "Text(0, 0.5, 'Density')"
      ]
     },
     "execution_count": 242,
     "metadata": {},
     "output_type": "execute_result"
    },
    {
     "data": {
      "image/png": "[encoded data removed]",
      "text/plain": [
       "<Figure size 936x576 with 1 Axes>"
      ]
     },
     "metadata": {
      "needs_background": "light"
     },
     "output_type": "display_data"
    }
   ],
   "source": [
    "## 直方图查看患者年龄分布\n",
    "plt.figure(figsize=(13, 8))\n",
    "x = \"age\"\n",
    "\n",
    "\n",
    "p = sns.distplot(df[x], bins=80,hist_kws={'label':'hist', 'edgecolor': 'black'},\n",
    "                     kde_kws={'color':'red','label':'KDE'},\n",
    "                 );\n",
    "\n",
    "#设置图例并且设置图例的字体及大小\n",
    "font1 = {'family' : 'Times New Roman',\n",
    "'weight' : 'normal',\n",
    "'size'   : 18,\n",
    "}\n",
    "p.legend(prop=font1,loc='best')\n",
    "\n",
    "#设置坐标刻度值的大小以及刻度值的字体\n",
    "p.tick_params(labelsize=18)\n",
    "labels = p.get_xticklabels() + p.get_yticklabels()\n",
    "[label.set_fontname('Times New Roman') for label in labels]\n",
    " \n",
    "#设置横纵坐标的名称以及对应字体格式\n",
    "font2 = {'family' : 'Times New Roman',\n",
    "'weight' : 'normal',\n",
    "'size'   : 20,\n",
    "}\n",
    "p.set_xlabel('Age',font2)\n",
    "p.set_ylabel('Density',font2)\n",
    "p.figure.savefig('D:/Dropbox/论文/图片/age.pdf',bbox_inches = 'tight')"
   ]
  },
  {
   "cell_type": "code",
   "execution_count": 243,
   "id": "ea5a7cf3",
   "metadata": {
    "ExecuteTime": {
     "end_time": "2021-10-10T02:57:26.343713Z",
     "start_time": "2021-10-10T02:57:26.185675Z"
    }
   },
   "outputs": [
    {
     "data": {
      "text/plain": [
       "<Figure size 504x360 with 0 Axes>"
      ]
     },
     "execution_count": 243,
     "metadata": {},
     "output_type": "execute_result"
    },
    {
     "data": {
      "text/plain": [
       "[None, None, None, None, None, None, None, None]"
      ]
     },
     "execution_count": 243,
     "metadata": {},
     "output_type": "execute_result"
    },
    {
     "data": {
      "text/plain": [
       "Text(0.5, 0, 'Sex')"
      ]
     },
     "execution_count": 243,
     "metadata": {},
     "output_type": "execute_result"
    },
    {
     "data": {
      "text/plain": [
       "Text(0, 0.5, 'Count')"
      ]
     },
     "execution_count": 243,
     "metadata": {},
     "output_type": "execute_result"
    },
    {
     "data": {
      "image/png": "[encoded data removed]",
      "text/plain": [
       "<Figure size 504x360 with 1 Axes>"
      ]
     },
     "metadata": {
      "needs_background": "light"
     },
     "output_type": "display_data"
    }
   ],
   "source": [
    "plt.figure(figsize=(7, 5))\n",
    "p = sns.countplot(x=\"性别\", data=df,palette=\"Blues_d\")\n",
    "\n",
    "#设置坐标刻度值的大小以及刻度值的字体\n",
    "p.tick_params(labelsize=18)\n",
    "labels = p.get_xticklabels() + p.get_yticklabels()\n",
    "[label.set_fontname('Times New Roman') for label in labels]\n",
    " \n",
    "#设置横纵坐标的名称以及对应字体格式\n",
    "font2 = {'family' : 'Times New Roman',\n",
    "'weight' : 'normal',\n",
    "'size'   : 20,\n",
    "}\n",
    "# p.set_xticklabels(['Male','Female'])\n",
    "p.set_xlabel('Gender',font2)\n",
    "p.set_ylabel('Count',font2)\n",
    "p.figure.savefig('D:/Dropbox/论文/图片/sex.pdf',bbox_inches = 'tight')"
   ]
  },
  {
   "cell_type": "markdown",
   "id": "025fa108",
   "metadata": {},
   "source": [
    "## 缺失值填充\n",
    "1. 以\"细菌结果\"为例，先删除\"细菌结果\"列为空值的行\n",
    "2. 对其他列进行缺失值填充：连续数据，分类数据\n",
    "\n",
    "### 连续数据\n"
   ]
  },
  {
   "cell_type": "code",
   "execution_count": 244,
   "id": "4e2eb6db",
   "metadata": {
    "ExecuteTime": {
     "end_time": "2021-10-10T02:57:26.407727Z",
     "start_time": "2021-10-10T02:57:26.344713Z"
    }
   },
   "outputs": [
    {
     "name": "stdout",
     "output_type": "stream",
     "text": [
      "<class 'pandas.core.frame.DataFrame'>\n",
      "Int64Index: 38168 entries, 0 to 38167\n",
      "Data columns (total 48 columns):\n",
      " #   Column            Non-Null Count  Dtype  \n",
      "---  ------            --------------  -----  \n",
      " 0   区县                38168 non-null  object \n",
      " 1   性别                38168 non-null  object \n",
      " 2   age               38168 non-null  int64  \n",
      " 3   户籍                38168 non-null  object \n",
      " 4   职业                38067 non-null  object \n",
      " 5   首发症状              31524 non-null  object \n",
      " 6   发热                38168 non-null  object \n",
      " 7   体温                6315 non-null   float64\n",
      " 8   脱水                38168 non-null  object \n",
      " 9   腹胀                38168 non-null  object \n",
      " 10  恶心                38168 non-null  object \n",
      " 11  里急后重              38168 non-null  object \n",
      " 12  肠鸣音亢进             38168 non-null  object \n",
      " 13  腹痛                38168 non-null  object \n",
      " 14  腹痛性质              19962 non-null  object \n",
      " 15  腹痛部位              19990 non-null  object \n",
      " 16  呕吐                38168 non-null  object \n",
      " 17  呕吐频次              9049 non-null   float64\n",
      " 18  呕吐在腹泻___发生        7451 non-null   object \n",
      " 19  持续天数              9045 non-null   float64\n",
      " 20  腹泻                38168 non-null  object \n",
      " 21  腹泻量               32492 non-null  float64\n",
      " 22  腹泻频次              37979 non-null  float64\n",
      " 23  腹泻天数              37970 non-null  float64\n",
      " 24  腹泻性质              37979 non-null  object \n",
      " 25  神经症状              5808 non-null   object \n",
      " 26  中毒症状              5780 non-null   object \n",
      " 27  其他症状              5768 non-null   object \n",
      " 28  近6个月有无肠道疾病既往史     38168 non-null  object \n",
      " 29  发病前五天内是否有不洁饮食史    38168 non-null  object \n",
      " 30  食品名称              12976 non-null  object \n",
      " 31  食物分类              15050 non-null  object \n",
      " 32  进餐地点              13111 non-null  object \n",
      " 33  发病前5天内是否有不洁饮水史    38168 non-null  object \n",
      " 34  发病前5天内周边有无类似腹泻病例  38168 non-null  object \n",
      " 35  疑似病例人数            5593 non-null   float64\n",
      " 36  发病前5天内是否有聚餐史      38168 non-null  object \n",
      " 37  发病前一周是否外出         33816 non-null  object \n",
      " 38  是否家中饲养或接触过宠物      33813 non-null  object \n",
      " 39  就诊前是否服用过抗生素       38168 non-null  object \n",
      " 40  诊断                38168 non-null  object \n",
      " 41  诊断类型              29924 non-null  object \n",
      " 42  临床处理              33599 non-null  object \n",
      " 43  本次就诊是否给予抗生素       38168 non-null  object \n",
      " 44  抗生素名称.1           21036 non-null  object \n",
      " 45  是否采集              38167 non-null  object \n",
      " 46  采样类型              38168 non-null  object \n",
      " 47  细菌结果              11600 non-null  object \n",
      "dtypes: float64(7), int64(1), object(40)\n",
      "memory usage: 15.3+ MB\n",
      "(11600, 48)\n",
      "呕吐频次列缺失数-1 0\n",
      "呕吐频次列缺失数-2 0\n"
     ]
    }
   ],
   "source": [
    "df.info()\n",
    "\n",
    "## 删除\"细菌结果\"列为空值的行\n",
    "df.dropna(axis=0, how='any',subset=['细菌结果'], inplace=True)\n",
    "print(df.shape)\n",
    "\n",
    "## 缺失值填充\n",
    "# 1. 连续数据类 --> 均值、众数\n",
    "# int/flaot：age，体温，呕吐频次，持续天数，腹泻量，腹泻频次，腹泻天数，疑似病例人数\n",
    "df[\"age\"].fillna(df[\"age\"].mean(), inplace=True)\n",
    "## 直方图查看患者年龄分布\n",
    "# x = \"age\"\n",
    "# sns.distplot(df[x], bins=50)\n",
    "\n",
    "df[\"体温\"].fillna(df[\"体温\"].mode()[0], inplace=True)\n",
    "\n",
    "# \"呕吐频次\" 与前一列 \"呕吐\" 的值相关：\n",
    "# 如果 \"呕吐\"=\"无\" --> \"呕吐频次\"=0; \n",
    "df.loc[df['呕吐']==\"无\", '呕吐频次'] = 0\n",
    "print(\"呕吐频次列缺失数-1\", df['呕吐频次'].isnull().sum())\n",
    "# 如果 \"呕吐\"=\"有\"且 \"呕吐频次\" 为空值--> \"呕吐频次\"=1\n",
    "df['呕吐频次'].fillna(1, inplace=True)\n",
    "print(\"呕吐频次列缺失数-2\", df['呕吐频次'].isnull().sum())\n",
    "# df['涨跌'].replace([-1,0,1], ['跌','平','涨'], inplace = True) "
   ]
  },
  {
   "cell_type": "code",
   "execution_count": 245,
   "id": "bba185cd",
   "metadata": {
    "ExecuteTime": {
     "end_time": "2021-10-10T02:57:26.423731Z",
     "start_time": "2021-10-10T02:57:26.408727Z"
    }
   },
   "outputs": [
    {
     "name": "stdout",
     "output_type": "stream",
     "text": [
      "持续天数列缺失数-1 2\n",
      "持续天数列缺失数-2 0\n"
     ]
    }
   ],
   "source": [
    "# “持续天数” 也是和 \"呕吐\"列有关\n",
    "# 如果 \"呕吐\"=\"无\" --> \"持续天数\"=0; \n",
    "df.loc[df['呕吐']==\"无\", '持续天数'] = 0\n",
    "print(\"持续天数列缺失数-1\", df['持续天数'].isnull().sum())\n",
    "# 如果 \"呕吐\"=\"有\"且 \"持续天数\" 为空值--> \"持续天数\"=1\n",
    "df['持续天数'].fillna(1, inplace=True)\n",
    "print(\"持续天数列缺失数-2\", df['持续天数'].isnull().sum())"
   ]
  },
  {
   "cell_type": "code",
   "execution_count": 246,
   "id": "99142b3b",
   "metadata": {
    "ExecuteTime": {
     "end_time": "2021-10-10T02:57:26.439735Z",
     "start_time": "2021-10-10T02:57:26.424732Z"
    }
   },
   "outputs": [
    {
     "name": "stdout",
     "output_type": "stream",
     "text": [
      "腹泻量缺失数-1 2661\n",
      "腹泻量缺失数-2 0\n",
      "腹泻频次缺失数-1 0\n",
      "腹泻频次缺失数-2 0\n",
      "腹泻天数缺失数-1 3\n",
      "腹泻天数缺失数-2 0\n"
     ]
    }
   ],
   "source": [
    "# \"腹泻量\",\"腹泻频次\",\"腹泻天数\" 都和 \"腹泻\"栏的值相关\n",
    "# 如果 \"腹泻\" == \"无\"，则前三列都为 0\n",
    "columns = [\"腹泻量\",\"腹泻频次\",\"腹泻天数\"]\n",
    "for column in columns:  \n",
    "    df.loc[df['腹泻']==\"无\", column] = 0\n",
    "    print(f\"{column}缺失数-1\", df[column].isnull().sum())\n",
    "    # 如果 \"腹泻\" == \"有\"且 \"腹泻量\"为空值，腹泻量用均值填充\n",
    "    df[column].fillna(df[column].mean(), inplace=True)\n",
    "    print(f\"{column}缺失数-2\", df[column].isnull().sum())"
   ]
  },
  {
   "cell_type": "code",
   "execution_count": 247,
   "id": "2b301fe8",
   "metadata": {
    "ExecuteTime": {
     "end_time": "2021-10-10T02:57:26.455738Z",
     "start_time": "2021-10-10T02:57:26.440735Z"
    }
   },
   "outputs": [],
   "source": [
    "## map 用法\n",
    "# 1. 使用字典进行映射\n",
    "# data[\"gender\"] = data[\"gender\"].map({\"男\":1, \"女\":0})\n",
    "# 2. 使用函数\n",
    "# def gender_map(x):\n",
    "#     gender = 1 if x == \"男\" else 0\n",
    "#     return gender\n",
    "## 注意这里传入的是函数名，不带括号\n",
    "# data[\"gender\"] = data[\"gender\"].map(gender_map)\n",
    "\n",
    "## apply 用法\n",
    "# apply 方法的作用原理和 map 方法类似，区别在于 apply 能够传入功能更为复杂的函数\n",
    "# apply 接受的函数可以有多个参数\n",
    "# def apply_age(x,bias):\n",
    "#     return x+bias\n",
    "# #以元组的方式传入额外的参数\n",
    "# data[\"age\"] = data[\"age\"].apply(apply_age,args=(-3,))"
   ]
  },
  {
   "cell_type": "code",
   "execution_count": 248,
   "id": "1cfdf518",
   "metadata": {
    "ExecuteTime": {
     "end_time": "2021-10-10T02:57:26.471743Z",
     "start_time": "2021-10-10T02:57:26.456738Z"
    }
   },
   "outputs": [
    {
     "name": "stdout",
     "output_type": "stream",
     "text": [
      "疑似病例人数列缺失数-1 0\n",
      "疑似病例人数列缺失数-2 0\n"
     ]
    }
   ],
   "source": [
    "# \"疑似病例人数\" 与前一列 \"发病前5天内周边有无类似腹泻病例\" 的值相关\n",
    "# 先把 \"发病前5天内周边有无类似腹泻病例\" 列的值处理一下：否 无 是 有\n",
    "def yes_no(x):\n",
    "    \"\"\"\n",
    "    统一说法:\n",
    "    否 无 --> 无\n",
    "    是 有 --> 有\n",
    "    \"\"\"\n",
    "    if x==\"否\" or x==\"无\":\n",
    "        return \"无\"\n",
    "    else:\n",
    "        return \"有\"\n",
    "df['发病前5天内周边有无类似腹泻病例'] = df['发病前5天内周边有无类似腹泻病例'].map(yes_no)\n",
    "\n",
    "# 如果 \"发病前5天内周边有无类似腹泻病例\"=\"无\" --> \"疑似病例人数\"=0; \n",
    "df.loc[df['发病前5天内周边有无类似腹泻病例']==\"无\", '疑似病例人数'] = 0\n",
    "print(\"疑似病例人数列缺失数-1\", df['疑似病例人数'].isnull().sum())\n",
    "# 如果 \"发病前5天内周边有无类似腹泻病例\"=\"有\"且 \"持续天数\" 为空值--> \"疑似病例人数\"=1\n",
    "df['疑似病例人数'].fillna(1, inplace=True)\n",
    "print(\"疑似病例人数列缺失数-2\", df['疑似病例人数'].isnull().sum())"
   ]
  },
  {
   "cell_type": "markdown",
   "id": "b68de6b2",
   "metadata": {},
   "source": [
    "### 分类数据"
   ]
  },
  {
   "cell_type": "code",
   "execution_count": 249,
   "id": "992f0733",
   "metadata": {
    "ExecuteTime": {
     "end_time": "2021-10-10T02:57:26.502749Z",
     "start_time": "2021-10-10T02:57:26.473743Z"
    }
   },
   "outputs": [],
   "source": [
    "# 职业, 首发症状，腹痛性质，腹痛部位，呕吐在腹泻___发生，神经症状，中毒症状，其他症状，食品名称，食物分类，进餐地点\n",
    "# 发病前一周是否外出，是否家中饲养或接触过宠物，诊断类型，临床处理，抗生素名称.1\n",
    "# object 栏一般情况下如果没有写，默认为没有，用其他值也不好填\n",
    "x = [\"职业\",\"首发症状\",\"腹痛性质\",\"腹痛部位\",\"呕吐在腹泻___发生\",\"神经症状\",\"中毒症状\",\"其他症状\",\"食品名称\",\n",
    "     \"食物分类\",\"进餐地点\",\"发病前一周是否外出\",\"是否家中饲养或接触过宠物\",\"诊断类型\",\"临床处理\",\"抗生素名称.1\"]\n",
    "for column in x:\n",
    "    df[column].fillna(\"无\", inplace=True)\n",
    "    \n",
    "# 需要统一说法的 column：否 无 是 有\n",
    "x = [\"发病前五天内是否有不洁饮食史\",\"发病前5天内是否有不洁饮水史\",\"发病前5天内周边有无类似腹泻病例\",\n",
    "    \"发病前5天内是否有聚餐史\",\"发病前一周是否外出\",\"是否家中饲养或接触过宠物\",\"就诊前是否服用过抗生素\",\n",
    "     \"本次就诊是否给予抗生素\",\"是否采集\"]\n",
    "for column in x:\n",
    "    df[column] = df[column].map(yes_no)\n",
    "    \n",
    "## 还有一些栏目的值需要做一些调整，例如食物名称和食品分类那一栏\n",
    "# pass"
   ]
  },
  {
   "cell_type": "code",
   "execution_count": 250,
   "id": "812e0594",
   "metadata": {
    "ExecuteTime": {
     "end_time": "2021-10-10T02:57:26.533757Z",
     "start_time": "2021-10-10T02:57:26.503749Z"
    },
    "scrolled": true
   },
   "outputs": [
    {
     "name": "stdout",
     "output_type": "stream",
     "text": [
      "区县                          0 %\n",
      "性别                          0 %\n",
      "age                         0 %\n",
      "户籍                          0 %\n",
      "职业                          0 %\n",
      "首发症状                        0 %\n",
      "发热                          0 %\n",
      "体温                          0 %\n",
      "脱水                          0 %\n",
      "腹胀                          0 %\n",
      "恶心                          0 %\n",
      "里急后重                        0 %\n",
      "肠鸣音亢进                       0 %\n",
      "腹痛                          0 %\n",
      "腹痛性质                        0 %\n",
      "腹痛部位                        0 %\n",
      "呕吐                          0 %\n",
      "呕吐频次                        0 %\n",
      "呕吐在腹泻___发生                  0 %\n",
      "持续天数                        0 %\n",
      "腹泻                          0 %\n",
      "腹泻量                         0 %\n",
      "腹泻频次                        0 %\n",
      "腹泻天数                        0 %\n",
      "腹泻性质                        0 %\n",
      "神经症状                        0 %\n",
      "中毒症状                        0 %\n",
      "其他症状                        0 %\n",
      "近6个月有无肠道疾病既往史               0 %\n",
      "发病前五天内是否有不洁饮食史              0 %\n",
      "食品名称                        0 %\n",
      "食物分类                        0 %\n",
      "进餐地点                        0 %\n",
      "发病前5天内是否有不洁饮水史              0 %\n",
      "发病前5天内周边有无类似腹泻病例            0 %\n",
      "疑似病例人数                      0 %\n",
      "发病前5天内是否有聚餐史                0 %\n",
      "发病前一周是否外出                   0 %\n",
      "是否家中饲养或接触过宠物                0 %\n",
      "就诊前是否服用过抗生素                 0 %\n",
      "诊断                          0 %\n",
      "诊断类型                        0 %\n",
      "临床处理                        0 %\n",
      "本次就诊是否给予抗生素                 0 %\n",
      "抗生素名称.1                     0 %\n",
      "是否采集                        0 %\n",
      "采样类型                        0 %\n",
      "细菌结果                        0 %\n"
     ]
    }
   ],
   "source": [
    "for col in df.columns:\n",
    "    ratio = df[col].isnull().sum()/len(df)*100\n",
    "    print(f\"{col:25s} {ratio:3.0f} %\")\n",
    "    \n",
    "# 检查每一列是否有空值\n",
    "# df.isnull().any()"
   ]
  },
  {
   "cell_type": "code",
   "execution_count": 251,
   "id": "506062a1",
   "metadata": {
    "ExecuteTime": {
     "end_time": "2021-10-10T02:57:26.629778Z",
     "start_time": "2021-10-10T02:57:26.534756Z"
    }
   },
   "outputs": [],
   "source": [
    "# 把缺失值填充完成后的数据存入新的 `tsv` 文件\n",
    "df_file = \"data/fuxie_fillna.tsv\"\n",
    "df.to_csv(df_file, sep=\"\\t\", encoding=\"utf-8\")"
   ]
  },
  {
   "cell_type": "code",
   "execution_count": 252,
   "id": "8c656c94",
   "metadata": {
    "ExecuteTime": {
     "end_time": "2021-10-10T02:57:26.709796Z",
     "start_time": "2021-10-10T02:57:26.630778Z"
    }
   },
   "outputs": [
    {
     "data": {
      "text/plain": [
       "Index(['区县', '性别', 'age', '户籍', '职业', '首发症状', '发热', '体温', '脱水', '腹胀', '恶心',\n",
       "       '里急后重', '肠鸣音亢进', '腹痛', '腹痛性质', '腹痛部位', '呕吐', '呕吐频次', '呕吐在腹泻___发生',\n",
       "       '持续天数', '腹泻', '腹泻量', '腹泻频次', '腹泻天数', '腹泻性质', '神经症状', '中毒症状', '其他症状',\n",
       "       '近6个月有无肠道疾病既往史', '发病前五天内是否有不洁饮食史', '食品名称', '食物分类', '进餐地点',\n",
       "       '发病前5天内是否有不洁饮水史', '发病前5天内周边有无类似腹泻病例', '疑似病例人数', '发病前5天内是否有聚餐史',\n",
       "       '发病前一周是否外出', '是否家中饲养或接触过宠物', '就诊前是否服用过抗生素', '诊断', '诊断类型', '临床处理',\n",
       "       '本次就诊是否给予抗生素', '抗生素名称.1', '是否采集', '采样类型', '细菌结果'],\n",
       "      dtype='object')"
      ]
     },
     "execution_count": 252,
     "metadata": {},
     "output_type": "execute_result"
    },
    {
     "data": {
      "text/plain": [
       "(11600, 48)"
      ]
     },
     "execution_count": 252,
     "metadata": {},
     "output_type": "execute_result"
    }
   ],
   "source": [
    "# 读取文件\n",
    "df_file = \"data/fuxie_fillna.tsv\"\n",
    "df = pd.read_csv(df_file, sep=\"\\t\", index_col=0, encoding=\"utf-8\")\n",
    "df.columns\n",
    "df.shape"
   ]
  },
  {
   "cell_type": "code",
   "execution_count": 253,
   "id": "ed377ab6",
   "metadata": {
    "ExecuteTime": {
     "end_time": "2021-10-10T02:57:26.789814Z",
     "start_time": "2021-10-10T02:57:26.710796Z"
    }
   },
   "outputs": [
    {
     "name": "stdout",
     "output_type": "stream",
     "text": [
      "区县\n",
      "性别\n",
      "户籍\n",
      "职业\n",
      "首发症状\n",
      "发热\n",
      "脱水\n",
      "腹胀\n",
      "恶心\n",
      "里急后重\n",
      "肠鸣音亢进\n",
      "腹痛\n",
      "腹痛性质\n",
      "腹痛部位\n",
      "呕吐\n",
      "呕吐在腹泻___发生\n",
      "腹泻\n",
      "神经症状\n",
      "中毒症状\n",
      "其他症状\n",
      "近6个月有无肠道疾病既往史\n",
      "发病前五天内是否有不洁饮食史\n",
      "食品名称\n",
      "食物分类\n",
      "进餐地点\n",
      "发病前5天内是否有不洁饮水史\n",
      "发病前5天内周边有无类似腹泻病例\n",
      "发病前5天内是否有聚餐史\n",
      "发病前一周是否外出\n",
      "是否家中饲养或接触过宠物\n",
      "就诊前是否服用过抗生素\n",
      "诊断\n",
      "诊断类型\n",
      "临床处理\n",
      "本次就诊是否给予抗生素\n",
      "抗生素名称.1\n",
      "是否采集\n",
      "采样类型\n",
      "细菌结果\n"
     ]
    }
   ],
   "source": [
    "# 去除类型为 object 列的空格\n",
    "obj = df.dtypes[df.dtypes == 'object'].index.tolist()\n",
    "obj.remove(\"腹泻性质\")\n",
    "for column in obj:\n",
    "    print(column)\n",
    "    df[column] = df[column].astype('object')\n",
    "    df[column] = df[column].map(lambda x: x.strip())"
   ]
  },
  {
   "cell_type": "code",
   "execution_count": 254,
   "id": "53161d76",
   "metadata": {
    "ExecuteTime": {
     "end_time": "2021-10-10T02:57:26.821821Z",
     "start_time": "2021-10-10T02:57:26.792814Z"
    },
    "scrolled": true
   },
   "outputs": [
    {
     "data": {
      "text/plain": [
       "区县                  False\n",
       "性别                  False\n",
       "age                 False\n",
       "户籍                  False\n",
       "职业                  False\n",
       "首发症状                False\n",
       "发热                  False\n",
       "体温                  False\n",
       "脱水                  False\n",
       "腹胀                  False\n",
       "恶心                  False\n",
       "里急后重                False\n",
       "肠鸣音亢进               False\n",
       "腹痛                  False\n",
       "腹痛性质                False\n",
       "腹痛部位                False\n",
       "呕吐                  False\n",
       "呕吐频次                False\n",
       "呕吐在腹泻___发生          False\n",
       "持续天数                False\n",
       "腹泻                  False\n",
       "腹泻量                 False\n",
       "腹泻频次                False\n",
       "腹泻天数                False\n",
       "腹泻性质                 True\n",
       "神经症状                False\n",
       "中毒症状                False\n",
       "其他症状                False\n",
       "近6个月有无肠道疾病既往史       False\n",
       "发病前五天内是否有不洁饮食史      False\n",
       "食品名称                False\n",
       "食物分类                False\n",
       "进餐地点                False\n",
       "发病前5天内是否有不洁饮水史      False\n",
       "发病前5天内周边有无类似腹泻病例    False\n",
       "疑似病例人数              False\n",
       "发病前5天内是否有聚餐史        False\n",
       "发病前一周是否外出           False\n",
       "是否家中饲养或接触过宠物        False\n",
       "就诊前是否服用过抗生素         False\n",
       "诊断                  False\n",
       "诊断类型                False\n",
       "临床处理                False\n",
       "本次就诊是否给予抗生素         False\n",
       "抗生素名称.1             False\n",
       "是否采集                False\n",
       "采样类型                False\n",
       "细菌结果                False\n",
       "dtype: bool"
      ]
     },
     "execution_count": 254,
     "metadata": {},
     "output_type": "execute_result"
    }
   ],
   "source": [
    "# 检查每一列是否有空值\n",
    "df.isnull().any()"
   ]
  },
  {
   "cell_type": "markdown",
   "id": "0d3ade97",
   "metadata": {},
   "source": [
    "## 结果概览"
   ]
  },
  {
   "cell_type": "code",
   "execution_count": null,
   "id": "f71acd5e",
   "metadata": {
    "ExecuteTime": {
     "end_time": "2021-10-10T02:57:26.981857Z",
     "start_time": "2021-10-10T02:57:26.823821Z"
    }
   },
   "outputs": [],
   "source": [
    "y = \"细菌结果\"\n",
    "# 把细菌结果分为两类：阴性和阳性\n",
    "df[y] = df[y].map(lambda x: 0 if x == \"阴性\" else 1)"
   ]
  },
  {
   "cell_type": "code",
   "execution_count": 257,
   "id": "d90129b8",
   "metadata": {
    "ExecuteTime": {
     "end_time": "2021-10-10T02:59:47.186013Z",
     "start_time": "2021-10-10T02:59:47.041978Z"
    }
   },
   "outputs": [
    {
     "data": {
      "text/plain": [
       "<Figure size 504x360 with 0 Axes>"
      ]
     },
     "execution_count": 257,
     "metadata": {},
     "output_type": "execute_result"
    },
    {
     "data": {
      "text/plain": [
       "[None, None, None, None, None, None, None, None]"
      ]
     },
     "execution_count": 257,
     "metadata": {},
     "output_type": "execute_result"
    },
    {
     "data": {
      "text/plain": [
       "[Text(0, 0, 'Negative'), Text(1, 0, 'Positive')]"
      ]
     },
     "execution_count": 257,
     "metadata": {},
     "output_type": "execute_result"
    },
    {
     "data": {
      "text/plain": [
       "Text(0.5, 0, '')"
      ]
     },
     "execution_count": 257,
     "metadata": {},
     "output_type": "execute_result"
    },
    {
     "data": {
      "text/plain": [
       "Text(0, 0.5, 'Count')"
      ]
     },
     "execution_count": 257,
     "metadata": {},
     "output_type": "execute_result"
    },
    {
     "data": {
      "image/png": "[encoded data removed]",
      "text/plain": [
       "<Figure size 504x360 with 1 Axes>"
      ]
     },
     "metadata": {
      "needs_background": "light"
     },
     "output_type": "display_data"
    }
   ],
   "source": [
    "plt.figure(figsize=(7, 5))\n",
    "p = sns.countplot(x=\"细菌结果\", data=df,palette=\"Blues_d\")\n",
    "\n",
    "#设置坐标刻度值的大小以及刻度值的字体\n",
    "p.tick_params(labelsize=18)\n",
    "labels = p.get_xticklabels() + p.get_yticklabels()\n",
    "[label.set_fontname('Times New Roman') for label in labels]\n",
    " \n",
    "#设置横纵坐标的名称以及对应字体格式\n",
    "font2 = {'family' : 'Times New Roman',\n",
    "'weight' : 'normal',\n",
    "'size'   : 20,\n",
    "}\n",
    "p.set_xticklabels(['Negative','Positive'])\n",
    "p.set_xlabel('',font2)\n",
    "# p.set_xlabel('Bacterial infection results',font2)\n",
    "p.set_ylabel('Count',font2)\n",
    "p.figure.savefig('D:/Dropbox/论文/图片/label_dist.pdf',bbox_inches = 'tight')"
   ]
  },
  {
   "cell_type": "code",
   "execution_count": 124,
   "id": "2cac24fc",
   "metadata": {
    "ExecuteTime": {
     "end_time": "2021-08-21T03:10:01.598586Z",
     "start_time": "2021-08-21T03:10:01.469178Z"
    }
   },
   "outputs": [
    {
     "data": {
      "image/png": "[encoded data removed]",
      "text/plain": [
       "<Figure size 432x288 with 1 Axes>"
      ]
     },
     "metadata": {
      "needs_background": "light"
     },
     "output_type": "display_data"
    }
   ],
   "source": [
    "y = \"细菌结果\"\n",
    "# 把细菌结果分为两类：阴性和阳性\n",
    "df[y] = df[y].map(lambda x: 0 if x == \"阴性\" else 1)\n",
    "\n",
    "ax = df[y].value_counts().sort_values().plot(kind=\"barh\")\n",
    "totals = []\n",
    "for i in ax.patches:\n",
    "    totals.append(i.get_width())\n",
    "total = sum(totals)\n",
    "# ax.patches 应该是包含图中的三个柱子\n",
    "for i in ax.patches:\n",
    "    # 前面两个参数是在设置文本放置的位置\n",
    "    ax.text(i.get_width() + .3,\n",
    "            i.get_y() + .20,\n",
    "            str(round((i.get_width() / total) * 100, 2)) + '%',\n",
    "            fontsize=10,\n",
    "            color='black')\n",
    "ax.grid(axis=\"x\")\n",
    "plt.suptitle(y, fontsize=20)\n",
    "plt.show();\n"
   ]
  },
  {
   "cell_type": "code",
   "execution_count": 125,
   "id": "55b37e85",
   "metadata": {
    "ExecuteTime": {
     "end_time": "2021-08-21T03:10:01.606533Z",
     "start_time": "2021-08-21T03:10:01.600199Z"
    }
   },
   "outputs": [
    {
     "data": {
      "text/html": [
       "\n",
       "<script>\n",
       "    require.config({\n",
       "        paths: {\n",
       "            'echarts':'https://assets.pyecharts.org/assets/echarts.min'\n",
       "        }\n",
       "    });\n",
       "</script>\n",
       "\n",
       "        <div id=\"0a82fecac6dd4d8f9539397f40804579\" style=\"width:900px; height:500px;\"></div>\n",
       "\n",
       "<script>\n",
       "        require(['echarts'], function(echarts) {\n",
       "                var chart_0a82fecac6dd4d8f9539397f40804579 = echarts.init(\n",
       "                    document.getElementById('0a82fecac6dd4d8f9539397f40804579'), 'white', {renderer: 'canvas'});\n",
       "                var option_0a82fecac6dd4d8f9539397f40804579 = {\n",
       "    \"animation\": true,\n",
       "    \"animationThreshold\": 2000,\n",
       "    \"animationDuration\": 1000,\n",
       "    \"animationEasing\": \"cubicOut\",\n",
       "    \"animationDelay\": 0,\n",
       "    \"animationDurationUpdate\": 300,\n",
       "    \"animationEasingUpdate\": \"cubicOut\",\n",
       "    \"animationDelayUpdate\": 0,\n",
       "    \"color\": [\n",
       "        \"#c23531\",\n",
       "        \"#2f4554\",\n",
       "        \"#61a0a8\",\n",
       "        \"#d48265\",\n",
       "        \"#749f83\",\n",
       "        \"#ca8622\",\n",
       "        \"#bda29a\",\n",
       "        \"#6e7074\",\n",
       "        \"#546570\",\n",
       "        \"#c4ccd3\",\n",
       "        \"#f05b72\",\n",
       "        \"#ef5b9c\",\n",
       "        \"#f47920\",\n",
       "        \"#905a3d\",\n",
       "        \"#fab27b\",\n",
       "        \"#2a5caa\",\n",
       "        \"#444693\",\n",
       "        \"#726930\",\n",
       "        \"#b2d235\",\n",
       "        \"#6d8346\",\n",
       "        \"#ac6767\",\n",
       "        \"#1d953f\",\n",
       "        \"#6950a1\",\n",
       "        \"#918597\"\n",
       "    ],\n",
       "    \"series\": [\n",
       "        {\n",
       "            \"type\": \"bar\",\n",
       "            \"name\": \"\\u5c31\\u533b\\u4eba\\u6570\",\n",
       "            \"legendHoverLink\": true,\n",
       "            \"data\": [\n",
       "                9231,\n",
       "                2369\n",
       "            ],\n",
       "            \"showBackground\": false,\n",
       "            \"barMinHeight\": 0,\n",
       "            \"barCategoryGap\": \"20%\",\n",
       "            \"barGap\": \"0%\",\n",
       "            \"large\": false,\n",
       "            \"largeThreshold\": 400,\n",
       "            \"seriesLayoutBy\": \"column\",\n",
       "            \"datasetIndex\": 0,\n",
       "            \"clip\": true,\n",
       "            \"zlevel\": 0,\n",
       "            \"z\": 2,\n",
       "            \"label\": {\n",
       "                \"show\": true,\n",
       "                \"position\": \"top\",\n",
       "                \"rotate\": 0,\n",
       "                \"margin\": 8,\n",
       "                \"fontSize\": 10\n",
       "            },\n",
       "            \"itemStyle\": {\n",
       "                \"opacity\": \"0.5\"\n",
       "            }\n",
       "        }\n",
       "    ],\n",
       "    \"legend\": [\n",
       "        {\n",
       "            \"data\": [\n",
       "                \"\\u5c31\\u533b\\u4eba\\u6570\"\n",
       "            ],\n",
       "            \"selected\": {\n",
       "                \"\\u5c31\\u533b\\u4eba\\u6570\": true\n",
       "            },\n",
       "            \"show\": false,\n",
       "            \"padding\": 5,\n",
       "            \"itemGap\": 10,\n",
       "            \"itemWidth\": 25,\n",
       "            \"itemHeight\": 14\n",
       "        }\n",
       "    ],\n",
       "    \"tooltip\": {\n",
       "        \"show\": true,\n",
       "        \"trigger\": \"item\",\n",
       "        \"triggerOn\": \"mousemove|click\",\n",
       "        \"axisPointer\": {\n",
       "            \"type\": \"line\"\n",
       "        },\n",
       "        \"showContent\": true,\n",
       "        \"alwaysShowContent\": false,\n",
       "        \"showDelay\": 0,\n",
       "        \"hideDelay\": 100,\n",
       "        \"textStyle\": {\n",
       "            \"fontSize\": 14\n",
       "        },\n",
       "        \"borderWidth\": 0,\n",
       "        \"padding\": 5\n",
       "    },\n",
       "    \"xAxis\": [\n",
       "        {\n",
       "            \"name\": \"\\u7ec6\\u83cc\\u7ed3\\u679c\",\n",
       "            \"show\": true,\n",
       "            \"scale\": false,\n",
       "            \"nameLocation\": \"center\",\n",
       "            \"nameGap\": 35,\n",
       "            \"gridIndex\": 0,\n",
       "            \"axisLabel\": {\n",
       "                \"show\": true,\n",
       "                \"position\": \"top\",\n",
       "                \"rotate\": 25,\n",
       "                \"margin\": 8,\n",
       "                \"fontSize\": 10\n",
       "            },\n",
       "            \"inverse\": false,\n",
       "            \"offset\": 0,\n",
       "            \"splitNumber\": 5,\n",
       "            \"minInterval\": 0,\n",
       "            \"splitLine\": {\n",
       "                \"show\": false,\n",
       "                \"lineStyle\": {\n",
       "                    \"show\": true,\n",
       "                    \"width\": 1,\n",
       "                    \"opacity\": 1,\n",
       "                    \"curveness\": 0,\n",
       "                    \"type\": \"solid\"\n",
       "                }\n",
       "            },\n",
       "            \"data\": [\n",
       "                0,\n",
       "                1\n",
       "            ]\n",
       "        }\n",
       "    ],\n",
       "    \"yAxis\": [\n",
       "        {\n",
       "            \"show\": true,\n",
       "            \"scale\": false,\n",
       "            \"nameLocation\": \"end\",\n",
       "            \"nameGap\": 15,\n",
       "            \"gridIndex\": 0,\n",
       "            \"axisLabel\": {\n",
       "                \"show\": true,\n",
       "                \"position\": \"top\",\n",
       "                \"margin\": 8,\n",
       "                \"fontSize\": 10\n",
       "            },\n",
       "            \"inverse\": false,\n",
       "            \"offset\": 0,\n",
       "            \"splitNumber\": 5,\n",
       "            \"minInterval\": 0,\n",
       "            \"splitLine\": {\n",
       "                \"show\": false,\n",
       "                \"lineStyle\": {\n",
       "                    \"show\": true,\n",
       "                    \"width\": 1,\n",
       "                    \"opacity\": 1,\n",
       "                    \"curveness\": 0,\n",
       "                    \"type\": \"solid\"\n",
       "                }\n",
       "            }\n",
       "        }\n",
       "    ],\n",
       "    \"title\": [\n",
       "        {\n",
       "            \"text\": \"\\u7ec6\\u83cc\\u7ed3\\u679c\",\n",
       "            \"padding\": 5,\n",
       "            \"itemGap\": 10\n",
       "        }\n",
       "    ]\n",
       "};\n",
       "                chart_0a82fecac6dd4d8f9539397f40804579.setOption(option_0a82fecac6dd4d8f9539397f40804579);\n",
       "        });\n",
       "    </script>\n"
      ],
      "text/plain": [
       "<pyecharts.render.display.HTML at 0x7f4f6c626430>"
      ]
     },
     "execution_count": 125,
     "metadata": {},
     "output_type": "execute_result"
    }
   ],
   "source": [
    "# pyecharts bar 实现\n",
    "count = val_count(df, y)\n",
    "f=bar_dist(count, title=f\"{df[y].name}\")\n",
    "f.render_notebook()"
   ]
  },
  {
   "cell_type": "markdown",
   "id": "3a3f5134",
   "metadata": {},
   "source": [
    "## 特征选择\n",
    "\n",
    "### 单因素方差分析与卡方检验\n",
    "用统计学的手段检测自变量（特征）是否与因变量（标签）相关。"
   ]
  },
  {
   "cell_type": "code",
   "execution_count": 156,
   "id": "58654fd1",
   "metadata": {
    "ExecuteTime": {
     "end_time": "2021-10-09T16:12:32.560351Z",
     "start_time": "2021-10-09T16:12:32.514340Z"
    }
   },
   "outputs": [
    {
     "name": "stdout",
     "output_type": "stream",
     "text": [
      "Anova F: the variables ('age', '细菌结果') are Correlated (p-value: 0.0)\n"
     ]
    },
    {
     "data": {
      "text/plain": [
       "(0.0, 'Correlated')"
      ]
     },
     "execution_count": 156,
     "metadata": {},
     "output_type": "execute_result"
    },
    {
     "name": "stdout",
     "output_type": "stream",
     "text": [
      "['区县', '性别', '户籍', '职业', '首发症状', '发热', '脱水', '腹胀', '恶心', '里急后重', '肠鸣音亢进', '腹痛', '腹痛性质', '腹痛部位', '呕吐', '呕吐在腹泻___发生', '腹泻', '腹泻性质', '神经症状', '中毒症状', '其他症状', '近6个月有无肠道疾病既往史', '发病前五天内是否有不洁饮食史', '食品名称', '食物分类', '进餐地点', '发病前5天内是否有不洁饮水史', '发病前5天内周边有无类似腹泻病例', '发病前5天内是否有聚餐史', '发病前一周是否外出', '是否家中饲养或接触过宠物', '就诊前是否服用过抗生素', '诊断', '诊断类型', '临床处理', '本次就诊是否给予抗生素', '抗生素名称.1', '是否采集', '采样类型']\n",
      "--------------------------------------------------\n",
      "['age', '体温', '呕吐频次', '持续天数', '腹泻量', '腹泻频次', '腹泻天数', '疑似病例人数', '细菌结果']\n"
     ]
    }
   ],
   "source": [
    "## 连续数据：单因素方差分析\n",
    "def correlation_anova(x,y,df):\n",
    "    \"\"\"\n",
    "    one-way ANOVA test\n",
    "    \"\"\"\n",
    "    model = smf.ols(x+' ~ '+y, data=df).fit()\n",
    "    table = sm.stats.anova_lm(model)\n",
    "    # P 值: 选取 table 表中的 \"PR(>F)\" 列的第一行的值\n",
    "    # print(table)\n",
    "    p = table[\"PR(>F)\"][0]\n",
    "    # p 值保留三位小数\n",
    "    coeff, p = None, round(p, 3)\n",
    "    conclusion = \"Correlated\" if p < 0.05 else \"Non-Correlated\"\n",
    "    print(f\"Anova F: the variables {x, y} are\", conclusion, \"(p-value: \"+str(p)+\")\")\n",
    "    return p, conclusion\n",
    "\n",
    "# test function\n",
    "y, x = \"细菌结果\", \"age\"\n",
    "correlation_anova(x,y,df)\n",
    "\n",
    "## 对所有连续变量应用单因素方差分析：age，体温\n",
    "# Index 对象负责管理轴标签、轴名称等元数据，是一个不可修改的、有序的、可以索引的 ndarry 对象\n",
    "# Index 对象是一个从索引到数据值的映射，当数据是一列时，index 是列索引；\n",
    "# 当数据是一行数据时，Index 是行索引\n",
    "# Index --> list: Index.to_list(self) 但是我感觉好像不用转换\n",
    "obj_columns = df.select_dtypes(include=object).columns.to_list()\n",
    "cont_columns = [column for column in df.columns if column not in obj_columns]\n",
    "print(obj_columns)\n",
    "print(\"-\"*50)\n",
    "print(cont_columns)"
   ]
  },
  {
   "cell_type": "code",
   "execution_count": 157,
   "id": "88716e82",
   "metadata": {
    "ExecuteTime": {
     "end_time": "2021-10-09T16:12:41.915357Z",
     "start_time": "2021-10-09T16:12:41.814335Z"
    }
   },
   "outputs": [
    {
     "name": "stdout",
     "output_type": "stream",
     "text": [
      "Anova F: the variables ('age', '细菌结果') are Correlated (p-value: 0.0)\n",
      "Anova F: the variables ('体温', '细菌结果') are Correlated (p-value: 0.0)\n",
      "Anova F: the variables ('呕吐频次', '细菌结果') are Non-Correlated (p-value: 0.116)\n",
      "Anova F: the variables ('持续天数', '细菌结果') are Non-Correlated (p-value: 0.234)\n",
      "Anova F: the variables ('腹泻量', '细菌结果') are Correlated (p-value: 0.0)\n",
      "Anova F: the variables ('腹泻频次', '细菌结果') are Correlated (p-value: 0.0)\n",
      "Anova F: the variables ('腹泻天数', '细菌结果') are Correlated (p-value: 0.0)\n",
      "Anova F: the variables ('疑似病例人数', '细菌结果') are Non-Correlated (p-value: 0.564)\n",
      "Anova F: the variables ('细菌结果', '细菌结果') are Correlated (p-value: 0.0)\n"
     ]
    },
    {
     "data": {
      "text/html": [
       "<style  type=\"text/css\" >\n",
       "#T_e83e3_row0_col0,#T_e83e3_row0_col1,#T_e83e3_row1_col0,#T_e83e3_row1_col1,#T_e83e3_row2_col0,#T_e83e3_row2_col1,#T_e83e3_row3_col0,#T_e83e3_row3_col1,#T_e83e3_row4_col0,#T_e83e3_row4_col1,#T_e83e3_row5_col0,#T_e83e3_row5_col1,#T_e83e3_row6_col0,#T_e83e3_row6_col1,#T_e83e3_row7_col0,#T_e83e3_row7_col1,#T_e83e3_row8_col0,#T_e83e3_row8_col1{\n",
       "            text-align:  left;\n",
       "        }</style><table id=\"T_e83e3_\" ><thead>    <tr>        <th class=\"blank level0\" ></th>        <th class=\"col_heading level0 col0\" >P Value</th>        <th class=\"col_heading level0 col1\" >Effective</th>    </tr></thead><tbody>\n",
       "                <tr>\n",
       "                        <th id=\"T_e83e3_level0_row0\" class=\"row_heading level0 row0\" >age</th>\n",
       "                        <td id=\"T_e83e3_row0_col0\" class=\"data row0 col0\" >0.000000</td>\n",
       "                        <td id=\"T_e83e3_row0_col1\" class=\"data row0 col1\" >Correlated</td>\n",
       "            </tr>\n",
       "            <tr>\n",
       "                        <th id=\"T_e83e3_level0_row1\" class=\"row_heading level0 row1\" >体温</th>\n",
       "                        <td id=\"T_e83e3_row1_col0\" class=\"data row1 col0\" >0.000000</td>\n",
       "                        <td id=\"T_e83e3_row1_col1\" class=\"data row1 col1\" >Correlated</td>\n",
       "            </tr>\n",
       "            <tr>\n",
       "                        <th id=\"T_e83e3_level0_row2\" class=\"row_heading level0 row2\" >呕吐频次</th>\n",
       "                        <td id=\"T_e83e3_row2_col0\" class=\"data row2 col0\" >0.116000</td>\n",
       "                        <td id=\"T_e83e3_row2_col1\" class=\"data row2 col1\" >Non-Correlated</td>\n",
       "            </tr>\n",
       "            <tr>\n",
       "                        <th id=\"T_e83e3_level0_row3\" class=\"row_heading level0 row3\" >持续天数</th>\n",
       "                        <td id=\"T_e83e3_row3_col0\" class=\"data row3 col0\" >0.234000</td>\n",
       "                        <td id=\"T_e83e3_row3_col1\" class=\"data row3 col1\" >Non-Correlated</td>\n",
       "            </tr>\n",
       "            <tr>\n",
       "                        <th id=\"T_e83e3_level0_row4\" class=\"row_heading level0 row4\" >腹泻量</th>\n",
       "                        <td id=\"T_e83e3_row4_col0\" class=\"data row4 col0\" >0.000000</td>\n",
       "                        <td id=\"T_e83e3_row4_col1\" class=\"data row4 col1\" >Correlated</td>\n",
       "            </tr>\n",
       "            <tr>\n",
       "                        <th id=\"T_e83e3_level0_row5\" class=\"row_heading level0 row5\" >腹泻频次</th>\n",
       "                        <td id=\"T_e83e3_row5_col0\" class=\"data row5 col0\" >0.000000</td>\n",
       "                        <td id=\"T_e83e3_row5_col1\" class=\"data row5 col1\" >Correlated</td>\n",
       "            </tr>\n",
       "            <tr>\n",
       "                        <th id=\"T_e83e3_level0_row6\" class=\"row_heading level0 row6\" >腹泻天数</th>\n",
       "                        <td id=\"T_e83e3_row6_col0\" class=\"data row6 col0\" >0.000000</td>\n",
       "                        <td id=\"T_e83e3_row6_col1\" class=\"data row6 col1\" >Correlated</td>\n",
       "            </tr>\n",
       "            <tr>\n",
       "                        <th id=\"T_e83e3_level0_row7\" class=\"row_heading level0 row7\" >疑似病例人数</th>\n",
       "                        <td id=\"T_e83e3_row7_col0\" class=\"data row7 col0\" >0.564000</td>\n",
       "                        <td id=\"T_e83e3_row7_col1\" class=\"data row7 col1\" >Non-Correlated</td>\n",
       "            </tr>\n",
       "            <tr>\n",
       "                        <th id=\"T_e83e3_level0_row8\" class=\"row_heading level0 row8\" >细菌结果</th>\n",
       "                        <td id=\"T_e83e3_row8_col0\" class=\"data row8 col0\" >0.000000</td>\n",
       "                        <td id=\"T_e83e3_row8_col1\" class=\"data row8 col1\" >Correlated</td>\n",
       "            </tr>\n",
       "    </tbody></table>"
      ],
      "text/plain": [
       "<pandas.io.formats.style.Styler at 0x24b0ceb82b0>"
      ]
     },
     "execution_count": 157,
     "metadata": {},
     "output_type": "execute_result"
    }
   ],
   "source": [
    "y = \"细菌结果\"\n",
    "cont_p = []\n",
    "cont_conclusion = []\n",
    "for column in cont_columns:\n",
    "    p, conclusion = correlation_anova(column,y,df)\n",
    "    cont_p.append(p)\n",
    "    cont_conclusion.append(conclusion)\n",
    "\n",
    "\n",
    "list_of_tuple = list(zip(cont_p,cont_conclusion))\n",
    "cont_result = pd.DataFrame(data=list_of_tuple,index=cont_columns,columns=[\"P Value\", \"Effective\"])\n",
    "# 设置让列名对齐\n",
    "cont_result.style.set_properties(**{'text-align': 'left'})"
   ]
  },
  {
   "cell_type": "code",
   "execution_count": 204,
   "id": "33e50283",
   "metadata": {
    "ExecuteTime": {
     "end_time": "2021-10-09T17:25:32.887436Z",
     "start_time": "2021-10-09T17:25:32.302311Z"
    }
   },
   "outputs": [
    {
     "data": {
      "text/plain": [
       "Text(0.5, 0.98, 'Age   vs   Bacterial infection results')"
      ]
     },
     "execution_count": 204,
     "metadata": {},
     "output_type": "execute_result"
    },
    {
     "data": {
      "text/plain": [
       "<AxesSubplot:xlabel='age', ylabel='Density'>"
      ]
     },
     "execution_count": 204,
     "metadata": {},
     "output_type": "execute_result"
    },
    {
     "data": {
      "text/plain": [
       "<AxesSubplot:xlabel='age', ylabel='Density'>"
      ]
     },
     "execution_count": 204,
     "metadata": {},
     "output_type": "execute_result"
    },
    {
     "data": {
      "text/plain": [
       "<matplotlib.legend.Legend at 0x24b10b0c160>"
      ]
     },
     "execution_count": 204,
     "metadata": {},
     "output_type": "execute_result"
    },
    {
     "data": {
      "text/plain": [
       "Text(0.5, 0, 'Age')"
      ]
     },
     "execution_count": 204,
     "metadata": {},
     "output_type": "execute_result"
    },
    {
     "data": {
      "text/plain": [
       "Text(0, 0.5, 'Density')"
      ]
     },
     "execution_count": 204,
     "metadata": {},
     "output_type": "execute_result"
    },
    {
     "data": {
      "text/plain": [
       "[None,\n",
       " None,\n",
       " None,\n",
       " None,\n",
       " None,\n",
       " None,\n",
       " None,\n",
       " None,\n",
       " None,\n",
       " None,\n",
       " None,\n",
       " None,\n",
       " None,\n",
       " None,\n",
       " None,\n",
       " None]"
      ]
     },
     "execution_count": 204,
     "metadata": {},
     "output_type": "execute_result"
    },
    {
     "data": {
      "text/plain": [
       "<AxesSubplot:xlabel='age'>"
      ]
     },
     "execution_count": 204,
     "metadata": {},
     "output_type": "execute_result"
    },
    {
     "data": {
      "text/plain": [
       "Text(0.5, 0, 'Age')"
      ]
     },
     "execution_count": 204,
     "metadata": {},
     "output_type": "execute_result"
    },
    {
     "data": {
      "text/plain": [
       "(array([0, 1, 2, 3, 4, 5, 6, 7, 8, 9]),\n",
       " [Text(0, 0, '(15.0, 24.0]'),\n",
       "  Text(1, 0, '(24.0, 28.0]'),\n",
       "  Text(2, 0, '(28.0, 31.0]'),\n",
       "  Text(3, 0, '(31.0, 36.0]'),\n",
       "  Text(4, 0, '(36.0, 43.0]'),\n",
       "  Text(5, 0, '(43.0, 53.0]'),\n",
       "  Text(6, 0, '(53.0, 59.0]'),\n",
       "  Text(7, 0, '(59.0, 63.0]'),\n",
       "  Text(8, 0, '(63.0, 70.0]'),\n",
       "  Text(9, 0, '(70.0, 100.0]')])"
      ]
     },
     "execution_count": 204,
     "metadata": {},
     "output_type": "execute_result"
    },
    {
     "data": {
      "text/plain": [
       "[None,\n",
       " None,\n",
       " None,\n",
       " None,\n",
       " None,\n",
       " None,\n",
       " None,\n",
       " None,\n",
       " None,\n",
       " None,\n",
       " None,\n",
       " None,\n",
       " None,\n",
       " None,\n",
       " None,\n",
       " None,\n",
       " None]"
      ]
     },
     "execution_count": 204,
     "metadata": {},
     "output_type": "execute_result"
    },
    {
     "data": {
      "image/png": "[encoded data removed]",
      "text/plain": [
       "<Figure size 1224x432 with 2 Axes>"
      ]
     },
     "metadata": {
      "needs_background": "light"
     },
     "output_type": "display_data"
    }
   ],
   "source": [
    "# 可视化\n",
    "y, x = \"细菌结果\", \"age\"\n",
    "fig, ax = plt.subplots(nrows=1,\n",
    "                       ncols=2,\n",
    "                       sharex=False,\n",
    "                       sharey=False,\n",
    "                       figsize=(17, 6))\n",
    "\n",
    "\n",
    "\n",
    "#设置图例并且设置图例的字体及大小\n",
    "font1 = {'family' : 'Times New Roman',\n",
    "'weight' : 'normal',\n",
    "'size'   : 18,\n",
    "}\n",
    "\n",
    "#设置横纵坐标的名称以及对应字体格式\n",
    "font2 = {'family' : 'Times New Roman',\n",
    "'weight' : 'normal',\n",
    "'size'   : 20,\n",
    "}\n",
    "\n",
    "font3 = {'family' : 'Times New Roman',\n",
    "'weight' : 'normal',\n",
    "'size'   : 23,\n",
    "}\n",
    "\n",
    "fig.suptitle(\"Age\" + \"   vs   \" + \"Bacterial infection results\",fontsize=20,fontproperties=font3)\n",
    "\n",
    "### distribution\n",
    "# ax[0].title.set_text('density')\n",
    "# i = 0 or 1\n",
    "# 分别对两类标签画出年龄分布图\n",
    "for i in df[y].unique():\n",
    "    sns.distplot(df[df[y] == i][x], hist=False, label=\"Negative\" if i==0 else \"Positive\", ax=ax[0])\n",
    "# ax[0].grid(True)\n",
    "ax[0].legend(prop=font1,loc='best')\n",
    "ax[0].set_xlabel('Age',font2)\n",
    "ax[0].set_ylabel('Density',font2)\n",
    "\n",
    "#设置坐标刻度值的大小以及刻度值的字体\n",
    "ax[0].tick_params(labelsize=18)\n",
    "labels = ax[0].get_xticklabels() + ax[0].get_yticklabels()\n",
    "[label.set_fontname('Times New Roman') for label in labels]\n",
    "\n",
    "### stacked\n",
    "# ax[1].title.set_text('bins')\n",
    "# numpy.linspace(start, stop, num=11) \n",
    "# numpy.quantile(a, q): 其中 q 代表要计算的分位数序列,取值在(0,1)\n",
    "breaks = np.quantile(df[x], q=np.linspace(0, 1, 11))\n",
    "# pd.cut(): 将值转换为离散的间隔,也可以将连续变量转换为分类变量\n",
    "# df.groupby([y, pd.cut()]).size(): 根据细菌结果和不同年龄段两个因素进行分组,并计算每组的数量\n",
    "# unstack 之后, index 是细菌结果, columns 是每一个分组\n",
    "# 再转置一下就是把 index 和 columns 互换位置\n",
    "tmp = df.groupby([y, pd.cut(df[x], breaks, duplicates='drop')]).size().unstack().T\n",
    "tmp = tmp[df[y].unique()]\n",
    "# .sum(axis=1): 将 tmp 表中每一行的值相加求和\n",
    "tmp[\"tot\"] = tmp.sum(axis=1)\n",
    "for col in tmp.drop(\"tot\", axis=1).columns:\n",
    "    # 求比例\n",
    "    tmp[col] = tmp[col] / tmp[\"tot\"]\n",
    "# if stacked=False, 会画两个并排的柱子\n",
    "tmp.drop(\"tot\", axis=1).plot(kind='bar',\n",
    "                             stacked=True,\n",
    "                             ax=ax[1],\n",
    "                             legend=False,)\n",
    "                             #grid=True)\n",
    "ax[1].set_xlabel('Age',font2)\n",
    "plt.xticks(rotation=20)\n",
    "\n",
    "\n",
    "ax[1].tick_params(labelsize=18)\n",
    "labels = ax[1].get_xticklabels() + ax[1].get_yticklabels()\n",
    "[label.set_fontname('Times New Roman') for label in labels]\n",
    "\n",
    "\n",
    "# ### boxplot\n",
    "# # outliers: 离群值\n",
    "# ax[2].title.set_text('outliers')\n",
    "# sns.boxplot(x=y, y=x, data=df, width=0.3, ax=ax[2])\n",
    "# ax[2].grid(True)\n",
    "\n",
    "# 调整整体空白\n",
    "fig.tight_layout()\n",
    "plt.show();\n",
    "\n",
    "fig.savefig('D:/Dropbox/论文/图片/age_vs_label.pdf',bbox_inches = 'tight')\n",
    "\n",
    "#ax.figure.savefig('D:/Dropbox/论文/图片/age.pdf',bbox_inches = 'tight')"
   ]
  },
  {
   "cell_type": "code",
   "execution_count": 205,
   "id": "5acfd941",
   "metadata": {
    "ExecuteTime": {
     "end_time": "2021-10-09T17:25:39.347162Z",
     "start_time": "2021-10-09T17:25:38.812041Z"
    }
   },
   "outputs": [
    {
     "data": {
      "text/plain": [
       "Text(0.5, 0.98, 'Vomiting frequency   vs   Bacterial infection results')"
      ]
     },
     "execution_count": 205,
     "metadata": {},
     "output_type": "execute_result"
    },
    {
     "data": {
      "text/plain": [
       "Text(0.5, 1.0, 'density')"
      ]
     },
     "execution_count": 205,
     "metadata": {},
     "output_type": "execute_result"
    },
    {
     "data": {
      "text/plain": [
       "<AxesSubplot:title={'center':'density'}, xlabel='呕吐频次', ylabel='Density'>"
      ]
     },
     "execution_count": 205,
     "metadata": {},
     "output_type": "execute_result"
    },
    {
     "data": {
      "text/plain": [
       "<AxesSubplot:title={'center':'density'}, xlabel='呕吐频次', ylabel='Density'>"
      ]
     },
     "execution_count": 205,
     "metadata": {},
     "output_type": "execute_result"
    },
    {
     "data": {
      "text/plain": [
       "<matplotlib.legend.Legend at 0x24b0cf67bb0>"
      ]
     },
     "execution_count": 205,
     "metadata": {},
     "output_type": "execute_result"
    },
    {
     "data": {
      "text/plain": [
       "Text(0.5, 0, 'Vomiting frequency')"
      ]
     },
     "execution_count": 205,
     "metadata": {},
     "output_type": "execute_result"
    },
    {
     "data": {
      "text/plain": [
       "Text(0, 0.5, 'Density')"
      ]
     },
     "execution_count": 205,
     "metadata": {},
     "output_type": "execute_result"
    },
    {
     "data": {
      "text/plain": [
       "[None,\n",
       " None,\n",
       " None,\n",
       " None,\n",
       " None,\n",
       " None,\n",
       " None,\n",
       " None,\n",
       " None,\n",
       " None,\n",
       " None,\n",
       " None,\n",
       " None,\n",
       " None,\n",
       " None]"
      ]
     },
     "execution_count": 205,
     "metadata": {},
     "output_type": "execute_result"
    },
    {
     "data": {
      "text/plain": [
       "Text(0.5, 1.0, 'bins')"
      ]
     },
     "execution_count": 205,
     "metadata": {},
     "output_type": "execute_result"
    },
    {
     "data": {
      "text/plain": [
       "<AxesSubplot:title={'center':'bins'}, xlabel='呕吐频次'>"
      ]
     },
     "execution_count": 205,
     "metadata": {},
     "output_type": "execute_result"
    },
    {
     "data": {
      "text/plain": [
       "Text(0.5, 0, 'Vomiting frequency')"
      ]
     },
     "execution_count": 205,
     "metadata": {},
     "output_type": "execute_result"
    },
    {
     "data": {
      "text/plain": [
       "(array([0, 1, 2]),\n",
       " [Text(0, 0, '(0.0, 1.0]'),\n",
       "  Text(1, 0, '(1.0, 2.0]'),\n",
       "  Text(2, 0, '(2.0, 20.0]')])"
      ]
     },
     "execution_count": 205,
     "metadata": {},
     "output_type": "execute_result"
    },
    {
     "data": {
      "text/plain": [
       "[None, None, None, None, None, None, None, None, None, None]"
      ]
     },
     "execution_count": 205,
     "metadata": {},
     "output_type": "execute_result"
    },
    {
     "data": {
      "image/png": "[encoded data removed]",
      "text/plain": [
       "<Figure size 1224x432 with 2 Axes>"
      ]
     },
     "metadata": {
      "needs_background": "light"
     },
     "output_type": "display_data"
    }
   ],
   "source": [
    "# 可视化\n",
    "y, x = \"细菌结果\", \"呕吐频次\"\n",
    "fig, ax = plt.subplots(nrows=1,\n",
    "                       ncols=2,\n",
    "                       sharex=False,\n",
    "                       sharey=False,\n",
    "                       figsize=(17, 6))\n",
    "\n",
    "\n",
    "\n",
    "#设置图例并且设置图例的字体及大小\n",
    "font1 = {'family' : 'Times New Roman',\n",
    "'weight' : 'normal',\n",
    "'size'   : 18,\n",
    "}\n",
    "\n",
    "#设置横纵坐标的名称以及对应字体格式\n",
    "font2 = {'family' : 'Times New Roman',\n",
    "'weight' : 'normal',\n",
    "'size'   : 20,\n",
    "}\n",
    "\n",
    "font3 = {'family' : 'Times New Roman',\n",
    "'weight' : 'normal',\n",
    "'size'   : 23,\n",
    "}\n",
    "\n",
    "fig.suptitle(\"Vomiting frequency\" + \"   vs   \" + \"Bacterial infection results\",fontsize=20,fontproperties=font3)\n",
    "\n",
    "### distribution\n",
    "ax[0].set_title('density',fontproperties=font2)\n",
    "# i = 0 or 1\n",
    "# 分别对两类标签画出年龄分布图\n",
    "for i in df[y].unique():\n",
    "    sns.distplot(df[df[y] == i][x], hist=False, label=\"Negative\" if i==0 else \"Positive\", ax=ax[0])\n",
    "# ax[0].grid(True)\n",
    "ax[0].legend(prop=font1,loc='best')\n",
    "ax[0].set_xlabel('Vomiting frequency',font2)\n",
    "ax[0].set_ylabel('Density',font2)\n",
    "\n",
    "#设置坐标刻度值的大小以及刻度值的字体\n",
    "ax[0].tick_params(labelsize=18)\n",
    "labels = ax[0].get_xticklabels() + ax[0].get_yticklabels()\n",
    "[label.set_fontname('Times New Roman') for label in labels]\n",
    "\n",
    "### stacked\n",
    "\n",
    "ax[1].set_title('bins',fontproperties=font2)\n",
    "# numpy.linspace(start, stop, num=11) \n",
    "# numpy.quantile(a, q): 其中 q 代表要计算的分位数序列,取值在(0,1)\n",
    "breaks = np.quantile(df[x], q=np.linspace(0, 1, 11))\n",
    "# pd.cut(): 将值转换为离散的间隔,也可以将连续变量转换为分类变量\n",
    "# df.groupby([y, pd.cut()]).size(): 根据细菌结果和不同年龄段两个因素进行分组,并计算每组的数量\n",
    "# unstack 之后, index 是细菌结果, columns 是每一个分组\n",
    "# 再转置一下就是把 index 和 columns 互换位置\n",
    "tmp = df.groupby([y, pd.cut(df[x], breaks, duplicates='drop')]).size().unstack().T\n",
    "tmp = tmp[df[y].unique()]\n",
    "# .sum(axis=1): 将 tmp 表中每一行的值相加求和\n",
    "tmp[\"tot\"] = tmp.sum(axis=1)\n",
    "for col in tmp.drop(\"tot\", axis=1).columns:\n",
    "    # 求比例\n",
    "    tmp[col] = tmp[col] / tmp[\"tot\"]\n",
    "# if stacked=False, 会画两个并排的柱子\n",
    "tmp.drop(\"tot\", axis=1).plot(kind='bar',\n",
    "                             stacked=True,\n",
    "                             ax=ax[1],\n",
    "                             legend=False,)\n",
    "                             #grid=True)\n",
    "ax[1].set_xlabel('Vomiting frequency',font2)\n",
    "plt.xticks(rotation=20)\n",
    "\n",
    "\n",
    "ax[1].tick_params(labelsize=18)\n",
    "labels = ax[1].get_xticklabels() + ax[1].get_yticklabels()\n",
    "[label.set_fontname('Times New Roman') for label in labels]\n",
    "\n",
    "\n",
    "# ### boxplot\n",
    "# # outliers: 离群值\n",
    "# ax[2].title.set_text('outliers')\n",
    "# sns.boxplot(x=y, y=x, data=df, width=0.3, ax=ax[2])\n",
    "# ax[2].grid(True)\n",
    "\n",
    "# 调整整体空白\n",
    "fig.tight_layout()\n",
    "plt.show();\n",
    "\n",
    "fig.savefig('D:/Dropbox/论文/图片/Vomiting frequency_vs_label.pdf',bbox_inches = 'tight')\n",
    "\n",
    "#ax.figure.savefig('D:/Dropbox/论文/图片/age.pdf',bbox_inches = 'tight')"
   ]
  },
  {
   "cell_type": "code",
   "execution_count": 195,
   "id": "9f894e40",
   "metadata": {
    "ExecuteTime": {
     "end_time": "2021-10-09T17:03:41.277742Z",
     "start_time": "2021-10-09T17:03:40.928664Z"
    },
    "scrolled": true
   },
   "outputs": [
    {
     "name": "stdout",
     "output_type": "stream",
     "text": [
      "Cramer Correlation: 0.431 Correlated (p-value:0.0)\n",
      "Cramer Correlation: 0.035 Correlated (p-value:0.0)\n",
      "Cramer Correlation: 0.119 Correlated (p-value:0.0)\n",
      "Cramer Correlation: 0.144 Correlated (p-value:0.0)\n",
      "Cramer Correlation: 0.062 Correlated (p-value:0.0)\n",
      "Cramer Correlation: 0.101 Correlated (p-value:0.0)\n",
      "Cramer Correlation: 0.013 Non-Correlated (p-value:0.136)\n",
      "Cramer Correlation: 0.019 Correlated (p-value:0.025)\n",
      "Cramer Correlation: 0.028 Correlated (p-value:0.001)\n",
      "Cramer Correlation: 0.006 Non-Correlated (p-value:0.237)\n",
      "Cramer Correlation: 0.015 Non-Correlated (p-value:0.054)\n",
      "Cramer Correlation: 0.115 Correlated (p-value:0.0)\n",
      "Cramer Correlation: 0.118 Correlated (p-value:0.0)\n",
      "Cramer Correlation: 0.136 Correlated (p-value:0.0)\n",
      "Cramer Correlation: 0.0 Non-Correlated (p-value:0.641)\n",
      "Cramer Correlation: 0.087 Correlated (p-value:0.0)\n",
      "Cramer Correlation: 0.02 Correlated (p-value:0.019)\n",
      "Cramer Correlation: 0.074 Correlated (p-value:0.0)\n",
      "Cramer Correlation: 0.0 Non-Correlated (p-value:0.951)\n",
      "Cramer Correlation: 0.0 Non-Correlated (p-value:0.872)\n",
      "Cramer Correlation: 0.009 Non-Correlated (p-value:0.285)\n",
      "Cramer Correlation: 0.028 Correlated (p-value:0.001)\n",
      "Cramer Correlation: 0.008 Non-Correlated (p-value:0.186)\n",
      "Cramer Correlation: 0.151 Correlated (p-value:0.0)\n",
      "Cramer Correlation: 0.127 Correlated (p-value:0.0)\n",
      "Cramer Correlation: 0.083 Correlated (p-value:0.0)\n",
      "Cramer Correlation: 0.0 Non-Correlated (p-value:0.781)\n",
      "Cramer Correlation: 0.0 Non-Correlated (p-value:0.75)\n",
      "Cramer Correlation: 0.0 Non-Correlated (p-value:0.495)\n",
      "Cramer Correlation: 0.002 Non-Correlated (p-value:0.309)\n",
      "Cramer Correlation: 0.028 Correlated (p-value:0.002)\n",
      "Cramer Correlation: 0.031 Correlated (p-value:0.0)\n",
      "Cramer Correlation: 0.113 Correlated (p-value:0.0)\n",
      "Cramer Correlation: 0.034 Correlated (p-value:0.0)\n",
      "Cramer Correlation: 0.12 Correlated (p-value:0.0)\n",
      "Cramer Correlation: 0.078 Correlated (p-value:0.0)\n",
      "Cramer Correlation: 0.215 Correlated (p-value:0.0)\n",
      "Cramer Correlation: 0.081 Correlated (p-value:0.0)\n",
      "Cramer Correlation: 0.129 Correlated (p-value:0.0)\n"
     ]
    },
    {
     "data": {
      "text/html": [
       "<style  type=\"text/css\" >\n",
       "#T_ec068_row0_col0,#T_ec068_row0_col1,#T_ec068_row0_col2,#T_ec068_row1_col0,#T_ec068_row1_col1,#T_ec068_row1_col2,#T_ec068_row2_col0,#T_ec068_row2_col1,#T_ec068_row2_col2,#T_ec068_row3_col0,#T_ec068_row3_col1,#T_ec068_row3_col2,#T_ec068_row4_col0,#T_ec068_row4_col1,#T_ec068_row4_col2,#T_ec068_row5_col0,#T_ec068_row5_col1,#T_ec068_row5_col2,#T_ec068_row6_col0,#T_ec068_row6_col1,#T_ec068_row6_col2,#T_ec068_row7_col0,#T_ec068_row7_col1,#T_ec068_row7_col2,#T_ec068_row8_col0,#T_ec068_row8_col1,#T_ec068_row8_col2,#T_ec068_row9_col0,#T_ec068_row9_col1,#T_ec068_row9_col2,#T_ec068_row10_col0,#T_ec068_row10_col1,#T_ec068_row10_col2,#T_ec068_row11_col0,#T_ec068_row11_col1,#T_ec068_row11_col2,#T_ec068_row12_col0,#T_ec068_row12_col1,#T_ec068_row12_col2,#T_ec068_row13_col0,#T_ec068_row13_col1,#T_ec068_row13_col2,#T_ec068_row14_col0,#T_ec068_row14_col1,#T_ec068_row14_col2,#T_ec068_row15_col0,#T_ec068_row15_col1,#T_ec068_row15_col2,#T_ec068_row16_col0,#T_ec068_row16_col1,#T_ec068_row16_col2,#T_ec068_row17_col0,#T_ec068_row17_col1,#T_ec068_row17_col2,#T_ec068_row18_col0,#T_ec068_row18_col1,#T_ec068_row18_col2,#T_ec068_row19_col0,#T_ec068_row19_col1,#T_ec068_row19_col2,#T_ec068_row20_col0,#T_ec068_row20_col1,#T_ec068_row20_col2,#T_ec068_row21_col0,#T_ec068_row21_col1,#T_ec068_row21_col2,#T_ec068_row22_col0,#T_ec068_row22_col1,#T_ec068_row22_col2,#T_ec068_row23_col0,#T_ec068_row23_col1,#T_ec068_row23_col2,#T_ec068_row24_col0,#T_ec068_row24_col1,#T_ec068_row24_col2,#T_ec068_row25_col0,#T_ec068_row25_col1,#T_ec068_row25_col2,#T_ec068_row26_col0,#T_ec068_row26_col1,#T_ec068_row26_col2,#T_ec068_row27_col0,#T_ec068_row27_col1,#T_ec068_row27_col2,#T_ec068_row28_col0,#T_ec068_row28_col1,#T_ec068_row28_col2,#T_ec068_row29_col0,#T_ec068_row29_col1,#T_ec068_row29_col2,#T_ec068_row30_col0,#T_ec068_row30_col1,#T_ec068_row30_col2,#T_ec068_row31_col0,#T_ec068_row31_col1,#T_ec068_row31_col2,#T_ec068_row32_col0,#T_ec068_row32_col1,#T_ec068_row32_col2,#T_ec068_row33_col0,#T_ec068_row33_col1,#T_ec068_row33_col2,#T_ec068_row34_col0,#T_ec068_row34_col1,#T_ec068_row34_col2,#T_ec068_row35_col0,#T_ec068_row35_col1,#T_ec068_row35_col2,#T_ec068_row36_col0,#T_ec068_row36_col1,#T_ec068_row36_col2,#T_ec068_row37_col0,#T_ec068_row37_col1,#T_ec068_row37_col2,#T_ec068_row38_col0,#T_ec068_row38_col1,#T_ec068_row38_col2{\n",
       "            text-align:  left;\n",
       "        }</style><table id=\"T_ec068_\" ><thead>    <tr>        <th class=\"blank level0\" ></th>        <th class=\"col_heading level0 col0\" >Coeff</th>        <th class=\"col_heading level0 col1\" >P Value</th>        <th class=\"col_heading level0 col2\" >Effective</th>    </tr></thead><tbody>\n",
       "                <tr>\n",
       "                        <th id=\"T_ec068_level0_row0\" class=\"row_heading level0 row0\" >区县</th>\n",
       "                        <td id=\"T_ec068_row0_col0\" class=\"data row0 col0\" >0.431000</td>\n",
       "                        <td id=\"T_ec068_row0_col1\" class=\"data row0 col1\" >0.000000</td>\n",
       "                        <td id=\"T_ec068_row0_col2\" class=\"data row0 col2\" >Correlated</td>\n",
       "            </tr>\n",
       "            <tr>\n",
       "                        <th id=\"T_ec068_level0_row1\" class=\"row_heading level0 row1\" >性别</th>\n",
       "                        <td id=\"T_ec068_row1_col0\" class=\"data row1 col0\" >0.035000</td>\n",
       "                        <td id=\"T_ec068_row1_col1\" class=\"data row1 col1\" >0.000000</td>\n",
       "                        <td id=\"T_ec068_row1_col2\" class=\"data row1 col2\" >Correlated</td>\n",
       "            </tr>\n",
       "            <tr>\n",
       "                        <th id=\"T_ec068_level0_row2\" class=\"row_heading level0 row2\" >户籍</th>\n",
       "                        <td id=\"T_ec068_row2_col0\" class=\"data row2 col0\" >0.119000</td>\n",
       "                        <td id=\"T_ec068_row2_col1\" class=\"data row2 col1\" >0.000000</td>\n",
       "                        <td id=\"T_ec068_row2_col2\" class=\"data row2 col2\" >Correlated</td>\n",
       "            </tr>\n",
       "            <tr>\n",
       "                        <th id=\"T_ec068_level0_row3\" class=\"row_heading level0 row3\" >职业</th>\n",
       "                        <td id=\"T_ec068_row3_col0\" class=\"data row3 col0\" >0.144000</td>\n",
       "                        <td id=\"T_ec068_row3_col1\" class=\"data row3 col1\" >0.000000</td>\n",
       "                        <td id=\"T_ec068_row3_col2\" class=\"data row3 col2\" >Correlated</td>\n",
       "            </tr>\n",
       "            <tr>\n",
       "                        <th id=\"T_ec068_level0_row4\" class=\"row_heading level0 row4\" >首发症状</th>\n",
       "                        <td id=\"T_ec068_row4_col0\" class=\"data row4 col0\" >0.062000</td>\n",
       "                        <td id=\"T_ec068_row4_col1\" class=\"data row4 col1\" >0.000000</td>\n",
       "                        <td id=\"T_ec068_row4_col2\" class=\"data row4 col2\" >Correlated</td>\n",
       "            </tr>\n",
       "            <tr>\n",
       "                        <th id=\"T_ec068_level0_row5\" class=\"row_heading level0 row5\" >发热</th>\n",
       "                        <td id=\"T_ec068_row5_col0\" class=\"data row5 col0\" >0.101000</td>\n",
       "                        <td id=\"T_ec068_row5_col1\" class=\"data row5 col1\" >0.000000</td>\n",
       "                        <td id=\"T_ec068_row5_col2\" class=\"data row5 col2\" >Correlated</td>\n",
       "            </tr>\n",
       "            <tr>\n",
       "                        <th id=\"T_ec068_level0_row6\" class=\"row_heading level0 row6\" >脱水</th>\n",
       "                        <td id=\"T_ec068_row6_col0\" class=\"data row6 col0\" >0.013000</td>\n",
       "                        <td id=\"T_ec068_row6_col1\" class=\"data row6 col1\" >0.136000</td>\n",
       "                        <td id=\"T_ec068_row6_col2\" class=\"data row6 col2\" >Non-Correlated</td>\n",
       "            </tr>\n",
       "            <tr>\n",
       "                        <th id=\"T_ec068_level0_row7\" class=\"row_heading level0 row7\" >腹胀</th>\n",
       "                        <td id=\"T_ec068_row7_col0\" class=\"data row7 col0\" >0.019000</td>\n",
       "                        <td id=\"T_ec068_row7_col1\" class=\"data row7 col1\" >0.025000</td>\n",
       "                        <td id=\"T_ec068_row7_col2\" class=\"data row7 col2\" >Correlated</td>\n",
       "            </tr>\n",
       "            <tr>\n",
       "                        <th id=\"T_ec068_level0_row8\" class=\"row_heading level0 row8\" >恶心</th>\n",
       "                        <td id=\"T_ec068_row8_col0\" class=\"data row8 col0\" >0.028000</td>\n",
       "                        <td id=\"T_ec068_row8_col1\" class=\"data row8 col1\" >0.001000</td>\n",
       "                        <td id=\"T_ec068_row8_col2\" class=\"data row8 col2\" >Correlated</td>\n",
       "            </tr>\n",
       "            <tr>\n",
       "                        <th id=\"T_ec068_level0_row9\" class=\"row_heading level0 row9\" >里急后重</th>\n",
       "                        <td id=\"T_ec068_row9_col0\" class=\"data row9 col0\" >0.006000</td>\n",
       "                        <td id=\"T_ec068_row9_col1\" class=\"data row9 col1\" >0.237000</td>\n",
       "                        <td id=\"T_ec068_row9_col2\" class=\"data row9 col2\" >Non-Correlated</td>\n",
       "            </tr>\n",
       "            <tr>\n",
       "                        <th id=\"T_ec068_level0_row10\" class=\"row_heading level0 row10\" >肠鸣音亢进</th>\n",
       "                        <td id=\"T_ec068_row10_col0\" class=\"data row10 col0\" >0.015000</td>\n",
       "                        <td id=\"T_ec068_row10_col1\" class=\"data row10 col1\" >0.054000</td>\n",
       "                        <td id=\"T_ec068_row10_col2\" class=\"data row10 col2\" >Non-Correlated</td>\n",
       "            </tr>\n",
       "            <tr>\n",
       "                        <th id=\"T_ec068_level0_row11\" class=\"row_heading level0 row11\" >腹痛</th>\n",
       "                        <td id=\"T_ec068_row11_col0\" class=\"data row11 col0\" >0.115000</td>\n",
       "                        <td id=\"T_ec068_row11_col1\" class=\"data row11 col1\" >0.000000</td>\n",
       "                        <td id=\"T_ec068_row11_col2\" class=\"data row11 col2\" >Correlated</td>\n",
       "            </tr>\n",
       "            <tr>\n",
       "                        <th id=\"T_ec068_level0_row12\" class=\"row_heading level0 row12\" >腹痛性质</th>\n",
       "                        <td id=\"T_ec068_row12_col0\" class=\"data row12 col0\" >0.118000</td>\n",
       "                        <td id=\"T_ec068_row12_col1\" class=\"data row12 col1\" >0.000000</td>\n",
       "                        <td id=\"T_ec068_row12_col2\" class=\"data row12 col2\" >Correlated</td>\n",
       "            </tr>\n",
       "            <tr>\n",
       "                        <th id=\"T_ec068_level0_row13\" class=\"row_heading level0 row13\" >腹痛部位</th>\n",
       "                        <td id=\"T_ec068_row13_col0\" class=\"data row13 col0\" >0.136000</td>\n",
       "                        <td id=\"T_ec068_row13_col1\" class=\"data row13 col1\" >0.000000</td>\n",
       "                        <td id=\"T_ec068_row13_col2\" class=\"data row13 col2\" >Correlated</td>\n",
       "            </tr>\n",
       "            <tr>\n",
       "                        <th id=\"T_ec068_level0_row14\" class=\"row_heading level0 row14\" >呕吐</th>\n",
       "                        <td id=\"T_ec068_row14_col0\" class=\"data row14 col0\" >0.000000</td>\n",
       "                        <td id=\"T_ec068_row14_col1\" class=\"data row14 col1\" >0.641000</td>\n",
       "                        <td id=\"T_ec068_row14_col2\" class=\"data row14 col2\" >Non-Correlated</td>\n",
       "            </tr>\n",
       "            <tr>\n",
       "                        <th id=\"T_ec068_level0_row15\" class=\"row_heading level0 row15\" >呕吐在腹泻___发生</th>\n",
       "                        <td id=\"T_ec068_row15_col0\" class=\"data row15 col0\" >0.087000</td>\n",
       "                        <td id=\"T_ec068_row15_col1\" class=\"data row15 col1\" >0.000000</td>\n",
       "                        <td id=\"T_ec068_row15_col2\" class=\"data row15 col2\" >Correlated</td>\n",
       "            </tr>\n",
       "            <tr>\n",
       "                        <th id=\"T_ec068_level0_row16\" class=\"row_heading level0 row16\" >腹泻</th>\n",
       "                        <td id=\"T_ec068_row16_col0\" class=\"data row16 col0\" >0.020000</td>\n",
       "                        <td id=\"T_ec068_row16_col1\" class=\"data row16 col1\" >0.019000</td>\n",
       "                        <td id=\"T_ec068_row16_col2\" class=\"data row16 col2\" >Correlated</td>\n",
       "            </tr>\n",
       "            <tr>\n",
       "                        <th id=\"T_ec068_level0_row17\" class=\"row_heading level0 row17\" >腹泻性质</th>\n",
       "                        <td id=\"T_ec068_row17_col0\" class=\"data row17 col0\" >0.074000</td>\n",
       "                        <td id=\"T_ec068_row17_col1\" class=\"data row17 col1\" >0.000000</td>\n",
       "                        <td id=\"T_ec068_row17_col2\" class=\"data row17 col2\" >Correlated</td>\n",
       "            </tr>\n",
       "            <tr>\n",
       "                        <th id=\"T_ec068_level0_row18\" class=\"row_heading level0 row18\" >神经症状</th>\n",
       "                        <td id=\"T_ec068_row18_col0\" class=\"data row18 col0\" >0.000000</td>\n",
       "                        <td id=\"T_ec068_row18_col1\" class=\"data row18 col1\" >0.951000</td>\n",
       "                        <td id=\"T_ec068_row18_col2\" class=\"data row18 col2\" >Non-Correlated</td>\n",
       "            </tr>\n",
       "            <tr>\n",
       "                        <th id=\"T_ec068_level0_row19\" class=\"row_heading level0 row19\" >中毒症状</th>\n",
       "                        <td id=\"T_ec068_row19_col0\" class=\"data row19 col0\" >0.000000</td>\n",
       "                        <td id=\"T_ec068_row19_col1\" class=\"data row19 col1\" >0.872000</td>\n",
       "                        <td id=\"T_ec068_row19_col2\" class=\"data row19 col2\" >Non-Correlated</td>\n",
       "            </tr>\n",
       "            <tr>\n",
       "                        <th id=\"T_ec068_level0_row20\" class=\"row_heading level0 row20\" >其他症状</th>\n",
       "                        <td id=\"T_ec068_row20_col0\" class=\"data row20 col0\" >0.009000</td>\n",
       "                        <td id=\"T_ec068_row20_col1\" class=\"data row20 col1\" >0.285000</td>\n",
       "                        <td id=\"T_ec068_row20_col2\" class=\"data row20 col2\" >Non-Correlated</td>\n",
       "            </tr>\n",
       "            <tr>\n",
       "                        <th id=\"T_ec068_level0_row21\" class=\"row_heading level0 row21\" >近6个月有无肠道疾病既往史</th>\n",
       "                        <td id=\"T_ec068_row21_col0\" class=\"data row21 col0\" >0.028000</td>\n",
       "                        <td id=\"T_ec068_row21_col1\" class=\"data row21 col1\" >0.001000</td>\n",
       "                        <td id=\"T_ec068_row21_col2\" class=\"data row21 col2\" >Correlated</td>\n",
       "            </tr>\n",
       "            <tr>\n",
       "                        <th id=\"T_ec068_level0_row22\" class=\"row_heading level0 row22\" >发病前五天内是否有不洁饮食史</th>\n",
       "                        <td id=\"T_ec068_row22_col0\" class=\"data row22 col0\" >0.008000</td>\n",
       "                        <td id=\"T_ec068_row22_col1\" class=\"data row22 col1\" >0.186000</td>\n",
       "                        <td id=\"T_ec068_row22_col2\" class=\"data row22 col2\" >Non-Correlated</td>\n",
       "            </tr>\n",
       "            <tr>\n",
       "                        <th id=\"T_ec068_level0_row23\" class=\"row_heading level0 row23\" >食品名称</th>\n",
       "                        <td id=\"T_ec068_row23_col0\" class=\"data row23 col0\" >0.151000</td>\n",
       "                        <td id=\"T_ec068_row23_col1\" class=\"data row23 col1\" >0.000000</td>\n",
       "                        <td id=\"T_ec068_row23_col2\" class=\"data row23 col2\" >Correlated</td>\n",
       "            </tr>\n",
       "            <tr>\n",
       "                        <th id=\"T_ec068_level0_row24\" class=\"row_heading level0 row24\" >食物分类</th>\n",
       "                        <td id=\"T_ec068_row24_col0\" class=\"data row24 col0\" >0.127000</td>\n",
       "                        <td id=\"T_ec068_row24_col1\" class=\"data row24 col1\" >0.000000</td>\n",
       "                        <td id=\"T_ec068_row24_col2\" class=\"data row24 col2\" >Correlated</td>\n",
       "            </tr>\n",
       "            <tr>\n",
       "                        <th id=\"T_ec068_level0_row25\" class=\"row_heading level0 row25\" >进餐地点</th>\n",
       "                        <td id=\"T_ec068_row25_col0\" class=\"data row25 col0\" >0.083000</td>\n",
       "                        <td id=\"T_ec068_row25_col1\" class=\"data row25 col1\" >0.000000</td>\n",
       "                        <td id=\"T_ec068_row25_col2\" class=\"data row25 col2\" >Correlated</td>\n",
       "            </tr>\n",
       "            <tr>\n",
       "                        <th id=\"T_ec068_level0_row26\" class=\"row_heading level0 row26\" >发病前5天内是否有不洁饮水史</th>\n",
       "                        <td id=\"T_ec068_row26_col0\" class=\"data row26 col0\" >0.000000</td>\n",
       "                        <td id=\"T_ec068_row26_col1\" class=\"data row26 col1\" >0.781000</td>\n",
       "                        <td id=\"T_ec068_row26_col2\" class=\"data row26 col2\" >Non-Correlated</td>\n",
       "            </tr>\n",
       "            <tr>\n",
       "                        <th id=\"T_ec068_level0_row27\" class=\"row_heading level0 row27\" >发病前5天内周边有无类似腹泻病例</th>\n",
       "                        <td id=\"T_ec068_row27_col0\" class=\"data row27 col0\" >0.000000</td>\n",
       "                        <td id=\"T_ec068_row27_col1\" class=\"data row27 col1\" >0.750000</td>\n",
       "                        <td id=\"T_ec068_row27_col2\" class=\"data row27 col2\" >Non-Correlated</td>\n",
       "            </tr>\n",
       "            <tr>\n",
       "                        <th id=\"T_ec068_level0_row28\" class=\"row_heading level0 row28\" >发病前5天内是否有聚餐史</th>\n",
       "                        <td id=\"T_ec068_row28_col0\" class=\"data row28 col0\" >0.000000</td>\n",
       "                        <td id=\"T_ec068_row28_col1\" class=\"data row28 col1\" >0.495000</td>\n",
       "                        <td id=\"T_ec068_row28_col2\" class=\"data row28 col2\" >Non-Correlated</td>\n",
       "            </tr>\n",
       "            <tr>\n",
       "                        <th id=\"T_ec068_level0_row29\" class=\"row_heading level0 row29\" >发病前一周是否外出</th>\n",
       "                        <td id=\"T_ec068_row29_col0\" class=\"data row29 col0\" >0.002000</td>\n",
       "                        <td id=\"T_ec068_row29_col1\" class=\"data row29 col1\" >0.309000</td>\n",
       "                        <td id=\"T_ec068_row29_col2\" class=\"data row29 col2\" >Non-Correlated</td>\n",
       "            </tr>\n",
       "            <tr>\n",
       "                        <th id=\"T_ec068_level0_row30\" class=\"row_heading level0 row30\" >是否家中饲养或接触过宠物</th>\n",
       "                        <td id=\"T_ec068_row30_col0\" class=\"data row30 col0\" >0.028000</td>\n",
       "                        <td id=\"T_ec068_row30_col1\" class=\"data row30 col1\" >0.002000</td>\n",
       "                        <td id=\"T_ec068_row30_col2\" class=\"data row30 col2\" >Correlated</td>\n",
       "            </tr>\n",
       "            <tr>\n",
       "                        <th id=\"T_ec068_level0_row31\" class=\"row_heading level0 row31\" >就诊前是否服用过抗生素</th>\n",
       "                        <td id=\"T_ec068_row31_col0\" class=\"data row31 col0\" >0.031000</td>\n",
       "                        <td id=\"T_ec068_row31_col1\" class=\"data row31 col1\" >0.000000</td>\n",
       "                        <td id=\"T_ec068_row31_col2\" class=\"data row31 col2\" >Correlated</td>\n",
       "            </tr>\n",
       "            <tr>\n",
       "                        <th id=\"T_ec068_level0_row32\" class=\"row_heading level0 row32\" >诊断</th>\n",
       "                        <td id=\"T_ec068_row32_col0\" class=\"data row32 col0\" >0.113000</td>\n",
       "                        <td id=\"T_ec068_row32_col1\" class=\"data row32 col1\" >0.000000</td>\n",
       "                        <td id=\"T_ec068_row32_col2\" class=\"data row32 col2\" >Correlated</td>\n",
       "            </tr>\n",
       "            <tr>\n",
       "                        <th id=\"T_ec068_level0_row33\" class=\"row_heading level0 row33\" >诊断类型</th>\n",
       "                        <td id=\"T_ec068_row33_col0\" class=\"data row33 col0\" >0.034000</td>\n",
       "                        <td id=\"T_ec068_row33_col1\" class=\"data row33 col1\" >0.000000</td>\n",
       "                        <td id=\"T_ec068_row33_col2\" class=\"data row33 col2\" >Correlated</td>\n",
       "            </tr>\n",
       "            <tr>\n",
       "                        <th id=\"T_ec068_level0_row34\" class=\"row_heading level0 row34\" >临床处理</th>\n",
       "                        <td id=\"T_ec068_row34_col0\" class=\"data row34 col0\" >0.120000</td>\n",
       "                        <td id=\"T_ec068_row34_col1\" class=\"data row34 col1\" >0.000000</td>\n",
       "                        <td id=\"T_ec068_row34_col2\" class=\"data row34 col2\" >Correlated</td>\n",
       "            </tr>\n",
       "            <tr>\n",
       "                        <th id=\"T_ec068_level0_row35\" class=\"row_heading level0 row35\" >本次就诊是否给予抗生素</th>\n",
       "                        <td id=\"T_ec068_row35_col0\" class=\"data row35 col0\" >0.078000</td>\n",
       "                        <td id=\"T_ec068_row35_col1\" class=\"data row35 col1\" >0.000000</td>\n",
       "                        <td id=\"T_ec068_row35_col2\" class=\"data row35 col2\" >Correlated</td>\n",
       "            </tr>\n",
       "            <tr>\n",
       "                        <th id=\"T_ec068_level0_row36\" class=\"row_heading level0 row36\" >抗生素名称.1</th>\n",
       "                        <td id=\"T_ec068_row36_col0\" class=\"data row36 col0\" >0.215000</td>\n",
       "                        <td id=\"T_ec068_row36_col1\" class=\"data row36 col1\" >0.000000</td>\n",
       "                        <td id=\"T_ec068_row36_col2\" class=\"data row36 col2\" >Correlated</td>\n",
       "            </tr>\n",
       "            <tr>\n",
       "                        <th id=\"T_ec068_level0_row37\" class=\"row_heading level0 row37\" >是否采集</th>\n",
       "                        <td id=\"T_ec068_row37_col0\" class=\"data row37 col0\" >0.081000</td>\n",
       "                        <td id=\"T_ec068_row37_col1\" class=\"data row37 col1\" >0.000000</td>\n",
       "                        <td id=\"T_ec068_row37_col2\" class=\"data row37 col2\" >Correlated</td>\n",
       "            </tr>\n",
       "            <tr>\n",
       "                        <th id=\"T_ec068_level0_row38\" class=\"row_heading level0 row38\" >采样类型</th>\n",
       "                        <td id=\"T_ec068_row38_col0\" class=\"data row38 col0\" >0.129000</td>\n",
       "                        <td id=\"T_ec068_row38_col1\" class=\"data row38 col1\" >0.000000</td>\n",
       "                        <td id=\"T_ec068_row38_col2\" class=\"data row38 col2\" >Correlated</td>\n",
       "            </tr>\n",
       "    </tbody></table>"
      ],
      "text/plain": [
       "<pandas.io.formats.style.Styler at 0x24b10058850>"
      ]
     },
     "execution_count": 195,
     "metadata": {},
     "output_type": "execute_result"
    }
   ],
   "source": [
    "## 分类数据：卡方检验\n",
    "def correlation_chi2(x,y,df):\n",
    "    \"\"\"\n",
    "    Chi-Square test: for two categorical factors\n",
    "    \"\"\"\n",
    "    cont_table = pd.crosstab(index=df[x], columns=df[y])\n",
    "    chi2_test = scipy.stats.chi2_contingency(cont_table)\n",
    "    chi2, p = chi2_test[0], chi2_test[1]\n",
    "    n = cont_table.sum().sum()\n",
    "    phi2 = chi2/n\n",
    "    r,k = cont_table.shape\n",
    "    phi2corr = max(0, phi2-((k-1)*(r-1))/(n-1))\n",
    "    rcorr = r-((r-1)**2)/(n-1)\n",
    "    kcorr = k-((k-1)**2)/(n-1)\n",
    "    coeff = np.sqrt(phi2corr/min((kcorr-1), (rcorr-1)))\n",
    "    coeff, p = round(coeff, 3), round(p, 3)\n",
    "    conclusion = \"Correlated\" if p < 0.05 else \"Non-Correlated\"\n",
    "#     conclusion = \"Significant\" if p < 0.05 else \"Non-Significant\"\n",
    "    print(\"Cramer Correlation:\", coeff, conclusion, \"(p-value:\"+str(p)+\")\")\n",
    "    return coeff, p, conclusion\n",
    "    \n",
    "y = \"细菌结果\"\n",
    "obj_coeff = []\n",
    "obj_p = []\n",
    "obj_conclusion = []\n",
    "for column in obj_columns:\n",
    "    coeff, p, conclusion = correlation_chi2(column,y,df)\n",
    "    obj_coeff.append(coeff)\n",
    "    obj_p.append(p)\n",
    "    obj_conclusion.append(conclusion)\n",
    "\n",
    "\n",
    "list_of_tuple = list(zip(obj_coeff,obj_p,obj_conclusion))\n",
    "obj_result = pd.DataFrame(data=list_of_tuple,index=obj_columns,columns=[\"Coeff\", \"P Value\", \"Effective\"])\n",
    "# 设置让列名对齐\n",
    "obj_result.style.set_properties(**{'text-align': 'left'})"
   ]
  },
  {
   "cell_type": "code",
   "execution_count": 216,
   "id": "ae2a7b16",
   "metadata": {
    "ExecuteTime": {
     "end_time": "2021-10-09T17:38:37.979650Z",
     "start_time": "2021-10-09T17:38:37.616577Z"
    },
    "scrolled": true
   },
   "outputs": [
    {
     "data": {
      "image/png": "[encoded data removed]",
      "text/plain": [
       "<Figure size 864x432 with 2 Axes>"
      ]
     },
     "metadata": {
      "needs_background": "light"
     },
     "output_type": "display_data"
    }
   ],
   "source": [
    "#设置图例并且设置图例的字体及大小\n",
    "font1 = {'family' : 'Times New Roman',\n",
    "'weight' : 'normal',\n",
    "'size'   : 18,\n",
    "}\n",
    "\n",
    "#设置横纵坐标的名称以及对应字体格式\n",
    "font2 = {'family' : 'Times New Roman',\n",
    "'weight' : 'normal',\n",
    "'size'   : 20,\n",
    "}\n",
    "\n",
    "font3 = {'family' : 'Times New Roman',\n",
    "'weight' : 'normal',\n",
    "'size'   : 23,\n",
    "}\n",
    "\n",
    "\n",
    "def correlation_plot(x,y,df):\n",
    "    fig, ax = plt.subplots(nrows=1, ncols=2,  sharex=False, sharey=False, figsize=(12, 6))\n",
    "    fig.suptitle(\"Fever\"+\"   vs   \"+\"Bacterial infection results\", fontsize=20,fontproperties=font3)\n",
    "\n",
    "    ### count\n",
    "    ax[0].set_title('count',fontproperties=font2)\n",
    "    # groupby(x) 括号中填写的是 column, 这个 column 就会变为分组表中的 index\n",
    "    # groupby(x)[y]: y 会成为分组表中的 column\n",
    "    order = df.groupby(x)[y].count().index.tolist()\n",
    "    # order =  [\"男\", \"女\"]\n",
    "    # sns.countplot: x 是横轴, count 是纵轴, hue 是分组\n",
    "    sns.countplot(x=x, hue=y, data=df, order=order, ax=ax[0])\n",
    "    # ax[0].grid(True)\n",
    "    ax[0].legend(prop=font1,loc='best',labels=['Negative', 'Positive'])\n",
    "    \n",
    "    ax[0].set_xlabel('Fever',font2)\n",
    "    ax[0].set_ylabel('Count',font2)\n",
    "    ax[0].set_xticklabels(['No','Yes'])\n",
    "    #设置坐标刻度值的大小以及刻度值的字体\n",
    "    ax[0].tick_params(labelsize=18)\n",
    "    labels = ax[0].get_xticklabels() + ax[0].get_yticklabels()\n",
    "    [label.set_fontname('Times New Roman') for label in labels]\n",
    "    \n",
    "    ### percentage\n",
    "    ax[1].set_title('percentage',fontproperties=font2)\n",
    "    # reset_index(): 本来在分组表中是 x (\"性别\") 作为 index\n",
    "    # 此时使用 reset_index() 就是将性别这个索引还原为原来的列\n",
    "    # groupby 之后考虑是否要 reset_index()\n",
    "    a = df.groupby(x)[y].count().reset_index()\n",
    "    # 把 column 为 y (\"细菌结果\") 的列重命名为: \"tot\" (total)\n",
    "    a = a.rename(columns={y:\"tot\"})\n",
    "    # 注意 b 是 Series 结构，不是 DataFrame\n",
    "    b = df.groupby([x,y])[y].count()\n",
    "    # 把 b 从 Series 转换为 DataFrame\n",
    "    b = b.to_frame()\n",
    "    b = b.rename(columns={y:0}).reset_index()\n",
    "    b = b.merge(a, how=\"left\")\n",
    "    b[\"%\"] = b[0] / b[\"tot\"] *100\n",
    "    sns.barplot(x=x, y=\"%\", hue=y, data=b,\n",
    "                ax=ax[1]).get_legend().remove()\n",
    "    # ax[1].grid(True)\n",
    "    ax[1].set_xticklabels(['No','Yes'])\n",
    "    ax[1].set_xlabel('Fever',font2)\n",
    "    ax[1].set_ylabel('%',font2)\n",
    "    ax[1].tick_params(labelsize=18)\n",
    "    labels = ax[1].get_xticklabels() + ax[1].get_yticklabels()\n",
    "    [label.set_fontname('Times New Roman') for label in labels]\n",
    "    # 调整整体空白\n",
    "    fig.tight_layout()\n",
    "    plt.show();\n",
    "    fig.savefig('D:/Dropbox/论文/图片/fever_vs_label.pdf',bbox_inches = 'tight')\n",
    "\n",
    "# 有显著影响的特征\n",
    "x, y = \"发热\", \"细菌结果\"\n",
    "correlation_plot(x,y,df)"
   ]
  },
  {
   "cell_type": "code",
   "execution_count": 217,
   "id": "3f59eb43",
   "metadata": {
    "ExecuteTime": {
     "end_time": "2021-10-09T17:39:16.968684Z",
     "start_time": "2021-10-09T17:39:16.594608Z"
    }
   },
   "outputs": [
    {
     "data": {
      "image/png": "[encoded data removed]",
      "text/plain": [
       "<Figure size 864x432 with 2 Axes>"
      ]
     },
     "metadata": {
      "needs_background": "light"
     },
     "output_type": "display_data"
    }
   ],
   "source": [
    "def correlation_plot_1(x,y,df):\n",
    "    fig, ax = plt.subplots(nrows=1, ncols=2,  sharex=False, sharey=False, figsize=(12, 6))\n",
    "    fig.suptitle(\"Vomit\"+\"   vs   \"+\"Bacterial infection results\", fontsize=20,fontproperties=font3)\n",
    "\n",
    "    ### count\n",
    "    ax[0].set_title('count',fontproperties=font2)\n",
    "    # groupby(x) 括号中填写的是 column, 这个 column 就会变为分组表中的 index\n",
    "    # groupby(x)[y]: y 会成为分组表中的 column\n",
    "    order = df.groupby(x)[y].count().index.tolist()\n",
    "    # order =  [\"男\", \"女\"]\n",
    "    # sns.countplot: x 是横轴, count 是纵轴, hue 是分组\n",
    "    sns.countplot(x=x, hue=y, data=df, order=order, ax=ax[0])\n",
    "    # ax[0].grid(True)\n",
    "    ax[0].legend(prop=font1,loc='best',labels=['Negative', 'Positive'])\n",
    "    ax[0].set_xlabel('Vomit',font2)\n",
    "    ax[0].set_ylabel('Count',font2)\n",
    "    ax[0].set_xticklabels(['No','Yes'])\n",
    "    #设置坐标刻度值的大小以及刻度值的字体\n",
    "    ax[0].tick_params(labelsize=18)\n",
    "    labels = ax[0].get_xticklabels() + ax[0].get_yticklabels()\n",
    "    [label.set_fontname('Times New Roman') for label in labels]\n",
    "    \n",
    "    ### percentage\n",
    "    ax[1].set_title('percentage',fontproperties=font2)\n",
    "    # reset_index(): 本来在分组表中是 x (\"性别\") 作为 index\n",
    "    # 此时使用 reset_index() 就是将性别这个索引还原为原来的列\n",
    "    # groupby 之后考虑是否要 reset_index()\n",
    "    a = df.groupby(x)[y].count().reset_index()\n",
    "    # 把 column 为 y (\"细菌结果\") 的列重命名为: \"tot\" (total)\n",
    "    a = a.rename(columns={y:\"tot\"})\n",
    "    # 注意 b 是 Series 结构，不是 DataFrame\n",
    "    b = df.groupby([x,y])[y].count()\n",
    "    # 把 b 从 Series 转换为 DataFrame\n",
    "    b = b.to_frame()\n",
    "    b = b.rename(columns={y:0}).reset_index()\n",
    "    b = b.merge(a, how=\"left\")\n",
    "    b[\"%\"] = b[0] / b[\"tot\"] *100\n",
    "    sns.barplot(x=x, y=\"%\", hue=y, data=b,\n",
    "                ax=ax[1]).get_legend().remove()\n",
    "    # ax[1].grid(True)\n",
    "    ax[1].set_xticklabels(['No','Yes'])\n",
    "    ax[1].set_xlabel('Vomit',font2)\n",
    "    ax[1].set_ylabel('%',font2)\n",
    "    ax[1].tick_params(labelsize=18)\n",
    "    labels = ax[1].get_xticklabels() + ax[1].get_yticklabels()\n",
    "    [label.set_fontname('Times New Roman') for label in labels]\n",
    "    # 调整整体空白\n",
    "    fig.tight_layout()\n",
    "    plt.show();\n",
    "    fig.savefig('D:/Dropbox/论文/图片/Vomit_vs_label.pdf',bbox_inches = 'tight')\n",
    "\n",
    "\n",
    "# 无显著影响的特征\n",
    "x, y = \"呕吐\", \"细菌结果\"\n",
    "correlation_plot_1(x,y,df)"
   ]
  },
  {
   "cell_type": "code",
   "execution_count": 218,
   "id": "ec09819e",
   "metadata": {
    "ExecuteTime": {
     "end_time": "2021-10-09T17:40:09.820645Z",
     "start_time": "2021-10-09T17:40:09.809643Z"
    }
   },
   "outputs": [],
   "source": [
    "obj_result = obj_result.drop(columns=['Coeff'],axis=1)"
   ]
  },
  {
   "cell_type": "code",
   "execution_count": 258,
   "id": "76ae0e36",
   "metadata": {
    "ExecuteTime": {
     "end_time": "2021-10-10T07:30:22.214491Z",
     "start_time": "2021-10-10T07:30:22.125471Z"
    },
    "scrolled": true
   },
   "outputs": [
    {
     "data": {
      "text/html": [
       "<div>\n",
       "<style scoped>\n",
       "    .dataframe tbody tr th:only-of-type {\n",
       "        vertical-align: middle;\n",
       "    }\n",
       "\n",
       "    .dataframe tbody tr th {\n",
       "        vertical-align: top;\n",
       "    }\n",
       "\n",
       "    .dataframe thead th {\n",
       "        text-align: right;\n",
       "    }\n",
       "</style>\n",
       "<table border=\"1\" class=\"dataframe\">\n",
       "  <thead>\n",
       "    <tr style=\"text-align: right;\">\n",
       "      <th></th>\n",
       "      <th>P Value</th>\n",
       "      <th>Effective</th>\n",
       "    </tr>\n",
       "  </thead>\n",
       "  <tbody>\n",
       "    <tr>\n",
       "      <th>age</th>\n",
       "      <td>0.000</td>\n",
       "      <td>Correlated</td>\n",
       "    </tr>\n",
       "    <tr>\n",
       "      <th>体温</th>\n",
       "      <td>0.000</td>\n",
       "      <td>Correlated</td>\n",
       "    </tr>\n",
       "    <tr>\n",
       "      <th>呕吐频次</th>\n",
       "      <td>0.116</td>\n",
       "      <td>Non-Correlated</td>\n",
       "    </tr>\n",
       "    <tr>\n",
       "      <th>持续天数</th>\n",
       "      <td>0.234</td>\n",
       "      <td>Non-Correlated</td>\n",
       "    </tr>\n",
       "    <tr>\n",
       "      <th>腹泻量</th>\n",
       "      <td>0.000</td>\n",
       "      <td>Correlated</td>\n",
       "    </tr>\n",
       "    <tr>\n",
       "      <th>腹泻频次</th>\n",
       "      <td>0.000</td>\n",
       "      <td>Correlated</td>\n",
       "    </tr>\n",
       "    <tr>\n",
       "      <th>腹泻天数</th>\n",
       "      <td>0.000</td>\n",
       "      <td>Correlated</td>\n",
       "    </tr>\n",
       "    <tr>\n",
       "      <th>疑似病例人数</th>\n",
       "      <td>0.564</td>\n",
       "      <td>Non-Correlated</td>\n",
       "    </tr>\n",
       "    <tr>\n",
       "      <th>细菌结果</th>\n",
       "      <td>0.000</td>\n",
       "      <td>Correlated</td>\n",
       "    </tr>\n",
       "    <tr>\n",
       "      <th>区县</th>\n",
       "      <td>0.000</td>\n",
       "      <td>Correlated</td>\n",
       "    </tr>\n",
       "    <tr>\n",
       "      <th>性别</th>\n",
       "      <td>0.000</td>\n",
       "      <td>Correlated</td>\n",
       "    </tr>\n",
       "    <tr>\n",
       "      <th>户籍</th>\n",
       "      <td>0.000</td>\n",
       "      <td>Correlated</td>\n",
       "    </tr>\n",
       "    <tr>\n",
       "      <th>职业</th>\n",
       "      <td>0.000</td>\n",
       "      <td>Correlated</td>\n",
       "    </tr>\n",
       "    <tr>\n",
       "      <th>首发症状</th>\n",
       "      <td>0.000</td>\n",
       "      <td>Correlated</td>\n",
       "    </tr>\n",
       "    <tr>\n",
       "      <th>发热</th>\n",
       "      <td>0.000</td>\n",
       "      <td>Correlated</td>\n",
       "    </tr>\n",
       "    <tr>\n",
       "      <th>脱水</th>\n",
       "      <td>0.136</td>\n",
       "      <td>Non-Correlated</td>\n",
       "    </tr>\n",
       "    <tr>\n",
       "      <th>腹胀</th>\n",
       "      <td>0.025</td>\n",
       "      <td>Correlated</td>\n",
       "    </tr>\n",
       "    <tr>\n",
       "      <th>恶心</th>\n",
       "      <td>0.001</td>\n",
       "      <td>Correlated</td>\n",
       "    </tr>\n",
       "    <tr>\n",
       "      <th>里急后重</th>\n",
       "      <td>0.237</td>\n",
       "      <td>Non-Correlated</td>\n",
       "    </tr>\n",
       "    <tr>\n",
       "      <th>肠鸣音亢进</th>\n",
       "      <td>0.054</td>\n",
       "      <td>Non-Correlated</td>\n",
       "    </tr>\n",
       "    <tr>\n",
       "      <th>腹痛</th>\n",
       "      <td>0.000</td>\n",
       "      <td>Correlated</td>\n",
       "    </tr>\n",
       "    <tr>\n",
       "      <th>腹痛性质</th>\n",
       "      <td>0.000</td>\n",
       "      <td>Correlated</td>\n",
       "    </tr>\n",
       "    <tr>\n",
       "      <th>腹痛部位</th>\n",
       "      <td>0.000</td>\n",
       "      <td>Correlated</td>\n",
       "    </tr>\n",
       "    <tr>\n",
       "      <th>呕吐</th>\n",
       "      <td>0.641</td>\n",
       "      <td>Non-Correlated</td>\n",
       "    </tr>\n",
       "    <tr>\n",
       "      <th>呕吐在腹泻___发生</th>\n",
       "      <td>0.000</td>\n",
       "      <td>Correlated</td>\n",
       "    </tr>\n",
       "    <tr>\n",
       "      <th>腹泻</th>\n",
       "      <td>0.019</td>\n",
       "      <td>Correlated</td>\n",
       "    </tr>\n",
       "    <tr>\n",
       "      <th>腹泻性质</th>\n",
       "      <td>0.000</td>\n",
       "      <td>Correlated</td>\n",
       "    </tr>\n",
       "    <tr>\n",
       "      <th>神经症状</th>\n",
       "      <td>0.951</td>\n",
       "      <td>Non-Correlated</td>\n",
       "    </tr>\n",
       "    <tr>\n",
       "      <th>中毒症状</th>\n",
       "      <td>0.872</td>\n",
       "      <td>Non-Correlated</td>\n",
       "    </tr>\n",
       "    <tr>\n",
       "      <th>其他症状</th>\n",
       "      <td>0.285</td>\n",
       "      <td>Non-Correlated</td>\n",
       "    </tr>\n",
       "    <tr>\n",
       "      <th>近6个月有无肠道疾病既往史</th>\n",
       "      <td>0.001</td>\n",
       "      <td>Correlated</td>\n",
       "    </tr>\n",
       "    <tr>\n",
       "      <th>发病前五天内是否有不洁饮食史</th>\n",
       "      <td>0.186</td>\n",
       "      <td>Non-Correlated</td>\n",
       "    </tr>\n",
       "    <tr>\n",
       "      <th>食品名称</th>\n",
       "      <td>0.000</td>\n",
       "      <td>Correlated</td>\n",
       "    </tr>\n",
       "    <tr>\n",
       "      <th>食物分类</th>\n",
       "      <td>0.000</td>\n",
       "      <td>Correlated</td>\n",
       "    </tr>\n",
       "    <tr>\n",
       "      <th>进餐地点</th>\n",
       "      <td>0.000</td>\n",
       "      <td>Correlated</td>\n",
       "    </tr>\n",
       "    <tr>\n",
       "      <th>发病前5天内是否有不洁饮水史</th>\n",
       "      <td>0.781</td>\n",
       "      <td>Non-Correlated</td>\n",
       "    </tr>\n",
       "    <tr>\n",
       "      <th>发病前5天内周边有无类似腹泻病例</th>\n",
       "      <td>0.750</td>\n",
       "      <td>Non-Correlated</td>\n",
       "    </tr>\n",
       "    <tr>\n",
       "      <th>发病前5天内是否有聚餐史</th>\n",
       "      <td>0.495</td>\n",
       "      <td>Non-Correlated</td>\n",
       "    </tr>\n",
       "    <tr>\n",
       "      <th>发病前一周是否外出</th>\n",
       "      <td>0.309</td>\n",
       "      <td>Non-Correlated</td>\n",
       "    </tr>\n",
       "    <tr>\n",
       "      <th>是否家中饲养或接触过宠物</th>\n",
       "      <td>0.002</td>\n",
       "      <td>Correlated</td>\n",
       "    </tr>\n",
       "    <tr>\n",
       "      <th>就诊前是否服用过抗生素</th>\n",
       "      <td>0.000</td>\n",
       "      <td>Correlated</td>\n",
       "    </tr>\n",
       "    <tr>\n",
       "      <th>诊断</th>\n",
       "      <td>0.000</td>\n",
       "      <td>Correlated</td>\n",
       "    </tr>\n",
       "    <tr>\n",
       "      <th>诊断类型</th>\n",
       "      <td>0.000</td>\n",
       "      <td>Correlated</td>\n",
       "    </tr>\n",
       "    <tr>\n",
       "      <th>临床处理</th>\n",
       "      <td>0.000</td>\n",
       "      <td>Correlated</td>\n",
       "    </tr>\n",
       "    <tr>\n",
       "      <th>本次就诊是否给予抗生素</th>\n",
       "      <td>0.000</td>\n",
       "      <td>Correlated</td>\n",
       "    </tr>\n",
       "    <tr>\n",
       "      <th>抗生素名称.1</th>\n",
       "      <td>0.000</td>\n",
       "      <td>Correlated</td>\n",
       "    </tr>\n",
       "    <tr>\n",
       "      <th>是否采集</th>\n",
       "      <td>0.000</td>\n",
       "      <td>Correlated</td>\n",
       "    </tr>\n",
       "    <tr>\n",
       "      <th>采样类型</th>\n",
       "      <td>0.000</td>\n",
       "      <td>Correlated</td>\n",
       "    </tr>\n",
       "  </tbody>\n",
       "</table>\n",
       "</div>"
      ],
      "text/plain": [
       "                  P Value       Effective\n",
       "age                 0.000      Correlated\n",
       "体温                  0.000      Correlated\n",
       "呕吐频次                0.116  Non-Correlated\n",
       "持续天数                0.234  Non-Correlated\n",
       "腹泻量                 0.000      Correlated\n",
       "腹泻频次                0.000      Correlated\n",
       "腹泻天数                0.000      Correlated\n",
       "疑似病例人数              0.564  Non-Correlated\n",
       "细菌结果                0.000      Correlated\n",
       "区县                  0.000      Correlated\n",
       "性别                  0.000      Correlated\n",
       "户籍                  0.000      Correlated\n",
       "职业                  0.000      Correlated\n",
       "首发症状                0.000      Correlated\n",
       "发热                  0.000      Correlated\n",
       "脱水                  0.136  Non-Correlated\n",
       "腹胀                  0.025      Correlated\n",
       "恶心                  0.001      Correlated\n",
       "里急后重                0.237  Non-Correlated\n",
       "肠鸣音亢进               0.054  Non-Correlated\n",
       "腹痛                  0.000      Correlated\n",
       "腹痛性质                0.000      Correlated\n",
       "腹痛部位                0.000      Correlated\n",
       "呕吐                  0.641  Non-Correlated\n",
       "呕吐在腹泻___发生          0.000      Correlated\n",
       "腹泻                  0.019      Correlated\n",
       "腹泻性质                0.000      Correlated\n",
       "神经症状                0.951  Non-Correlated\n",
       "中毒症状                0.872  Non-Correlated\n",
       "其他症状                0.285  Non-Correlated\n",
       "近6个月有无肠道疾病既往史       0.001      Correlated\n",
       "发病前五天内是否有不洁饮食史      0.186  Non-Correlated\n",
       "食品名称                0.000      Correlated\n",
       "食物分类                0.000      Correlated\n",
       "进餐地点                0.000      Correlated\n",
       "发病前5天内是否有不洁饮水史      0.781  Non-Correlated\n",
       "发病前5天内周边有无类似腹泻病例    0.750  Non-Correlated\n",
       "发病前5天内是否有聚餐史        0.495  Non-Correlated\n",
       "发病前一周是否外出           0.309  Non-Correlated\n",
       "是否家中饲养或接触过宠物        0.002      Correlated\n",
       "就诊前是否服用过抗生素         0.000      Correlated\n",
       "诊断                  0.000      Correlated\n",
       "诊断类型                0.000      Correlated\n",
       "临床处理                0.000      Correlated\n",
       "本次就诊是否给予抗生素         0.000      Correlated\n",
       "抗生素名称.1             0.000      Correlated\n",
       "是否采集                0.000      Correlated\n",
       "采样类型                0.000      Correlated"
      ]
     },
     "execution_count": 258,
     "metadata": {},
     "output_type": "execute_result"
    },
    {
     "data": {
      "text/plain": [
       "['age',\n",
       " '体温',\n",
       " '腹泻量',\n",
       " '腹泻频次',\n",
       " '腹泻天数',\n",
       " '细菌结果',\n",
       " '区县',\n",
       " '性别',\n",
       " '户籍',\n",
       " '职业',\n",
       " '首发症状',\n",
       " '发热',\n",
       " '腹胀',\n",
       " '恶心',\n",
       " '腹痛',\n",
       " '腹痛性质',\n",
       " '腹痛部位',\n",
       " '呕吐在腹泻___发生',\n",
       " '腹泻',\n",
       " '腹泻性质',\n",
       " '近6个月有无肠道疾病既往史',\n",
       " '食品名称',\n",
       " '食物分类',\n",
       " '进餐地点',\n",
       " '是否家中饲养或接触过宠物',\n",
       " '就诊前是否服用过抗生素',\n",
       " '诊断',\n",
       " '诊断类型',\n",
       " '临床处理',\n",
       " '本次就诊是否给予抗生素',\n",
       " '抗生素名称.1',\n",
       " '是否采集',\n",
       " '采样类型']"
      ]
     },
     "execution_count": 258,
     "metadata": {},
     "output_type": "execute_result"
    },
    {
     "data": {
      "text/html": [
       "<div>\n",
       "<style scoped>\n",
       "    .dataframe tbody tr th:only-of-type {\n",
       "        vertical-align: middle;\n",
       "    }\n",
       "\n",
       "    .dataframe tbody tr th {\n",
       "        vertical-align: top;\n",
       "    }\n",
       "\n",
       "    .dataframe thead th {\n",
       "        text-align: right;\n",
       "    }\n",
       "</style>\n",
       "<table border=\"1\" class=\"dataframe\">\n",
       "  <thead>\n",
       "    <tr style=\"text-align: right;\">\n",
       "      <th></th>\n",
       "      <th>age</th>\n",
       "      <th>体温</th>\n",
       "      <th>腹泻量</th>\n",
       "      <th>腹泻频次</th>\n",
       "      <th>腹泻天数</th>\n",
       "      <th>细菌结果</th>\n",
       "      <th>区县</th>\n",
       "      <th>性别</th>\n",
       "      <th>户籍</th>\n",
       "      <th>职业</th>\n",
       "      <th>...</th>\n",
       "      <th>进餐地点</th>\n",
       "      <th>是否家中饲养或接触过宠物</th>\n",
       "      <th>就诊前是否服用过抗生素</th>\n",
       "      <th>诊断</th>\n",
       "      <th>诊断类型</th>\n",
       "      <th>临床处理</th>\n",
       "      <th>本次就诊是否给予抗生素</th>\n",
       "      <th>抗生素名称.1</th>\n",
       "      <th>是否采集</th>\n",
       "      <th>采样类型</th>\n",
       "    </tr>\n",
       "  </thead>\n",
       "  <tbody>\n",
       "    <tr>\n",
       "      <th>1</th>\n",
       "      <td>59</td>\n",
       "      <td>38.0</td>\n",
       "      <td>2.0</td>\n",
       "      <td>5.0</td>\n",
       "      <td>2.0</td>\n",
       "      <td>1</td>\n",
       "      <td>闵行区</td>\n",
       "      <td>Male</td>\n",
       "      <td>本市外来（含港澳台）</td>\n",
       "      <td>医务人员</td>\n",
       "      <td>...</td>\n",
       "      <td>食堂</td>\n",
       "      <td>无</td>\n",
       "      <td>无</td>\n",
       "      <td>胃肠炎</td>\n",
       "      <td>实验室诊断</td>\n",
       "      <td>无</td>\n",
       "      <td>无</td>\n",
       "      <td>无</td>\n",
       "      <td>有</td>\n",
       "      <td>食源性采样</td>\n",
       "    </tr>\n",
       "    <tr>\n",
       "      <th>8</th>\n",
       "      <td>36</td>\n",
       "      <td>37.0</td>\n",
       "      <td>3.0</td>\n",
       "      <td>3.0</td>\n",
       "      <td>1.0</td>\n",
       "      <td>0</td>\n",
       "      <td>闵行区</td>\n",
       "      <td>Female</td>\n",
       "      <td>本市常住</td>\n",
       "      <td>商业服务</td>\n",
       "      <td>...</td>\n",
       "      <td>家庭</td>\n",
       "      <td>无</td>\n",
       "      <td>无</td>\n",
       "      <td>急性胃肠炎</td>\n",
       "      <td>临床诊断</td>\n",
       "      <td>口服用药</td>\n",
       "      <td>有</td>\n",
       "      <td>头孢夫辛</td>\n",
       "      <td>有</td>\n",
       "      <td>食源性采样</td>\n",
       "    </tr>\n",
       "    <tr>\n",
       "      <th>9</th>\n",
       "      <td>36</td>\n",
       "      <td>38.0</td>\n",
       "      <td>2.0</td>\n",
       "      <td>3.0</td>\n",
       "      <td>2.0</td>\n",
       "      <td>1</td>\n",
       "      <td>闵行区</td>\n",
       "      <td>Female</td>\n",
       "      <td>本市常住</td>\n",
       "      <td>工人</td>\n",
       "      <td>...</td>\n",
       "      <td>餐饮店</td>\n",
       "      <td>无</td>\n",
       "      <td>无</td>\n",
       "      <td>肠功能紊乱</td>\n",
       "      <td>临床诊断</td>\n",
       "      <td>口服用药</td>\n",
       "      <td>无</td>\n",
       "      <td>无</td>\n",
       "      <td>有</td>\n",
       "      <td>食源性采样</td>\n",
       "    </tr>\n",
       "    <tr>\n",
       "      <th>11</th>\n",
       "      <td>27</td>\n",
       "      <td>38.0</td>\n",
       "      <td>2.0</td>\n",
       "      <td>2.0</td>\n",
       "      <td>3.0</td>\n",
       "      <td>0</td>\n",
       "      <td>闵行区</td>\n",
       "      <td>Female</td>\n",
       "      <td>本市常住</td>\n",
       "      <td>不详</td>\n",
       "      <td>...</td>\n",
       "      <td>家庭</td>\n",
       "      <td>无</td>\n",
       "      <td>无</td>\n",
       "      <td>肠道功能紊乱</td>\n",
       "      <td>无</td>\n",
       "      <td>口服用药</td>\n",
       "      <td>有</td>\n",
       "      <td>其他(黄连素)</td>\n",
       "      <td>有</td>\n",
       "      <td>腹泻病采样</td>\n",
       "    </tr>\n",
       "    <tr>\n",
       "      <th>12</th>\n",
       "      <td>77</td>\n",
       "      <td>37.0</td>\n",
       "      <td>2.0</td>\n",
       "      <td>3.0</td>\n",
       "      <td>2.0</td>\n",
       "      <td>0</td>\n",
       "      <td>闵行区</td>\n",
       "      <td>Female</td>\n",
       "      <td>本市常住</td>\n",
       "      <td>离退人员</td>\n",
       "      <td>...</td>\n",
       "      <td>家庭</td>\n",
       "      <td>无</td>\n",
       "      <td>无</td>\n",
       "      <td>肠功能紊乱</td>\n",
       "      <td>临床诊断</td>\n",
       "      <td>口服用药</td>\n",
       "      <td>无</td>\n",
       "      <td>无</td>\n",
       "      <td>有</td>\n",
       "      <td>食源性采样</td>\n",
       "    </tr>\n",
       "    <tr>\n",
       "      <th>...</th>\n",
       "      <td>...</td>\n",
       "      <td>...</td>\n",
       "      <td>...</td>\n",
       "      <td>...</td>\n",
       "      <td>...</td>\n",
       "      <td>...</td>\n",
       "      <td>...</td>\n",
       "      <td>...</td>\n",
       "      <td>...</td>\n",
       "      <td>...</td>\n",
       "      <td>...</td>\n",
       "      <td>...</td>\n",
       "      <td>...</td>\n",
       "      <td>...</td>\n",
       "      <td>...</td>\n",
       "      <td>...</td>\n",
       "      <td>...</td>\n",
       "      <td>...</td>\n",
       "      <td>...</td>\n",
       "      <td>...</td>\n",
       "      <td>...</td>\n",
       "    </tr>\n",
       "    <tr>\n",
       "      <th>38139</th>\n",
       "      <td>60</td>\n",
       "      <td>38.0</td>\n",
       "      <td>2.0</td>\n",
       "      <td>8.0</td>\n",
       "      <td>1.0</td>\n",
       "      <td>1</td>\n",
       "      <td>青浦区</td>\n",
       "      <td>Female</td>\n",
       "      <td>本市常住</td>\n",
       "      <td>离退人员</td>\n",
       "      <td>...</td>\n",
       "      <td>无</td>\n",
       "      <td>无</td>\n",
       "      <td>无</td>\n",
       "      <td>急性肠炎</td>\n",
       "      <td>临床诊断</td>\n",
       "      <td>口服用药</td>\n",
       "      <td>有</td>\n",
       "      <td>左氧氟沙星</td>\n",
       "      <td>有</td>\n",
       "      <td>腹泻病采样,平行样采样</td>\n",
       "    </tr>\n",
       "    <tr>\n",
       "      <th>38149</th>\n",
       "      <td>33</td>\n",
       "      <td>38.0</td>\n",
       "      <td>2.0</td>\n",
       "      <td>10.0</td>\n",
       "      <td>1.0</td>\n",
       "      <td>0</td>\n",
       "      <td>松江区</td>\n",
       "      <td>Male</td>\n",
       "      <td>流动人口（含港澳台）</td>\n",
       "      <td>干部职员</td>\n",
       "      <td>...</td>\n",
       "      <td>无</td>\n",
       "      <td>无</td>\n",
       "      <td>无</td>\n",
       "      <td>急性胃肠炎</td>\n",
       "      <td>无</td>\n",
       "      <td>口服用药</td>\n",
       "      <td>有</td>\n",
       "      <td>左氧氟沙星</td>\n",
       "      <td>有</td>\n",
       "      <td>腹泻病采样,平行样采样</td>\n",
       "    </tr>\n",
       "    <tr>\n",
       "      <th>38153</th>\n",
       "      <td>35</td>\n",
       "      <td>38.8</td>\n",
       "      <td>2.0</td>\n",
       "      <td>9.0</td>\n",
       "      <td>1.0</td>\n",
       "      <td>1</td>\n",
       "      <td>松江区</td>\n",
       "      <td>Male</td>\n",
       "      <td>流动人口（含港澳台）</td>\n",
       "      <td>干部职员</td>\n",
       "      <td>...</td>\n",
       "      <td>家庭</td>\n",
       "      <td>无</td>\n",
       "      <td>无</td>\n",
       "      <td>急性胃肠炎</td>\n",
       "      <td>无</td>\n",
       "      <td>无</td>\n",
       "      <td>有</td>\n",
       "      <td>头孢夫辛,左氧氟沙星</td>\n",
       "      <td>有</td>\n",
       "      <td>食源性采样</td>\n",
       "    </tr>\n",
       "    <tr>\n",
       "      <th>38156</th>\n",
       "      <td>69</td>\n",
       "      <td>38.0</td>\n",
       "      <td>2.0</td>\n",
       "      <td>4.0</td>\n",
       "      <td>1.0</td>\n",
       "      <td>1</td>\n",
       "      <td>青浦区</td>\n",
       "      <td>Male</td>\n",
       "      <td>本市常住</td>\n",
       "      <td>离退人员</td>\n",
       "      <td>...</td>\n",
       "      <td>家庭</td>\n",
       "      <td>无</td>\n",
       "      <td>无</td>\n",
       "      <td>急性肠炎</td>\n",
       "      <td>无</td>\n",
       "      <td>输液</td>\n",
       "      <td>有</td>\n",
       "      <td>头孢夫辛,左氧氟沙星</td>\n",
       "      <td>有</td>\n",
       "      <td>腹泻病采样</td>\n",
       "    </tr>\n",
       "    <tr>\n",
       "      <th>38160</th>\n",
       "      <td>63</td>\n",
       "      <td>38.0</td>\n",
       "      <td>2.0</td>\n",
       "      <td>3.0</td>\n",
       "      <td>3.0</td>\n",
       "      <td>0</td>\n",
       "      <td>静安区</td>\n",
       "      <td>Male</td>\n",
       "      <td>本市常住</td>\n",
       "      <td>离退人员</td>\n",
       "      <td>...</td>\n",
       "      <td>家庭</td>\n",
       "      <td>无</td>\n",
       "      <td>无</td>\n",
       "      <td>腹泻</td>\n",
       "      <td>临床诊断</td>\n",
       "      <td>口服用药</td>\n",
       "      <td>有</td>\n",
       "      <td>头孢克洛</td>\n",
       "      <td>有</td>\n",
       "      <td>食源性采样</td>\n",
       "    </tr>\n",
       "  </tbody>\n",
       "</table>\n",
       "<p>11600 rows × 33 columns</p>\n",
       "</div>"
      ],
      "text/plain": [
       "       age    体温  腹泻量  腹泻频次  腹泻天数  细菌结果   区县      性别          户籍    职业  ...  \\\n",
       "1       59  38.0  2.0   5.0   2.0     1  闵行区    Male  本市外来（含港澳台）  医务人员  ...   \n",
       "8       36  37.0  3.0   3.0   1.0     0  闵行区  Female        本市常住  商业服务  ...   \n",
       "9       36  38.0  2.0   3.0   2.0     1  闵行区  Female        本市常住    工人  ...   \n",
       "11      27  38.0  2.0   2.0   3.0     0  闵行区  Female        本市常住    不详  ...   \n",
       "12      77  37.0  2.0   3.0   2.0     0  闵行区  Female        本市常住  离退人员  ...   \n",
       "...    ...   ...  ...   ...   ...   ...  ...     ...         ...   ...  ...   \n",
       "38139   60  38.0  2.0   8.0   1.0     1  青浦区  Female        本市常住  离退人员  ...   \n",
       "38149   33  38.0  2.0  10.0   1.0     0  松江区    Male  流动人口（含港澳台）  干部职员  ...   \n",
       "38153   35  38.8  2.0   9.0   1.0     1  松江区    Male  流动人口（含港澳台）  干部职员  ...   \n",
       "38156   69  38.0  2.0   4.0   1.0     1  青浦区    Male        本市常住  离退人员  ...   \n",
       "38160   63  38.0  2.0   3.0   3.0     0  静安区    Male        本市常住  离退人员  ...   \n",
       "\n",
       "      进餐地点 是否家中饲养或接触过宠物 就诊前是否服用过抗生素      诊断   诊断类型  临床处理 本次就诊是否给予抗生素  \\\n",
       "1       食堂            无           无     胃肠炎  实验室诊断     无           无   \n",
       "8       家庭            无           无   急性胃肠炎   临床诊断  口服用药           有   \n",
       "9      餐饮店            无           无   肠功能紊乱   临床诊断  口服用药           无   \n",
       "11      家庭            无           无  肠道功能紊乱      无  口服用药           有   \n",
       "12      家庭            无           无   肠功能紊乱   临床诊断  口服用药           无   \n",
       "...    ...          ...         ...     ...    ...   ...         ...   \n",
       "38139    无            无           无    急性肠炎   临床诊断  口服用药           有   \n",
       "38149    无            无           无   急性胃肠炎      无  口服用药           有   \n",
       "38153   家庭            无           无   急性胃肠炎      无     无           有   \n",
       "38156   家庭            无           无    急性肠炎      无    输液           有   \n",
       "38160   家庭            无           无      腹泻   临床诊断  口服用药           有   \n",
       "\n",
       "          抗生素名称.1 是否采集         采样类型  \n",
       "1               无    有        食源性采样  \n",
       "8            头孢夫辛    有        食源性采样  \n",
       "9               无    有        食源性采样  \n",
       "11        其他(黄连素)    有        腹泻病采样  \n",
       "12              无    有        食源性采样  \n",
       "...           ...  ...          ...  \n",
       "38139       左氧氟沙星    有  腹泻病采样,平行样采样  \n",
       "38149       左氧氟沙星    有  腹泻病采样,平行样采样  \n",
       "38153  头孢夫辛,左氧氟沙星    有        食源性采样  \n",
       "38156  头孢夫辛,左氧氟沙星    有        腹泻病采样  \n",
       "38160        头孢克洛    有        食源性采样  \n",
       "\n",
       "[11600 rows x 33 columns]"
      ]
     },
     "execution_count": 258,
     "metadata": {},
     "output_type": "execute_result"
    }
   ],
   "source": [
    "#### 注意这里，可以和不提取特征做比较\n",
    "# 把有显著性影响的特征值取出来，用于后续的分析\n",
    "# cont_result & obj_result\n",
    "cont_obj_result = pd.concat([cont_result,obj_result])\n",
    "cont_obj_result\n",
    "final_columns = cont_obj_result[cont_obj_result[\"Effective\"]==\"Correlated\"].index.to_list()\n",
    "final_columns\n",
    "\n",
    "# 把无关的列都删除\n",
    "df = df[final_columns]\n",
    "df"
   ]
  },
  {
   "cell_type": "markdown",
   "id": "67273865",
   "metadata": {},
   "source": [
    "### 分类数据编码\n"
   ]
  },
  {
   "cell_type": "code",
   "execution_count": 259,
   "id": "b5efaf77",
   "metadata": {
    "ExecuteTime": {
     "end_time": "2021-10-10T07:31:13.168487Z",
     "start_time": "2021-10-10T07:31:13.153482Z"
    },
    "scrolled": true
   },
   "outputs": [],
   "source": [
    "# 为简单起见，还是先用 one-hot 编码试试看\n",
    "\n",
    "# 8.18 更新：好像可以直接按下面处理，会自动将分类数据列转换为 one-hot，连续数据列不变\n",
    "# df=pd.get_dummies(df)\n",
    "\n",
    "## 分类数据编码：病例类型\n",
    "def cat2int(x, df):\n",
    "    # pandas 实现 one hot encode\n",
    "    dummy = pd.get_dummies(df[x], prefix=x, drop_first=True)\n",
    "    df = pd.concat([df, dummy], axis=1)\n",
    "    # print(df.filter(like=x, axis=1).head())\n",
    "    \n",
    "    ## drop the original categorical column\n",
    "    return df.drop(x, axis=1)\n",
    "    \n",
    "# 重建索引\n",
    "df = df.reset_index()"
   ]
  },
  {
   "cell_type": "code",
   "execution_count": 260,
   "id": "54f6e953",
   "metadata": {
    "ExecuteTime": {
     "end_time": "2021-10-10T07:31:25.864468Z",
     "start_time": "2021-10-10T07:31:25.656420Z"
    },
    "scrolled": true
   },
   "outputs": [
    {
     "name": "stdout",
     "output_type": "stream",
     "text": [
      "区县\n",
      "性别\n",
      "户籍\n",
      "职业\n",
      "首发症状\n",
      "发热\n",
      "腹胀\n",
      "恶心\n",
      "腹痛\n",
      "腹痛性质\n",
      "腹痛部位\n",
      "呕吐在腹泻___发生\n",
      "腹泻\n",
      "腹泻性质\n",
      "近6个月有无肠道疾病既往史\n",
      "进餐地点\n",
      "是否家中饲养或接触过宠物\n",
      "就诊前是否服用过抗生素\n",
      "诊断\n",
      "诊断类型\n",
      "临床处理\n",
      "本次就诊是否给予抗生素\n",
      "抗生素名称.1\n",
      "是否采集\n",
      "采样类型\n"
     ]
    },
    {
     "data": {
      "text/html": [
       "<div>\n",
       "<style scoped>\n",
       "    .dataframe tbody tr th:only-of-type {\n",
       "        vertical-align: middle;\n",
       "    }\n",
       "\n",
       "    .dataframe tbody tr th {\n",
       "        vertical-align: top;\n",
       "    }\n",
       "\n",
       "    .dataframe thead th {\n",
       "        text-align: right;\n",
       "    }\n",
       "</style>\n",
       "<table border=\"1\" class=\"dataframe\">\n",
       "  <thead>\n",
       "    <tr style=\"text-align: right;\">\n",
       "      <th></th>\n",
       "      <th>index</th>\n",
       "      <th>age</th>\n",
       "      <th>体温</th>\n",
       "      <th>腹泻量</th>\n",
       "      <th>腹泻频次</th>\n",
       "      <th>腹泻天数</th>\n",
       "      <th>细菌结果</th>\n",
       "      <th>食品名称</th>\n",
       "      <th>食物分类</th>\n",
       "      <th>区县_奉贤区</th>\n",
       "      <th>...</th>\n",
       "      <th>是否采集_有</th>\n",
       "      <th>采样类型_未采样</th>\n",
       "      <th>采样类型_未采样 平行样采样</th>\n",
       "      <th>采样类型_腹泻病采样</th>\n",
       "      <th>采样类型_腹泻病采样 平行样采样</th>\n",
       "      <th>采样类型_腹泻病采样,其他采样</th>\n",
       "      <th>采样类型_腹泻病采样,平行样采样</th>\n",
       "      <th>采样类型_腹泻病采样,平行样采样,其他采样</th>\n",
       "      <th>采样类型_食源性采样</th>\n",
       "      <th>采样类型_食源性采样,其他采样</th>\n",
       "    </tr>\n",
       "  </thead>\n",
       "  <tbody>\n",
       "    <tr>\n",
       "      <th>0</th>\n",
       "      <td>1</td>\n",
       "      <td>59</td>\n",
       "      <td>38.0</td>\n",
       "      <td>2.0</td>\n",
       "      <td>5.0</td>\n",
       "      <td>2.0</td>\n",
       "      <td>1</td>\n",
       "      <td>红烧肉</td>\n",
       "      <td>肉与肉制品</td>\n",
       "      <td>0</td>\n",
       "      <td>...</td>\n",
       "      <td>1</td>\n",
       "      <td>0</td>\n",
       "      <td>0</td>\n",
       "      <td>0</td>\n",
       "      <td>0</td>\n",
       "      <td>0</td>\n",
       "      <td>0</td>\n",
       "      <td>0</td>\n",
       "      <td>1</td>\n",
       "      <td>0</td>\n",
       "    </tr>\n",
       "    <tr>\n",
       "      <th>1</th>\n",
       "      <td>8</td>\n",
       "      <td>36</td>\n",
       "      <td>37.0</td>\n",
       "      <td>3.0</td>\n",
       "      <td>3.0</td>\n",
       "      <td>1.0</td>\n",
       "      <td>0</td>\n",
       "      <td>酸奶</td>\n",
       "      <td>乳与乳制品</td>\n",
       "      <td>0</td>\n",
       "      <td>...</td>\n",
       "      <td>1</td>\n",
       "      <td>0</td>\n",
       "      <td>0</td>\n",
       "      <td>0</td>\n",
       "      <td>0</td>\n",
       "      <td>0</td>\n",
       "      <td>0</td>\n",
       "      <td>0</td>\n",
       "      <td>1</td>\n",
       "      <td>0</td>\n",
       "    </tr>\n",
       "    <tr>\n",
       "      <th>2</th>\n",
       "      <td>9</td>\n",
       "      <td>36</td>\n",
       "      <td>38.0</td>\n",
       "      <td>2.0</td>\n",
       "      <td>3.0</td>\n",
       "      <td>2.0</td>\n",
       "      <td>1</td>\n",
       "      <td>红烧肉</td>\n",
       "      <td>肉与肉制品</td>\n",
       "      <td>0</td>\n",
       "      <td>...</td>\n",
       "      <td>1</td>\n",
       "      <td>0</td>\n",
       "      <td>0</td>\n",
       "      <td>0</td>\n",
       "      <td>0</td>\n",
       "      <td>0</td>\n",
       "      <td>0</td>\n",
       "      <td>0</td>\n",
       "      <td>1</td>\n",
       "      <td>0</td>\n",
       "    </tr>\n",
       "    <tr>\n",
       "      <th>3</th>\n",
       "      <td>11</td>\n",
       "      <td>27</td>\n",
       "      <td>38.0</td>\n",
       "      <td>2.0</td>\n",
       "      <td>2.0</td>\n",
       "      <td>3.0</td>\n",
       "      <td>0</td>\n",
       "      <td>猪肉</td>\n",
       "      <td>肉与肉制品</td>\n",
       "      <td>0</td>\n",
       "      <td>...</td>\n",
       "      <td>1</td>\n",
       "      <td>0</td>\n",
       "      <td>0</td>\n",
       "      <td>1</td>\n",
       "      <td>0</td>\n",
       "      <td>0</td>\n",
       "      <td>0</td>\n",
       "      <td>0</td>\n",
       "      <td>0</td>\n",
       "      <td>0</td>\n",
       "    </tr>\n",
       "    <tr>\n",
       "      <th>4</th>\n",
       "      <td>12</td>\n",
       "      <td>77</td>\n",
       "      <td>37.0</td>\n",
       "      <td>2.0</td>\n",
       "      <td>3.0</td>\n",
       "      <td>2.0</td>\n",
       "      <td>0</td>\n",
       "      <td>牛奶</td>\n",
       "      <td>乳与乳制品</td>\n",
       "      <td>0</td>\n",
       "      <td>...</td>\n",
       "      <td>1</td>\n",
       "      <td>0</td>\n",
       "      <td>0</td>\n",
       "      <td>0</td>\n",
       "      <td>0</td>\n",
       "      <td>0</td>\n",
       "      <td>0</td>\n",
       "      <td>0</td>\n",
       "      <td>1</td>\n",
       "      <td>0</td>\n",
       "    </tr>\n",
       "  </tbody>\n",
       "</table>\n",
       "<p>5 rows × 361 columns</p>\n",
       "</div>"
      ],
      "text/plain": [
       "   index  age    体温  腹泻量  腹泻频次  腹泻天数  细菌结果 食品名称   食物分类  区县_奉贤区  ...  是否采集_有  \\\n",
       "0      1   59  38.0  2.0   5.0   2.0     1  红烧肉  肉与肉制品       0  ...       1   \n",
       "1      8   36  37.0  3.0   3.0   1.0     0   酸奶  乳与乳制品       0  ...       1   \n",
       "2      9   36  38.0  2.0   3.0   2.0     1  红烧肉  肉与肉制品       0  ...       1   \n",
       "3     11   27  38.0  2.0   2.0   3.0     0   猪肉  肉与肉制品       0  ...       1   \n",
       "4     12   77  37.0  2.0   3.0   2.0     0   牛奶  乳与乳制品       0  ...       1   \n",
       "\n",
       "   采样类型_未采样  采样类型_未采样 平行样采样  采样类型_腹泻病采样  采样类型_腹泻病采样 平行样采样  采样类型_腹泻病采样,其他采样  \\\n",
       "0         0               0           0                 0                0   \n",
       "1         0               0           0                 0                0   \n",
       "2         0               0           0                 0                0   \n",
       "3         0               0           1                 0                0   \n",
       "4         0               0           0                 0                0   \n",
       "\n",
       "   采样类型_腹泻病采样,平行样采样  采样类型_腹泻病采样,平行样采样,其他采样  采样类型_食源性采样  采样类型_食源性采样,其他采样  \n",
       "0                 0                      0           1                0  \n",
       "1                 0                      0           1                0  \n",
       "2                 0                      0           1                0  \n",
       "3                 0                      0           0                0  \n",
       "4                 0                      0           1                0  \n",
       "\n",
       "[5 rows x 361 columns]"
      ]
     },
     "execution_count": 260,
     "metadata": {},
     "output_type": "execute_result"
    }
   ],
   "source": [
    "# 选出所有类型为 object 的列\n",
    "# 下面这两个 column 的类别太多太杂了，暂时不考虑\n",
    "del_col = [\"食品名称\",\"食物分类\"]\n",
    "columns = [column for column in df.select_dtypes(include=object).columns if column not in del_col]\n",
    "for column in columns:\n",
    "    print(column)\n",
    "    # 这里居然有一个迭代！\n",
    "    df = cat2int(column, df)\n",
    "    \n",
    "df.head()\n",
    "# 居然转换出了 3006 个特征...\n",
    "\n",
    "# 删除那两项后特征数量减少到了 386，很好\n",
    "\n",
    "## 8.17 更新\n",
    "# 删除无关特征后，特征数量减少到了 361"
   ]
  },
  {
   "cell_type": "markdown",
   "id": "8098b6e4",
   "metadata": {},
   "source": [
    "### 随机森林自动选择特征\n"
   ]
  },
  {
   "cell_type": "code",
   "execution_count": 137,
   "id": "d76faaf4",
   "metadata": {
    "ExecuteTime": {
     "end_time": "2021-08-21T03:10:10.698671Z",
     "start_time": "2021-08-21T03:10:04.285406Z"
    }
   },
   "outputs": [
    {
     "data": {
      "image/png": "[encoded data removed]",
      "text/plain": [
       "<Figure size 432x288 with 1 Axes>"
      ]
     },
     "metadata": {
      "needs_background": "light"
     },
     "output_type": "display_data"
    }
   ],
   "source": [
    "from sklearn.ensemble import RandomForestRegressor\n",
    "df_feature = df.drop(['细菌结果',\"食品名称\",\"食物分类\"],1)\n",
    "model = RandomForestRegressor(random_state=1, max_depth=10)\n",
    "model.fit(df_feature,df['细菌结果'])\n",
    "\n",
    "# 拟合模型后，根据特征的重要性绘制成图：\n",
    "features = df_feature.columns\n",
    "importances = model.feature_importances_\n",
    "indices = np.argsort(importances[0:10])  # top 30 features\n",
    "plt.title('Feature Importances')\n",
    "plt.barh(range(len(indices)), importances[indices], color='b', align='center')\n",
    "plt.yticks(range(len(indices)), [features[i] for i in indices])\n",
    "plt.xlabel('Relative Importance')\n",
    "plt.show();\n",
    "\n",
    "# 类别太多了好像意义不大"
   ]
  },
  {
   "cell_type": "markdown",
   "id": "b2a22f2b",
   "metadata": {},
   "source": [
    "## 数据集划分\n"
   ]
  },
  {
   "cell_type": "code",
   "execution_count": 261,
   "id": "5849828d",
   "metadata": {
    "ExecuteTime": {
     "end_time": "2021-10-10T07:32:09.932253Z",
     "start_time": "2021-10-10T07:32:09.861237Z"
    }
   },
   "outputs": [
    {
     "name": "stdout",
     "output_type": "stream",
     "text": [
      "X_train shape: (8120, 360) | X_test shape: (3480, 360)\n",
      "y_train mean: 0.2 | y_test mean: 0.2\n",
      "361 features: ['index', 'age', '体温', '腹泻量', '腹泻频次', '腹泻天数', '食品名称', '食物分类', '区县_奉贤区', '区县_宝山区', '区县_崇明区', '区县_徐汇区', '区县_普陀区', '区县_杨浦区', '区县_松江区', '区县_浦东新区', '区县_虹口区', '区县_金山区', '区县_长宁区', '区县_闵行区', '区县_闸北区', '区县_青浦区', '区县_静安区', '区县_黄浦区', '性别_Male', '户籍_本市外来（含港澳台）', '户籍_本市常住', '户籍_流动人口', '户籍_流动人口（含港澳台）', '职业_中小学生', '职业_保育员及保姆', '职业_公共场所服务员', '职业_其他', '职业_其他学生', '职业_农民', '职业_医务人员', '职业_商业服务', '职业_学生', '职业_家务及待业', '职业_工人', '职业_干部职员', '职业_教师', '职业_散居儿童', '职业_无', '职业_民工', '职业_海员及长途驾驶员', '职业_渔(船)民', '职业_渔（船）民', '职业_离退人员', '职业_餐饮食品业', '首发症状_发热', '首发症状_发热,腹泻', '首发症状_发热,腹泻,呕吐', '首发症状_发热,腹痛', '首发症状_发热,腹痛,呕吐', '首发症状_发热,腹痛,腹泻', '首发症状_发热,腹痛,腹泻,呕吐', '首发症状_呕吐', '首发症状_无', '首发症状_腹泻', '首发症状_腹泻,呕吐', '首发症状_腹痛', '首发症状_腹痛,呕吐', '首发症状_腹痛,腹泻', '首发症状_腹痛,腹泻,呕吐', '发热_有', '腹胀_有', '恶心_有', '腹痛_有', '腹痛性质_无', '腹痛性质_阵发性', '腹痛部位_右上,右下', '腹痛部位_右上,脐周', '腹痛部位_右下', '腹痛部位_右下,脐周', '腹痛部位_左上', '腹痛部位_左上 右上', '腹痛部位_左上 右上 脐周', '腹痛部位_左上 右下', '腹痛部位_左上 左下', '腹痛部位_左上 左下 右上 右下', '腹痛部位_左上 左下 右上 右下 脐周', '腹痛部位_左上 脐周', '腹痛部位_左上,右上', '腹痛部位_左上,右上,脐周', '腹痛部位_左上,右下', '腹痛部位_左上,左下', '腹痛部位_左上,左下,右上', '腹痛部位_左上,左下,右上,右下', '腹痛部位_左上,左下,右上,右下,脐周', '腹痛部位_左上,左下,脐周', '腹痛部位_左上,脐周', '腹痛部位_左下', '腹痛部位_左下 右下', '腹痛部位_左下 脐周', '腹痛部位_左下,右上', '腹痛部位_左下,右下', '腹痛部位_左下,脐周', '腹痛部位_无', '腹痛部位_脐周', '呕吐在腹泻___发生_同时', '呕吐在腹泻___发生_后', '呕吐在腹泻___发生_无', '腹泻_有', '腹泻性质_成形', '腹泻性质_水样便', '腹泻性质_泔样便', '腹泻性质_洗肉水样便', '腹泻性质_稀、软便', '腹泻性质_粘冻', '腹泻性质_粘冻便', '腹泻性质_粘冻状', '腹泻性质_粘液', '腹泻性质_粘液便', '腹泻性质_糊', '腹泻性质_糊便', '腹泻性质_糊样', '腹泻性质_糊状', '腹泻性质_糊状便', '腹泻性质_肛拭', '腹泻性质_脓血便', '腹泻性质_蛋花样', '腹泻性质_鲜血样便', '腹泻性质_黄糊便', '腹泻性质_黏冻便', '腹泻性质_黑便', '近6个月有无肠道疾病既往史_有', '进餐地点_便利店', '进餐地点_便利店外卖', '进餐地点_全家超市', '进餐地点_公司', '进餐地点_公园', '进餐地点_其他', '进餐地点_养老院', '进餐地点_农家乐', '进餐地点_冰淇林', '进餐地点_冷饮店', '进餐地点_厦门', '进餐地点_厦门航空', '进餐地点_外买', '进餐地点_外卖', '进餐地点_外购', '进餐地点_外面买的', '进餐地点_学校', '进餐地点_宁波带回', '进餐地点_家庭', '进餐地点_家庭丧事宴', '进餐地点_宾馆', '进餐地点_宿舍', '进餐地点_小摊', '进餐地点_排档', '进餐地点_旅游', '进餐地点_旅游途中', '进餐地点_无', '进餐地点_服务区', '进餐地点_机场', '进餐地点_水果店', '进餐地点_沙琪玛', '进餐地点_流水席', '进餐地点_游轮', '进餐地点_漳州', '进餐地点_火车', '进餐地点_火车上', '进餐地点_熟食品', '进餐地点_熟食店', '进餐地点_罗森', '进餐地点_超市', '进餐地点_超市购买后', '进餐地点_路边摊', '进餐地点_送餐', '进餐地点_酒店', '进餐地点_重固卫所', '进餐地点_野餐烧烤', '进餐地点_飞机', '进餐地点_食堂', '进餐地点_食堂、小卖部', '进餐地点_餐饮店', '进餐地点_饮料店', '进餐地点_高铁', '是否家中饲养或接触过宠物_有', '就诊前是否服用过抗生素_有', '诊断_2型糖尿病;急性胃肠炎;', '诊断_K52.9', '诊断_K52.90', '诊断_K52.90400S02;', '诊断_j急性胃肠炎', '诊断_k52.9', '诊断_k52.9;', '诊断_其他诊断', '诊断_待查', '诊断_急性支气管炎;急性肠炎;', '诊断_急性支气管炎;急性胃肠炎;', '诊断_急性肠炎', '诊断_急性肠炎:', '诊断_急性肠炎;', '诊断_急性肠炎、痔疮', '诊断_急性肠炎，便血', '诊断_急性肠炎，急性胆囊炎？', '诊断_急性肠炎，消化道出血', '诊断_急性肠炎；', '诊断_急性肠炎？', '诊断_急性肠胃炎', '诊断_急性胃炎', '诊断_急性胃肠炎', '诊断_急性胃肠炎,腹泻待查', '诊断_急性胃肠炎;', '诊断_急性胃肠炎，便血', '诊断_急性胃肠炎？', '诊断_急性腹泻', '诊断_急性腹泻，澜尾炎？', '诊断_急性过敏性肠炎', '诊断_恶心', '诊断_感染性腹泻', '诊断_慢性肠炎', '诊断_慢性肠胃炎', '诊断_慢性肠胃炎,感染性腹泻', '诊断_慢性肠胃炎,肠道功能紊乱', '诊断_消化不良;急性胃肠炎;', '诊断_疑似菌痢', '诊断_细菌性痢疾', '诊断_结肠功能紊乱', '诊断_结肠炎', '诊断_肠功能紊乱', '诊断_肠套叠 胃肠炎', '诊断_肠炎', '诊断_肠炎，痔疮', '诊断_肠道功能混乱', '诊断_肠道功能紊乱', '诊断_肠道感染', '诊断_肠道菌群失调', '诊断_肠道菌群紊乱', '诊断_胃肠功能紊乱', '诊断_胃肠型感冒', '诊断_胃肠炎', '诊断_胃肠炎？', '诊断_腹泻', '诊断_腹泻1', '诊断_腹泻待查', '诊断_腹泻待查，溃疡性结肠炎', '诊断_腹泻病', '诊断_腹泻腹痛待查', '诊断_腹痛待查', '诊断_腹痛腹泻待查', '诊断_进行产业', '诊断_高血压病;急性肠炎;', '诊断类型_实验室诊断', '诊断类型_无', '临床处理_口服用药', '临床处理_口服用药 入院治疗', '临床处理_口服用药 输液', '临床处理_口服用药 输液 入院治疗', '临床处理_口服用药 输液 转科', '临床处理_无', '临床处理_转科', '临床处理_转院', '临床处理_输液', '临床处理_输液 转科', '本次就诊是否给予抗生素_有', '抗生素名称.1_其他(lms)', '抗生素名称.1_其他(l裸花紫珠)', '抗生素名称.1_其他(smz)', '抗生素名称.1_其他(依替米星)', '抗生素名称.1_其他(依替米星、头孢地尼)', '抗生素名称.1_其他(克林霉素)', '抗生素名称.1_其他(喜炎平)', '抗生素名称.1_其他(头孢丙烯)', '抗生素名称.1_其他(头孢丙西)', '抗生素名称.1_其他(头孢克肟、依替米星)', '抗生素名称.1_其他(头孢噻吩)', '抗生素名称.1_其他(头孢地尼)', '抗生素名称.1_其他(头孢地尼、依替米星)', '抗生素名称.1_其他(头孢地尼（自备））)', '抗生素名称.1_其他(头孢氨苄缓释胶囊)', '抗生素名称.1_其他(头孢硫咪)', '抗生素名称.1_其他(头孢羟氨苄)', '抗生素名称.1_其他(巴特日七味丸)', '抗生素名称.1_其他(帕珠沙星)', '抗生素名称.1_其他(氧氟沙星)', '抗生素名称.1_其他(盐酸小檗碱)', '抗生素名称.1_其他(硫酸依替米星)', '抗生素名称.1_其他(磷霉素)', '抗生素名称.1_其他(裸花紫珠)', '抗生素名称.1_其他(阿奇霉素)', '抗生素名称.1_其他(阿齐霉素)', '抗生素名称.1_其他(黄连素)', '抗生素名称.1_四神片', '抗生素名称.1_头孢', '抗生素名称.1_头孢丙烯', '抗生素名称.1_头孢丙烯：黄连素', '抗生素名称.1_头孢克洛', '抗生素名称.1_头孢克洛,左氧氟沙星', '抗生素名称.1_头孢克肟', '抗生素名称.1_头孢噻肟', '抗生素名称.1_头孢噻肟,头孢夫辛', '抗生素名称.1_头孢噻肟,左氧氟沙星', '抗生素名称.1_头孢噻肟,庆大霉素', '抗生素名称.1_头孢噻肟,环丙沙星', '抗生素名称.1_头孢地尼', '抗生素名称.1_头孢地尼、阿米卡星', '抗生素名称.1_头孢夫辛', '抗生素名称.1_头孢夫辛,其他(依替米星)', '抗生素名称.1_头孢夫辛,其他(克林霉素)', '抗生素名称.1_头孢夫辛,其他(磷霉素)', '抗生素名称.1_头孢夫辛,其他(黄连素)', '抗生素名称.1_头孢夫辛,头孢克洛', '抗生素名称.1_头孢夫辛,头孢克洛,左氧氟沙星', '抗生素名称.1_头孢夫辛,左氧氟沙星', '抗生素名称.1_头孢夫辛,庆大霉素', '抗生素名称.1_头孢夫辛,诺氟沙星', '抗生素名称.1_头孢曲乙松', '抗生素名称.1_头孢曲乙松,左氧氟沙星', '抗生素名称.1_头孢替安', '抗生素名称.1_头孢替安,其他(克林霉素)', '抗生素名称.1_头孢替安,其他(头孢丙烯)', '抗生素名称.1_头孢替安,其他(头孢地尼)', '抗生素名称.1_头孢替安,头孢夫辛', '抗生素名称.1_头孢替安,左氧氟沙星', '抗生素名称.1_头孢替安,左氧氟沙星,其他(头孢地尼)', '抗生素名称.1_头孢氢氨苄', '抗生素名称.1_头孢氨苄', '抗生素名称.1_头孢羟安', '抗生素名称.1_头孢羟氨卞', '抗生素名称.1_头孢羟氨苄', '抗生素名称.1_左氧氟沙星', '抗生素名称.1_左氧氟沙星,其他(依替米星)', '抗生素名称.1_左氧氟沙星,其他(可乐必妥)', '抗生素名称.1_左氧氟沙星,其他(头孢地尼)', '抗生素名称.1_左氧氟沙星,其他(头孢替安)', '抗生素名称.1_左氧氟沙星,其他(拉氧头孢)', '抗生素名称.1_左氧氟沙星,其他(磷霉素)', '抗生素名称.1_左氧氟沙星,其他(黄连素)', '抗生素名称.1_左氧氟沙星,庆大霉素', '抗生素名称.1_左氧氟沙星,诺氟沙星', '抗生素名称.1_庆大霉素', '抗生素名称.1_庆大霉素,其他(头孢他啶)', '抗生素名称.1_无', '抗生素名称.1_氟哌酸', '抗生素名称.1_环丙', '抗生素名称.1_环丙沙星', '抗生素名称.1_环丙沙星,诺氟沙星', '抗生素名称.1_磷霉素', '抗生素名称.1_西力欣', '抗生素名称.1_诺氟沙星', '抗生素名称.1_诺氟沙星,其他(头孢丙烯)', '抗生素名称.1_诺氟沙星,其他(来立信)', '抗生素名称.1_诺氟沙星,其他(衣提米星)', '抗生素名称.1_诺氟沙星,其他(衣替米星)', '抗生素名称.1_诺氟沙星,庆大霉素', '抗生素名称.1_阿米卡星', '抗生素名称.1_黄连素', '是否采集_有', '采样类型_未采样', '采样类型_未采样 平行样采样', '采样类型_腹泻病采样', '采样类型_腹泻病采样 平行样采样', '采样类型_腹泻病采样,其他采样', '采样类型_腹泻病采样,平行样采样', '采样类型_腹泻病采样,平行样采样,其他采样', '采样类型_食源性采样', '采样类型_食源性采样,其他采样']\n",
      "--------------------------------------------------\n",
      "训练集：\n",
      "0    0.795813\n",
      "1    0.204187\n",
      "Name: 细菌结果, dtype: float64\n",
      "测试集：\n",
      "0    0.79569\n",
      "1    0.20431\n",
      "Name: 细菌结果, dtype: float64\n"
     ]
    }
   ],
   "source": [
    "## 数据集 分层抽样\n",
    "# 因为将来会采用 K 折交叉验证，所以此处不用划分出验证集\n",
    "y = '细菌结果'\n",
    "from sklearn.model_selection import train_test_split\n",
    "df_train, df_test = train_test_split(df,test_size=0.3, \n",
    "                     stratify=df[y], random_state=42)\n",
    "\n",
    "## print info\n",
    "print(\"X_train shape:\", df_train.drop(y,axis=1).shape, \"| X_test shape:\", df_test.drop(y,axis=1).shape)\n",
    "print(\"y_train mean:\", round(np.mean(df_train[y]),2), \"| y_test mean:\", round(np.mean(df_test[y]),2))\n",
    "print(df_train.shape[1], \"features:\", df_train.drop(y,axis=1).columns.to_list())\n",
    "print('-'*50)\n",
    "\n",
    "## 查看各个类别的比例\n",
    "print(\"训练集：\")\n",
    "print(df_train[y].value_counts() / len(df_train[y]))\n",
    "print(\"测试集：\")\n",
    "print(df_test[y].value_counts() / len(df_test[y]))\n",
    "# 比例很平衡，不用做综合采样了"
   ]
  },
  {
   "cell_type": "code",
   "execution_count": 262,
   "id": "1158a84b",
   "metadata": {
    "ExecuteTime": {
     "end_time": "2021-10-10T07:32:34.226059Z",
     "start_time": "2021-10-10T07:32:34.206054Z"
    }
   },
   "outputs": [
    {
     "data": {
      "text/plain": [
       "index                      int64\n",
       "age                        int64\n",
       "体温                       float64\n",
       "腹泻量                      float64\n",
       "腹泻频次                     float64\n",
       "                          ...   \n",
       "采样类型_腹泻病采样,其他采样            uint8\n",
       "采样类型_腹泻病采样,平行样采样           uint8\n",
       "采样类型_腹泻病采样,平行样采样,其他采样      uint8\n",
       "采样类型_食源性采样                 uint8\n",
       "采样类型_食源性采样,其他采样            uint8\n",
       "Length: 361, dtype: object"
      ]
     },
     "execution_count": 262,
     "metadata": {},
     "output_type": "execute_result"
    },
    {
     "data": {
      "text/plain": [
       "Index(['食品名称', '食物分类'], dtype='object')"
      ]
     },
     "execution_count": 262,
     "metadata": {},
     "output_type": "execute_result"
    }
   ],
   "source": [
    "# 查看数据类型\n",
    "df.dtypes\n",
    "df.select_dtypes(include=object).columns"
   ]
  },
  {
   "cell_type": "code",
   "execution_count": null,
   "id": "c64b4e0a",
   "metadata": {},
   "outputs": [],
   "source": []
  },
  {
   "cell_type": "code",
   "execution_count": 263,
   "id": "802d4b45",
   "metadata": {
    "ExecuteTime": {
     "end_time": "2021-10-10T07:32:42.017317Z",
     "start_time": "2021-10-10T07:32:41.993312Z"
    }
   },
   "outputs": [],
   "source": [
    "label = '细菌结果'\n",
    "features = [column for column in df.columns if column != label and column not in del_col]\n",
    "X_train = df_train[features]\n",
    "y_train = df_train[label]\n",
    "\n",
    "X_test = df_test[features]\n",
    "y_test = df_test[label]"
   ]
  },
  {
   "cell_type": "markdown",
   "id": "c4a969cc",
   "metadata": {},
   "source": [
    "# Model Design\n",
    "## Logistic Regression"
   ]
  },
  {
   "cell_type": "code",
   "execution_count": 264,
   "id": "294a55c8",
   "metadata": {
    "ExecuteTime": {
     "end_time": "2021-10-10T07:42:02.668729Z",
     "start_time": "2021-10-10T07:33:35.586600Z"
    }
   },
   "outputs": [
    {
     "name": "stdout",
     "output_type": "stream",
     "text": [
      "Best Model parameters: {'solver': 'newton-cg', 'penalty': 'l2', 'max_iter': 50, 'C': 1}\n",
      "Best Model mean f1: 0.47233539539758274\n"
     ]
    }
   ],
   "source": [
    "### ------------------基本的分类器---------------------\n",
    "## 逻辑回归\n",
    "\n",
    "from sklearn.linear_model import LogisticRegression\n",
    "# 或者使用 class_weight={0:0.1,1:0.9}\n",
    "# 如果取值 class_weight='balanced'，则类库会依据样本量来计算权重。\n",
    "# 某种类型的样本量越多，则权重越低；样本量越少，则权重越高。\n",
    "# 其实这里的调节权重和调节阈值原理非常类似\n",
    "model = LogisticRegression(class_weight='balanced')\n",
    "\n",
    "## define hyperparameters combinations to try\n",
    "param_dic = {'penalty':['l2', 'l1'],      \n",
    "'C':[0.01,1,10],           \n",
    "'solver':['liblinear','lbfgs','newton-cg','sag'],\n",
    "'max_iter': [50,100]}       \n",
    "\n",
    "## random search\n",
    "random_search = model_selection.RandomizedSearchCV(model, \n",
    "       param_distributions=param_dic, n_iter=1000, cv=10,\n",
    "       scoring=\"f1\").fit(X_train, y_train)\n",
    "print(\"Best Model parameters:\", random_search.best_params_)\n",
    "print(\"Best Model mean f1:\", random_search.best_score_)\n",
    "model = random_search.best_estimator_"
   ]
  },
  {
   "cell_type": "code",
   "execution_count": null,
   "id": "ee29ce7a",
   "metadata": {},
   "outputs": [],
   "source": [
    "## LR：逻辑回归\n",
    "# model = LogisticRegression(class_weight='balanced', solver='newton-cg',penalty='l2',max_iter=50, C=1)"
   ]
  },
  {
   "cell_type": "code",
   "execution_count": 297,
   "id": "04a75037",
   "metadata": {
    "ExecuteTime": {
     "end_time": "2021-10-10T08:32:02.189891Z",
     "start_time": "2021-10-10T08:32:02.178887Z"
    }
   },
   "outputs": [],
   "source": [
    "## Naive Bayes\n",
    "# from sklearn.naive_bayes import BernoulliNB\n",
    "# model = BernoulliNB()"
   ]
  },
  {
   "cell_type": "code",
   "execution_count": 306,
   "id": "c723e6f2",
   "metadata": {
    "ExecuteTime": {
     "end_time": "2021-10-10T08:34:06.854032Z",
     "start_time": "2021-10-10T08:34:06.839526Z"
    }
   },
   "outputs": [],
   "source": [
    "## Random Forest\n",
    "\n",
    "# model = ensemble.RandomForestClassifier(random_state=10)"
   ]
  },
  {
   "cell_type": "code",
   "execution_count": 313,
   "id": "ebba432f",
   "metadata": {
    "ExecuteTime": {
     "end_time": "2021-10-10T08:38:29.155927Z",
     "start_time": "2021-10-10T08:38:29.153927Z"
    }
   },
   "outputs": [],
   "source": [
    "## Gradient Boosting Classifier\n",
    "model = ensemble.GradientBoostingClassifier(random_state=0)"
   ]
  },
  {
   "cell_type": "markdown",
   "id": "6da13bb3",
   "metadata": {},
   "source": [
    "## PCA 进行无监督降维操作，逻辑回归进行分类"
   ]
  },
  {
   "cell_type": "code",
   "execution_count": null,
   "id": "6fdea443",
   "metadata": {
    "ExecuteTime": {
     "end_time": "2021-10-10T08:28:27.498598Z",
     "start_time": "2021-10-10T08:27:49.181408Z"
    }
   },
   "outputs": [],
   "source": [
    "## 做比较的时候跳过这一步\n",
    "## Define a pipeline to search for the best combination of PCA truncation\n",
    "from sklearn.linear_model import LogisticRegression\n",
    "from sklearn.pipeline import Pipeline\n",
    "from sklearn.model_selection import GridSearchCV\n",
    "\n",
    "# model = LogisticRegression(class_weight='balanced', solver='newton-cg',\n",
    "#                            penalty='l2',max_iter=50, C=1)"
   ]
  },
  {
   "cell_type": "code",
   "execution_count": 314,
   "id": "27247877",
   "metadata": {
    "ExecuteTime": {
     "end_time": "2021-10-10T08:50:48.464016Z",
     "start_time": "2021-10-10T08:38:32.092271Z"
    }
   },
   "outputs": [
    {
     "name": "stdout",
     "output_type": "stream",
     "text": [
      "Best Model parameters: {'pca__n_components': 200}\n",
      "Best Model mean f1: 0.3564144534229273\n"
     ]
    }
   ],
   "source": [
    "pca = PCA()\n",
    "pipe = Pipeline(steps=[('pca', pca), ('logistic', model)])\n",
    "# Parameters of pipelines can be set using '_' separated parameter names\n",
    "param_grid = {\n",
    "#     'pca__n_components': [5, 20, 30, 40, 50, 64,100,128,200,256,300],\n",
    "    'pca__n_components': [128,200,256,300],\n",
    "}\n",
    "\n",
    "## search\n",
    "search = GridSearchCV(pipe, param_grid, cv=5,\n",
    "       scoring=\"f1\").fit(X_train, y_train)\n",
    "print(\"Best Model parameters:\", search.best_params_)\n",
    "print(\"Best Model mean f1:\", search.best_score_)\n",
    "pipe = search.best_estimator_"
   ]
  },
  {
   "cell_type": "code",
   "execution_count": null,
   "id": "88d00e5f",
   "metadata": {},
   "outputs": [],
   "source": [
    "# plot the pca spectrum\n"
   ]
  },
  {
   "cell_type": "markdown",
   "id": "e56d6b18",
   "metadata": {},
   "source": [
    "# Evaluation"
   ]
  },
  {
   "cell_type": "code",
   "execution_count": 265,
   "id": "c80d0453",
   "metadata": {
    "ExecuteTime": {
     "end_time": "2021-10-10T07:42:44.000908Z",
     "start_time": "2021-10-10T07:42:43.990906Z"
    }
   },
   "outputs": [],
   "source": [
    "def train(X, y, model):\n",
    "    model.fit(X, y)"
   ]
  },
  {
   "cell_type": "code",
   "execution_count": 266,
   "id": "5d8cb64f",
   "metadata": {
    "ExecuteTime": {
     "end_time": "2021-10-10T07:42:58.488156Z",
     "start_time": "2021-10-10T07:42:58.476153Z"
    }
   },
   "outputs": [],
   "source": [
    "## Evaluation\n",
    "def eval(X_test, y_test, predicted, predicted_prob, model):\n",
    "    \n",
    "    ## Accuray e AUC\n",
    "    accuracy = metrics.accuracy_score(y_test, predicted)\n",
    "    auc = metrics.roc_auc_score(y_test, predicted_prob)\n",
    "    print(\"Accuracy (overall correct predictions):\",  round(accuracy,2))\n",
    "    print(\"Auc:\", round(auc,2))\n",
    "\n",
    "    ## Precision e Recall\n",
    "    recall = metrics.recall_score(y_test, predicted)\n",
    "    precision = metrics.precision_score(y_test, predicted)\n",
    "    print(\"Recall (all 1s predicted right):\", round(recall,2))\n",
    "    print(\"Precision (confidence when predicting a 1):\", round(precision,2))\n",
    "    print(\"Detail:\")\n",
    "    print(metrics.classification_report(y_test, predicted, target_names=[str(i) for i in np.unique(y_test)]))\n",
    "    \n",
    "    ## confusion matrix\n",
    "    classes = np.unique(y_test)\n",
    "    fig, ax = plt.subplots(figsize=(7,5))\n",
    "    cm = metrics.confusion_matrix(y_test, predicted, labels=classes)\n",
    "    sns.heatmap(cm, annot=True, fmt='d', cmap=plt.cm.Blues, cbar=False)\n",
    "    ax.set(xlabel=\"Pred\", ylabel=\"True\", title=\"Confusion matrix\")\n",
    "    ax.set_yticklabels(labels=classes, rotation=0)\n",
    "    plt.tight_layout()\n",
    "    plt.show();\n",
    "    \n",
    "    return recall, precision, cm"
   ]
  },
  {
   "cell_type": "code",
   "execution_count": 315,
   "id": "c48ebf37",
   "metadata": {
    "ExecuteTime": {
     "end_time": "2021-10-10T08:51:41.038459Z",
     "start_time": "2021-10-10T08:50:58.844179Z"
    }
   },
   "outputs": [
    {
     "name": "stdout",
     "output_type": "stream",
     "text": [
      "Pipeline(steps=[('pca', PCA(n_components=200)),\n",
      "                ('logistic', GradientBoostingClassifier(random_state=0))])\n",
      "[[0.26805137 0.73194863]\n",
      " [0.86164659 0.13835341]\n",
      " [0.90257632 0.09742368]\n",
      " ...\n",
      " [0.8753045  0.1246955 ]\n",
      " [0.98451431 0.01548569]\n",
      " [0.75292941 0.24707059]]\n",
      "Accuracy (overall correct predictions): 0.83\n",
      "Auc: 0.78\n",
      "Recall (all 1s predicted right): 0.22\n",
      "Precision (confidence when predicting a 1): 0.85\n",
      "Detail:\n",
      "              precision    recall  f1-score   support\n",
      "\n",
      "           0       0.83      0.99      0.90      2769\n",
      "           1       0.85      0.22      0.35       711\n",
      "\n",
      "    accuracy                           0.83      3480\n",
      "   macro avg       0.84      0.60      0.63      3480\n",
      "weighted avg       0.83      0.83      0.79      3480\n",
      "\n"
     ]
    },
    {
     "data": {
      "image/png": "[encoded data removed]",
      "text/plain": [
       "<Figure size 504x360 with 1 Axes>"
      ]
     },
     "metadata": {
      "needs_background": "light"
     },
     "output_type": "display_data"
    }
   ],
   "source": [
    "## 如果使用 pipe: PCA + logistic\n",
    "model = pipe\n",
    "print(model)\n",
    "\n",
    "### 在整个训练集上训练模型\n",
    "## train\n",
    "train(X_train, y_train, model)\n",
    "\n",
    "## test\n",
    "# 第二列是样本预测为 1 的概率\n",
    "predicted_prob = model.predict_proba(X_test)[:,1] \n",
    "print(model.predict_proba(X_test))\n",
    "predicted = model.predict(X_test)\n",
    "\n",
    "recall, precision, cm = eval(X_test, y_test, predicted, predicted_prob, model)"
   ]
  },
  {
   "cell_type": "code",
   "execution_count": 316,
   "id": "e7ac1b5e",
   "metadata": {
    "ExecuteTime": {
     "end_time": "2021-10-10T08:51:47.319711Z",
     "start_time": "2021-10-10T08:51:46.505210Z"
    }
   },
   "outputs": [
    {
     "data": {
      "image/png": "[encoded data removed]",
      "text/plain": [
       "<Figure size 432x288 with 1 Axes>"
      ]
     },
     "metadata": {
      "needs_background": "light"
     },
     "output_type": "display_data"
    }
   ],
   "source": [
    "## calculate scores for different thresholds\n",
    "dic_scores = {'accuracy':[], 'precision':[], 'recall':[], 'f1':[]}\n",
    "thresholds = []\n",
    "for threshold in np.arange(0, 1, step=0.005):\n",
    "    predicted = (predicted_prob > threshold)\n",
    "    thresholds.append(threshold)\n",
    "    dic_scores[\"accuracy\"].append(metrics.accuracy_score(y_test, predicted))\n",
    "    dic_scores[\"precision\"].append(metrics.precision_score(y_test, predicted))\n",
    "    dic_scores[\"recall\"].append(metrics.recall_score(y_test, predicted))\n",
    "    dic_scores[\"f1\"].append(metrics.f1_score(y_test, predicted))\n",
    "        \n",
    "## plot\n",
    "df_scores = pd.DataFrame(dic_scores).set_index(pd.Index(thresholds))    \n",
    "df_scores.plot(title=\"Threshold Selection\")\n",
    "plt.tight_layout()\n",
    "plt.legend(loc=\"upper right\")\n",
    "plt.show();"
   ]
  },
  {
   "cell_type": "code",
   "execution_count": 318,
   "id": "cbb623ff",
   "metadata": {
    "ExecuteTime": {
     "end_time": "2021-10-10T08:52:30.678114Z",
     "start_time": "2021-10-10T08:52:30.542083Z"
    }
   },
   "outputs": [
    {
     "name": "stdout",
     "output_type": "stream",
     "text": [
      "Accuracy (overall correct predictions): 0.68\n",
      "Auc: 0.78\n",
      "Recall (all 1s predicted right): 0.75\n",
      "Precision (confidence when predicting a 1): 0.36\n",
      "Detail:\n",
      "              precision    recall  f1-score   support\n",
      "\n",
      "           0       0.91      0.66      0.77      2769\n",
      "           1       0.36      0.75      0.49       711\n",
      "\n",
      "    accuracy                           0.68      3480\n",
      "   macro avg       0.64      0.70      0.63      3480\n",
      "weighted avg       0.80      0.68      0.71      3480\n",
      "\n"
     ]
    },
    {
     "data": {
      "image/png": "[encoded data removed]",
      "text/plain": [
       "<Figure size 504x360 with 1 Axes>"
      ]
     },
     "metadata": {
      "needs_background": "light"
     },
     "output_type": "display_data"
    }
   ],
   "source": [
    "threshold = 0.17\n",
    "predicted_prob = model.predict_proba(X_test)[:,1] \n",
    "predicted = (predicted_prob > threshold)\n",
    "# predicted = model.predict(X_test)\n",
    "\n",
    "recall, precision, cm = eval(X_test, y_test, predicted, predicted_prob, model)"
   ]
  },
  {
   "cell_type": "code",
   "execution_count": 35,
   "id": "2a00e107",
   "metadata": {
    "ExecuteTime": {
     "end_time": "2021-08-12T14:18:06.521106Z",
     "start_time": "2021-08-12T14:18:06.500850Z"
    }
   },
   "outputs": [
    {
     "name": "stdout",
     "output_type": "stream",
     "text": [
      "[0 1]\n"
     ]
    },
    {
     "data": {
      "text/plain": [
       "array([[0.1157832 , 0.8842168 ],\n",
       "       [0.78619702, 0.21380298],\n",
       "       [0.8682829 , 0.1317171 ],\n",
       "       ...,\n",
       "       [0.92990607, 0.07009393],\n",
       "       [0.92515445, 0.07484555],\n",
       "       [0.41064151, 0.58935849]])"
      ]
     },
     "execution_count": 35,
     "metadata": {},
     "output_type": "execute_result"
    }
   ],
   "source": [
    "# 输出每个类别的概率\n",
    "# classes = np.unique(y_test)\n",
    "# print(classes)\n",
    "print(model.classes_) #此为概率对应类别\n",
    "predicted_prob = model.predict_proba(X_test)\n",
    "predicted_prob"
   ]
  },
  {
   "cell_type": "code",
   "execution_count": 36,
   "id": "fd5a9b43",
   "metadata": {
    "ExecuteTime": {
     "end_time": "2021-08-12T14:18:06.543533Z",
     "start_time": "2021-08-12T14:18:06.526677Z"
    }
   },
   "outputs": [
    {
     "data": {
      "text/html": [
       "<div>\n",
       "<style scoped>\n",
       "    .dataframe tbody tr th:only-of-type {\n",
       "        vertical-align: middle;\n",
       "    }\n",
       "\n",
       "    .dataframe tbody tr th {\n",
       "        vertical-align: top;\n",
       "    }\n",
       "\n",
       "    .dataframe thead th {\n",
       "        text-align: right;\n",
       "    }\n",
       "</style>\n",
       "<table border=\"1\" class=\"dataframe\">\n",
       "  <thead>\n",
       "    <tr style=\"text-align: right;\">\n",
       "      <th></th>\n",
       "      <th>0</th>\n",
       "      <th>1</th>\n",
       "    </tr>\n",
       "  </thead>\n",
       "  <tbody>\n",
       "    <tr>\n",
       "      <th>0</th>\n",
       "      <td>0.115783</td>\n",
       "      <td>0.884217</td>\n",
       "    </tr>\n",
       "    <tr>\n",
       "      <th>1</th>\n",
       "      <td>0.786197</td>\n",
       "      <td>0.213803</td>\n",
       "    </tr>\n",
       "    <tr>\n",
       "      <th>2</th>\n",
       "      <td>0.868283</td>\n",
       "      <td>0.131717</td>\n",
       "    </tr>\n",
       "    <tr>\n",
       "      <th>3</th>\n",
       "      <td>0.768242</td>\n",
       "      <td>0.231758</td>\n",
       "    </tr>\n",
       "    <tr>\n",
       "      <th>4</th>\n",
       "      <td>0.551774</td>\n",
       "      <td>0.448226</td>\n",
       "    </tr>\n",
       "    <tr>\n",
       "      <th>...</th>\n",
       "      <td>...</td>\n",
       "      <td>...</td>\n",
       "    </tr>\n",
       "    <tr>\n",
       "      <th>3475</th>\n",
       "      <td>0.331960</td>\n",
       "      <td>0.668040</td>\n",
       "    </tr>\n",
       "    <tr>\n",
       "      <th>3476</th>\n",
       "      <td>0.879895</td>\n",
       "      <td>0.120105</td>\n",
       "    </tr>\n",
       "    <tr>\n",
       "      <th>3477</th>\n",
       "      <td>0.929906</td>\n",
       "      <td>0.070094</td>\n",
       "    </tr>\n",
       "    <tr>\n",
       "      <th>3478</th>\n",
       "      <td>0.925154</td>\n",
       "      <td>0.074846</td>\n",
       "    </tr>\n",
       "    <tr>\n",
       "      <th>3479</th>\n",
       "      <td>0.410642</td>\n",
       "      <td>0.589358</td>\n",
       "    </tr>\n",
       "  </tbody>\n",
       "</table>\n",
       "<p>3480 rows × 2 columns</p>\n",
       "</div>"
      ],
      "text/plain": [
       "             0         1\n",
       "0     0.115783  0.884217\n",
       "1     0.786197  0.213803\n",
       "2     0.868283  0.131717\n",
       "3     0.768242  0.231758\n",
       "4     0.551774  0.448226\n",
       "...        ...       ...\n",
       "3475  0.331960  0.668040\n",
       "3476  0.879895  0.120105\n",
       "3477  0.929906  0.070094\n",
       "3478  0.925154  0.074846\n",
       "3479  0.410642  0.589358\n",
       "\n",
       "[3480 rows x 2 columns]"
      ]
     },
     "execution_count": 36,
     "metadata": {},
     "output_type": "execute_result"
    }
   ],
   "source": [
    "probability = pd.DataFrame({model.classes_[0]: predicted_prob[:,0],\n",
    "                           model.classes_[1]: predicted_prob[:,1]})\n",
    "probability"
   ]
  },
  {
   "cell_type": "code",
   "execution_count": null,
   "id": "5b4d513b",
   "metadata": {},
   "outputs": [],
   "source": []
  }
 ],
 "metadata": {
  "kernelspec": {
   "display_name": "Python 3",
   "language": "python",
   "name": "python3"
  },
  "language_info": {
   "codemirror_mode": {
    "name": "ipython",
    "version": 3
   },
   "file_extension": ".py",
   "mimetype": "text/x-python",
   "name": "python",
   "nbconvert_exporter": "python",
   "pygments_lexer": "ipython3",
   "version": "3.8.8"
  },
  "toc": {
   "base_numbering": 1,
   "nav_menu": {},
   "number_sections": true,
   "sideBar": true,
   "skip_h1_title": false,
   "title_cell": "Table of Contents",
   "title_sidebar": "Contents",
   "toc_cell": false,
   "toc_position": {
    "height": "calc(100% - 180px)",
    "left": "10px",
    "top": "150px",
    "width": "250px"
   },
   "toc_section_display": true,
   "toc_window_display": true
  },
  "varInspector": {
   "cols": {
    "lenName": 16,
    "lenType": 16,
    "lenVar": 40
   },
   "kernels_config": {
    "python": {
     "delete_cmd_postfix": "",
     "delete_cmd_prefix": "del ",
     "library": "var_list.py",
     "varRefreshCmd": "print(var_dic_list())"
    },
    "r": {
     "delete_cmd_postfix": ") ",
     "delete_cmd_prefix": "rm(",
     "library": "var_list.r",
     "varRefreshCmd": "cat(var_dic_list()) "
    }
   },
   "position": {
    "height": "660px",
    "left": "1080px",
    "right": "20px",
    "top": "94px",
    "width": "800px"
   },
   "types_to_exclude": [
    "module",
    "function",
    "builtin_function_or_method",
    "instance",
    "_Feature"
   ],
   "window_display": false
  }
 },
 "nbformat": 4,
 "nbformat_minor": 5
}
