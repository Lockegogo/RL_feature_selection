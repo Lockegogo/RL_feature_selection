{
 "cells": [
  {
   "cell_type": "code",
   "execution_count": 54,
   "metadata": {},
   "outputs": [],
   "source": [
    "import import_ipynb\n",
    "from IPython.core.interactiveshell import InteractiveShell\n",
    "InteractiveShell.ast_node_interactivity = 'all'\n",
    "\n",
    "## For data\n",
    "import pandas as pd\n",
    "import numpy as np\n",
    "import random\n",
    "\n",
    "## For plotting\n",
    "import matplotlib.pyplot as plt\n",
    "import seaborn as sns\n",
    "\n",
    "## For statistical tests\n",
    "import scipy\n",
    "import statsmodels.formula.api as smf\n",
    "import statsmodels.api as sm\n",
    "\n",
    "## For machine learning\n",
    "from sklearn import model_selection, preprocessing, feature_selection, ensemble, linear_model, metrics, decomposition\n",
    "from sklearn.model_selection import train_test_split\n",
    "from sklearn.model_selection import GridSearchCV\n",
    "from sklearn.linear_model import LogisticRegression\n",
    "\n",
    "\n",
    "%matplotlib inline\n",
    "\n",
    "## Chinese display\n",
    "plt.rcParams['font.sans-serif']=['SimHei']\n",
    "plt.rcParams['axes.unicode_minus'] = False\n",
    "\n",
    "## No warnings\n",
    "import warnings\n",
    "warnings.filterwarnings('ignore') "
   ]
  },
  {
   "cell_type": "markdown",
   "metadata": {},
   "source": [
    "## Data preprocessing"
   ]
  },
  {
   "cell_type": "code",
   "execution_count": 55,
   "metadata": {},
   "outputs": [
    {
     "name": "stdout",
     "output_type": "stream",
     "text": [
      "(38168, 105)\n"
     ]
    }
   ],
   "source": [
    "df = pd.read_excel('raw_data/腹泻病个案信息一览2017-2018.xlsx',\n",
    "                   sheet_name=0,\n",
    "                   engine='openpyxl')\n",
    "print(df.shape)\n",
    "\n",
    "df[\"性别\"] = df[\"性别\"].map(lambda x: x.strip())\n",
    "df[\"性别\"] = df[\"性别\"].map(lambda x: \"Male\" if x ==\n",
    "                        \"男\" or x == \"男性\" else \"Female\")\n"
   ]
  },
  {
   "cell_type": "code",
   "execution_count": 56,
   "metadata": {},
   "outputs": [
    {
     "name": "stdout",
     "output_type": "stream",
     "text": [
      "\n",
      "percentage of missing data\n",
      "区县                          0 %\n",
      "医院                          0 %\n",
      "病例编号                        0 %\n",
      "初(复)诊                      43 %\n",
      "性别                          0 %\n",
      "出生年月                        0 %\n",
      "age                         0 %\n",
      "户籍                          0 %\n",
      "省                           1 %\n",
      "详细地址                       14 %\n",
      "职业                          0 %\n",
      "就诊日期                        0 %\n",
      "就诊日期1                       0 %\n",
      "发病日期                        0 %\n",
      "首发症状                       17 %\n",
      "其他首发症状                    100 %\n",
      "发热                          0 %\n",
      "体温                         83 %\n",
      "脱水                          0 %\n",
      "脉搏                         99 %\n",
      "收缩压                        99 %\n",
      "舒张压                        99 %\n",
      "腹胀                          0 %\n",
      "恶心                          0 %\n",
      "里急后重                        0 %\n",
      "肠鸣音亢进                       0 %\n",
      "腹痛                          0 %\n",
      "腹痛性质                       48 %\n",
      "腹痛部位                       48 %\n",
      "呕吐                          0 %\n",
      "呕吐频次                       76 %\n",
      "呕吐在腹泻___发生                 80 %\n",
      "持续天数                       76 %\n",
      "腹泻                          0 %\n",
      "腹泻量                        15 %\n",
      "腹泻频次                        0 %\n",
      "腹泻天数                        1 %\n",
      "腹泻性质                        0 %\n",
      "局部感染                       85 %\n",
      "神经症状                       85 %\n",
      "中毒症状                       85 %\n",
      "其他症状                       85 %\n",
      "近6个月有无肠道疾病既往史               0 %\n",
      "最进发作时间                    100 %\n",
      "发病前五天内是否有不洁饮食史              0 %\n",
      "食品名称                       66 %\n",
      "食物分类                       61 %\n",
      "肉与肉制品                     100 %\n",
      "乳与乳制品                     100 %\n",
      "果蔬类                       100 %\n",
      "蛋与蛋制品                     100 %\n",
      "不明                        100 %\n",
      "谷类及制品                     100 %\n",
      "豆类及豆制品                    100 %\n",
      "海、河水产品                    100 %\n",
      "海水产品                      100 %\n",
      "淡水产品                      100 %\n",
      "其他食物                      100 %\n",
      "进餐地点                       66 %\n",
      "发病前5天内是否有不洁饮水史              0 %\n",
      "饮水分类                      100 %\n",
      "发病前5天内周边有无类似腹泻病例            0 %\n",
      "疑似病例人数                     85 %\n",
      "发病前5天内是否有聚餐史                0 %\n",
      "同食者人数                      99 %\n",
      "发病人数                       99 %\n",
      "聚餐日期                       99 %\n",
      "早中晚餐                       99 %\n",
      "聚餐地点                       98 %\n",
      "发病前一周是否外出                  11 %\n",
      "外出地点                       98 %\n",
      "外出时间                       98 %\n",
      "返回时间                       98 %\n",
      "是否家中饲养或接触过宠物               11 %\n",
      "就诊前是否服用过抗生素                 0 %\n",
      "抗生素名称                      94 %\n",
      "wbc                        59 %\n",
      "rbc                        61 %\n",
      "巨噬细胞                       91 %\n",
      "粘液                         92 %\n",
      "中性粒细胞                      68 %\n",
      "wbc.1                      69 %\n",
      "其他检测项目                     96 %\n",
      "病原学检测结果                    97 %\n",
      "诊断                          0 %\n",
      "其他诊断情况                    100 %\n",
      "诊断类型                       22 %\n",
      "临床处理                       12 %\n",
      "本次就诊是否给予抗生素                 0 %\n",
      "抗生素名称.1                    45 %\n",
      "是否采集                        0 %\n",
      "采样类型                        0 %\n",
      "延迟采样数                      88 %\n",
      "采集日期                        7 %\n",
      "样本送样日期                     14 %\n",
      "检测类型                      100 %\n",
      "细菌结果                       70 %\n",
      "细菌检测结果初次录入时间               70 %\n",
      "细菌检测结果修订时间                 76 %\n",
      "样本接收时间(细菌)                100 %\n",
      "病毒结果                       89 %\n",
      "Lab备注                     100 %\n",
      "病毒检测结果初次录入时间               83 %\n",
      "病毒检测结果修订时间                 89 %\n",
      "样本接收时间(病毒)                100 %\n",
      "区县                          0 %\n",
      "医院                          0 %\n",
      "病例编号                        0 %\n",
      "初(复)诊                      43 %\n",
      "性别                          0 %\n",
      "出生年月                        0 %\n",
      "age                         0 %\n",
      "户籍                          0 %\n",
      "省                           1 %\n",
      "详细地址                       14 %\n",
      "职业                          0 %\n",
      "就诊日期                        0 %\n",
      "就诊日期1                       0 %\n",
      "发病日期                        0 %\n",
      "首发症状                       17 %\n",
      "发热                          0 %\n",
      "体温                         83 %\n",
      "脱水                          0 %\n",
      "腹胀                          0 %\n",
      "恶心                          0 %\n",
      "里急后重                        0 %\n",
      "肠鸣音亢进                       0 %\n",
      "腹痛                          0 %\n",
      "腹痛性质                       48 %\n",
      "腹痛部位                       48 %\n",
      "呕吐                          0 %\n",
      "呕吐频次                       76 %\n",
      "呕吐在腹泻___发生                 80 %\n",
      "持续天数                       76 %\n",
      "腹泻                          0 %\n",
      "腹泻量                        15 %\n",
      "腹泻频次                        0 %\n",
      "腹泻天数                        1 %\n",
      "腹泻性质                        0 %\n",
      "局部感染                       85 %\n",
      "神经症状                       85 %\n",
      "中毒症状                       85 %\n",
      "其他症状                       85 %\n",
      "近6个月有无肠道疾病既往史               0 %\n",
      "发病前五天内是否有不洁饮食史              0 %\n",
      "食品名称                       66 %\n",
      "食物分类                       61 %\n",
      "进餐地点                       66 %\n",
      "发病前5天内是否有不洁饮水史              0 %\n",
      "发病前5天内周边有无类似腹泻病例            0 %\n",
      "疑似病例人数                     85 %\n",
      "发病前5天内是否有聚餐史                0 %\n",
      "聚餐地点                       98 %\n",
      "发病前一周是否外出                  11 %\n",
      "外出地点                       98 %\n",
      "外出时间                       98 %\n",
      "返回时间                       98 %\n",
      "是否家中饲养或接触过宠物               11 %\n",
      "就诊前是否服用过抗生素                 0 %\n",
      "抗生素名称                      94 %\n",
      "wbc                        59 %\n",
      "rbc                        61 %\n",
      "巨噬细胞                       91 %\n",
      "粘液                         92 %\n",
      "中性粒细胞                      68 %\n",
      "wbc.1                      69 %\n",
      "其他检测项目                     96 %\n",
      "病原学检测结果                    97 %\n",
      "诊断                          0 %\n",
      "诊断类型                       22 %\n",
      "临床处理                       12 %\n",
      "本次就诊是否给予抗生素                 0 %\n",
      "抗生素名称.1                    45 %\n",
      "是否采集                        0 %\n",
      "采样类型                        0 %\n",
      "延迟采样数                      88 %\n",
      "采集日期                        7 %\n",
      "样本送样日期                     14 %\n",
      "细菌结果                       70 %\n",
      "细菌检测结果初次录入时间               70 %\n",
      "细菌检测结果修订时间                 76 %\n",
      "病毒结果                       89 %\n",
      "病毒检测结果初次录入时间               83 %\n",
      "病毒检测结果修订时间                 89 %\n"
     ]
    }
   ],
   "source": [
    "columns = []\n",
    "# Percentage of missing data\n",
    "print(\"\\npercentage of missing data\")\n",
    "for col in df.columns:\n",
    "    ratio = df[col].isnull().sum()/len(df)*100\n",
    "    print(f\"{col:25s} {ratio:3.0f} %\")\n",
    "    if ratio >= 98:\n",
    "        pass\n",
    "    else:\n",
    "        columns.append(col)\n",
    "\n",
    "df = df[columns]\n",
    "for col in df.columns:\n",
    "    ratio = df[col].isnull().sum()/len(df)*100\n",
    "    print(f\"{col:25s} {ratio:3.0f} %\")"
   ]
  },
  {
   "cell_type": "code",
   "execution_count": 57,
   "metadata": {},
   "outputs": [],
   "source": [
    "# Extract the required columns\n",
    "X = [\"区县\", \"性别\", \"age\", \"户籍\", \"职业\", \"首发症状\", \"发热\", \"体温\", \"脱水\",\n",
    "     \"腹胀\", \"恶心\", \"里急后重\", \"肠鸣音亢进\", \"腹痛\", \"腹痛性质\", \"腹痛部位\", \"呕吐\", \"呕吐频次\", \"呕吐在腹泻___发生\", \"持续天数\",\n",
    "     \"腹泻\", \"腹泻量\", \"腹泻频次\", \"腹泻天数\", \"腹泻性质\", \"神经症状\", \"中毒症状\", \"其他症状\", \"近6个月有无肠道疾病既往史\",\n",
    "     \"发病前五天内是否有不洁饮食史\", \"进餐地点\", \"发病前5天内是否有不洁饮水史\", \"发病前5天内周边有无类似腹泻病例\", \"疑似病例人数\",\n",
    "     \"发病前5天内是否有聚餐史\", \"发病前一周是否外出\", \"是否家中饲养或接触过宠物\", \"就诊前是否服用过抗生素\",\n",
    "     \"诊断\", \"诊断类型\", \"临床处理\", \"本次就诊是否给予抗生素\", \"抗生素名称.1\", \"是否采集\", \"采样类型\"]\n",
    "y = [\"细菌结果\"]\n",
    "data = df[X + y]\n",
    "\n",
    "data_file = \"data\\Diarrhea_new.tsv\"\n",
    "data.to_csv(data_file, sep=\"\\t\", encoding=\"utf-8\")"
   ]
  },
  {
   "cell_type": "code",
   "execution_count": 58,
   "metadata": {},
   "outputs": [],
   "source": [
    "data_file = \"data\\Diarrhea_new.tsv\"\n",
    "df = pd.read_csv(data_file, sep=\"\\t\", index_col=0, encoding=\"utf-8\")"
   ]
  },
  {
   "cell_type": "markdown",
   "metadata": {},
   "source": [
    "## Age and gender distribution"
   ]
  },
  {
   "cell_type": "code",
   "execution_count": 59,
   "metadata": {},
   "outputs": [
    {
     "data": {
      "image/png": "[encoded data removed]",
      "text/plain": [
       "<Figure size 936x576 with 1 Axes>"
      ]
     },
     "metadata": {
      "needs_background": "light"
     },
     "output_type": "display_data"
    }
   ],
   "source": [
    "plt.figure(figsize=(13, 8))\n",
    "x = \"age\"\n",
    "\n",
    "age = sns.distplot(df[x], bins=80, hist_kws={'label': 'hist', 'edgecolor': 'black'},\n",
    "                 kde_kws={'color': 'red', 'label': 'KDE'},\n",
    "                 )\n",
    "\n",
    "# Settings for legend\n",
    "font1 = {'family': 'Times New Roman',\n",
    "         'weight': 'normal',\n",
    "         'size': 18,\n",
    "         }\n",
    "age.legend(prop=font1, loc='best')\n",
    "\n",
    "# Settings for scale\n",
    "age.tick_params(labelsize=18)\n",
    "labels = age.get_xticklabels() + age.get_yticklabels()\n",
    "[label.set_fontname('Times New Roman') for label in labels]\n",
    "\n",
    "# Setting for coordinate axis\n",
    "font2 = {'family': 'Times New Roman',\n",
    "         'weight': 'normal',\n",
    "         'size': 20,\n",
    "         }\n",
    "age.set_xlabel('Age', font2)\n",
    "age.set_ylabel('Density', font2);"
   ]
  },
  {
   "cell_type": "code",
   "execution_count": 60,
   "metadata": {},
   "outputs": [
    {
     "data": {
      "image/png": "[encoded data removed]",
      "text/plain": [
       "<Figure size 504x360 with 1 Axes>"
      ]
     },
     "metadata": {
      "needs_background": "light"
     },
     "output_type": "display_data"
    }
   ],
   "source": [
    "plt.figure(figsize=(7, 5))\n",
    "gender = sns.countplot(x=\"性别\", data=df,palette=\"Blues_d\")\n",
    "gender.tick_params(labelsize=18)\n",
    "labels = gender.get_xticklabels() + gender.get_yticklabels()\n",
    "[label.set_fontname('Times New Roman') for label in labels]\n",
    "# p.set_xticklabels(['Male','Female'])\n",
    "gender.set_xlabel('Gender',font2)\n",
    "gender.set_ylabel('Count',font2);"
   ]
  },
  {
   "cell_type": "markdown",
   "metadata": {},
   "source": [
    "## Missing Value Processing"
   ]
  },
  {
   "cell_type": "code",
   "execution_count": 61,
   "metadata": {},
   "outputs": [
    {
     "name": "stdout",
     "output_type": "stream",
     "text": [
      "(11600, 46)\n"
     ]
    }
   ],
   "source": [
    "# Delete rows with null values in the \"Bacteria Results\" column\n",
    "df.dropna(axis=0, how='any', subset=['细菌结果'], inplace=True)\n",
    "print(df.shape)\n",
    "\n",
    "# Missing value filling\n",
    "df[\"age\"].fillna(df[\"age\"].mean(), inplace=True)\n",
    "df[\"体温\"].fillna(df[\"体温\"].mode()[0], inplace=True)\n",
    "\n",
    "df.loc[df['呕吐'] == \"无\", '呕吐频次'] = 0\n",
    "df['呕吐频次'].fillna(1, inplace=True)\n",
    "\n",
    "df.loc[df['呕吐'] == \"无\", '持续天数'] = 0\n",
    "df['持续天数'].fillna(1, inplace=True)\n",
    "\n",
    "columns = [\"腹泻量\", \"腹泻频次\", \"腹泻天数\"]\n",
    "for column in columns:\n",
    "    df.loc[df['腹泻'] == \"无\", column] = 0\n",
    "    df[column].fillna(df[column].mean(), inplace=True)\n",
    "\n",
    "def yes_no(x):\n",
    "    if x == \"否\" or x == \"无\":\n",
    "        return \"无\"\n",
    "    else:\n",
    "        return \"有\"\n",
    "\n",
    "df['发病前5天内周边有无类似腹泻病例'] = df['发病前5天内周边有无类似腹泻病例'].map(yes_no)\n",
    "df.loc[df['发病前5天内周边有无类似腹泻病例'] == \"无\", '疑似病例人数'] = 0\n",
    "df['疑似病例人数'].fillna(1, inplace=True)"
   ]
  },
  {
   "cell_type": "code",
   "execution_count": 62,
   "metadata": {},
   "outputs": [],
   "source": [
    "x = [\"职业\", \"首发症状\", \"腹痛性质\", \"腹痛部位\", \"呕吐在腹泻___发生\", \"神经症状\", \"中毒症状\", \"其他症状\",\n",
    "     \"进餐地点\", \"发病前一周是否外出\", \"是否家中饲养或接触过宠物\", \"诊断类型\", \"临床处理\", \"抗生素名称.1\"]\n",
    "for column in x:\n",
    "    df[column].fillna(\"无\", inplace=True)\n",
    "\n",
    "\n",
    "x = [\"发病前五天内是否有不洁饮食史\", \"发病前5天内是否有不洁饮水史\", \"发病前5天内周边有无类似腹泻病例\",\n",
    "     \"发病前5天内是否有聚餐史\", \"发病前一周是否外出\", \"是否家中饲养或接触过宠物\", \"就诊前是否服用过抗生素\",\n",
    "     \"本次就诊是否给予抗生素\", \"是否采集\"]\n",
    "for column in x:\n",
    "    df[column] = df[column].map(yes_no)"
   ]
  },
  {
   "cell_type": "code",
   "execution_count": 63,
   "metadata": {},
   "outputs": [
    {
     "name": "stdout",
     "output_type": "stream",
     "text": [
      "区县                          0 %\n",
      "性别                          0 %\n",
      "age                         0 %\n",
      "户籍                          0 %\n",
      "职业                          0 %\n",
      "首发症状                        0 %\n",
      "发热                          0 %\n",
      "体温                          0 %\n",
      "脱水                          0 %\n",
      "腹胀                          0 %\n",
      "恶心                          0 %\n",
      "里急后重                        0 %\n",
      "肠鸣音亢进                       0 %\n",
      "腹痛                          0 %\n",
      "腹痛性质                        0 %\n",
      "腹痛部位                        0 %\n",
      "呕吐                          0 %\n",
      "呕吐频次                        0 %\n",
      "呕吐在腹泻___发生                  0 %\n",
      "持续天数                        0 %\n",
      "腹泻                          0 %\n",
      "腹泻量                         0 %\n",
      "腹泻频次                        0 %\n",
      "腹泻天数                        0 %\n",
      "腹泻性质                        0 %\n",
      "神经症状                        0 %\n",
      "中毒症状                        0 %\n",
      "其他症状                        0 %\n",
      "近6个月有无肠道疾病既往史               0 %\n",
      "发病前五天内是否有不洁饮食史              0 %\n",
      "进餐地点                        0 %\n",
      "发病前5天内是否有不洁饮水史              0 %\n",
      "发病前5天内周边有无类似腹泻病例            0 %\n",
      "疑似病例人数                      0 %\n",
      "发病前5天内是否有聚餐史                0 %\n",
      "发病前一周是否外出                   0 %\n",
      "是否家中饲养或接触过宠物                0 %\n",
      "就诊前是否服用过抗生素                 0 %\n",
      "诊断                          0 %\n",
      "诊断类型                        0 %\n",
      "临床处理                        0 %\n",
      "本次就诊是否给予抗生素                 0 %\n",
      "抗生素名称.1                     0 %\n",
      "是否采集                        0 %\n",
      "采样类型                        0 %\n",
      "细菌结果                        0 %\n"
     ]
    }
   ],
   "source": [
    "# Check if there are still empty values in each column\n",
    "for col in df.columns:\n",
    "    ratio = df[col].isnull().sum()/len(df)*100\n",
    "    print(f\"{col:25s} {ratio:3.0f} %\")"
   ]
  },
  {
   "cell_type": "code",
   "execution_count": 64,
   "metadata": {},
   "outputs": [],
   "source": [
    "# Remove spaces\n",
    "obj = df.dtypes[df.dtypes == 'object'].index.tolist()\n",
    "obj.remove(\"腹泻性质\")\n",
    "for column in obj:\n",
    "    df[column] = df[column].astype('object')\n",
    "    df[column] = df[column].map(lambda x: x.strip())"
   ]
  },
  {
   "cell_type": "code",
   "execution_count": 65,
   "metadata": {},
   "outputs": [],
   "source": [
    "df_file = \"data/Diarrhea_fillna.tsv\"\n",
    "df.to_csv(df_file, sep=\"\\t\", encoding=\"utf-8\")"
   ]
  },
  {
   "cell_type": "markdown",
   "metadata": {},
   "source": [
    "## Experiments"
   ]
  },
  {
   "cell_type": "code",
   "execution_count": 66,
   "metadata": {},
   "outputs": [],
   "source": [
    "df_file = \"data/Diarrhea_fillna.tsv\"\n",
    "df = pd.read_csv(df_file, sep=\"\\t\", index_col=0, encoding=\"utf-8\")"
   ]
  },
  {
   "cell_type": "code",
   "execution_count": 67,
   "metadata": {},
   "outputs": [],
   "source": [
    "y = \"细菌结果\"\n",
    "df[y] = df[y].map(lambda x: 0 if x == \"阴性\" else 1)"
   ]
  },
  {
   "cell_type": "code",
   "execution_count": 68,
   "metadata": {},
   "outputs": [
    {
     "data": {
      "text/plain": [
       "<Figure size 504x360 with 0 Axes>"
      ]
     },
     "execution_count": 68,
     "metadata": {},
     "output_type": "execute_result"
    },
    {
     "data": {
      "text/plain": [
       "[None, None, None, None, None, None, None, None]"
      ]
     },
     "execution_count": 68,
     "metadata": {},
     "output_type": "execute_result"
    },
    {
     "data": {
      "text/plain": [
       "[Text(0, 0, 'Negative'), Text(1, 0, 'Positive')]"
      ]
     },
     "execution_count": 68,
     "metadata": {},
     "output_type": "execute_result"
    },
    {
     "data": {
      "text/plain": [
       "Text(0.5, 0, '')"
      ]
     },
     "execution_count": 68,
     "metadata": {},
     "output_type": "execute_result"
    },
    {
     "data": {
      "text/plain": [
       "Text(0, 0.5, 'Count')"
      ]
     },
     "execution_count": 68,
     "metadata": {},
     "output_type": "execute_result"
    },
    {
     "data": {
      "image/png": "[encoded data removed]",
      "text/plain": [
       "<Figure size 504x360 with 1 Axes>"
      ]
     },
     "metadata": {
      "needs_background": "light"
     },
     "output_type": "display_data"
    }
   ],
   "source": [
    "plt.figure(figsize=(7, 5))\n",
    "result = sns.countplot(x=\"细菌结果\", data=df, palette=\"Blues_d\")\n",
    "result.tick_params(labelsize=18)\n",
    "labels = result.get_xticklabels() + result.get_yticklabels()\n",
    "[label.set_fontname('Times New Roman') for label in labels]\n",
    "result.set_xticklabels(['Negative', 'Positive'])\n",
    "result.set_xlabel('', font2)\n",
    "# p.set_xlabel('Bacterial infection results',font2)\n",
    "result.set_ylabel('Count', font2)"
   ]
  },
  {
   "cell_type": "markdown",
   "metadata": {},
   "source": [
    "### Feature selection\n",
    "#### 1. Statistical-based methods "
   ]
  },
  {
   "cell_type": "code",
   "execution_count": 69,
   "metadata": {},
   "outputs": [
    {
     "data": {
      "text/plain": [
       "['age', '体温', '呕吐频次', '持续天数', '腹泻量', '腹泻频次', '腹泻天数', '疑似病例人数', '细菌结果']"
      ]
     },
     "execution_count": 69,
     "metadata": {},
     "output_type": "execute_result"
    }
   ],
   "source": [
    "## Continuous data: one-way ANOVA\n",
    "def correlation_anova(x,y,df):\n",
    "    \"\"\"\n",
    "    one-way ANOVA test\n",
    "    \"\"\"\n",
    "    model = smf.ols(x+' ~ '+y, data=df).fit()\n",
    "    table = sm.stats.anova_lm(model)\n",
    "    p = table[\"PR(>F)\"][0]\n",
    "    coeff, p = None, round(p, 3)\n",
    "    conclusion = \"Correlated\" if p < 0.05 else \"Non-Correlated\"\n",
    "    # print(f\"Anova F: the variables {x, y} are\", conclusion, \"(p-value: \"+str(p)+\")\")\n",
    "    return p, conclusion\n",
    "\n",
    "obj_columns = df.select_dtypes(include=object).columns.to_list()\n",
    "cont_columns = [column for column in df.columns if column not in obj_columns]\n",
    "cont_columns"
   ]
  },
  {
   "cell_type": "code",
   "execution_count": 70,
   "metadata": {},
   "outputs": [
    {
     "data": {
      "text/html": [
       "<div>\n",
       "<style scoped>\n",
       "    .dataframe tbody tr th:only-of-type {\n",
       "        vertical-align: middle;\n",
       "    }\n",
       "\n",
       "    .dataframe tbody tr th {\n",
       "        vertical-align: top;\n",
       "    }\n",
       "\n",
       "    .dataframe thead th {\n",
       "        text-align: right;\n",
       "    }\n",
       "</style>\n",
       "<table border=\"1\" class=\"dataframe\">\n",
       "  <thead>\n",
       "    <tr style=\"text-align: right;\">\n",
       "      <th></th>\n",
       "      <th>P Value</th>\n",
       "      <th>Effective</th>\n",
       "    </tr>\n",
       "  </thead>\n",
       "  <tbody>\n",
       "    <tr>\n",
       "      <th>age</th>\n",
       "      <td>0.000</td>\n",
       "      <td>Correlated</td>\n",
       "    </tr>\n",
       "    <tr>\n",
       "      <th>体温</th>\n",
       "      <td>0.000</td>\n",
       "      <td>Correlated</td>\n",
       "    </tr>\n",
       "    <tr>\n",
       "      <th>呕吐频次</th>\n",
       "      <td>0.116</td>\n",
       "      <td>Non-Correlated</td>\n",
       "    </tr>\n",
       "    <tr>\n",
       "      <th>持续天数</th>\n",
       "      <td>0.234</td>\n",
       "      <td>Non-Correlated</td>\n",
       "    </tr>\n",
       "    <tr>\n",
       "      <th>腹泻量</th>\n",
       "      <td>0.000</td>\n",
       "      <td>Correlated</td>\n",
       "    </tr>\n",
       "  </tbody>\n",
       "</table>\n",
       "</div>"
      ],
      "text/plain": [
       "      P Value       Effective\n",
       "age     0.000      Correlated\n",
       "体温      0.000      Correlated\n",
       "呕吐频次    0.116  Non-Correlated\n",
       "持续天数    0.234  Non-Correlated\n",
       "腹泻量     0.000      Correlated"
      ]
     },
     "execution_count": 70,
     "metadata": {},
     "output_type": "execute_result"
    }
   ],
   "source": [
    "y = \"细菌结果\"\n",
    "cont_p = []\n",
    "cont_conclusion = []\n",
    "for column in cont_columns:\n",
    "    p, conclusion = correlation_anova(column,y,df)\n",
    "    cont_p.append(p)\n",
    "    cont_conclusion.append(conclusion)\n",
    "\n",
    "list_of_tuple = list(zip(cont_p,cont_conclusion))\n",
    "cont_result = pd.DataFrame(data=list_of_tuple,index=cont_columns,columns=[\"P Value\", \"Effective\"])\n",
    "cont_result.head()"
   ]
  },
  {
   "cell_type": "code",
   "execution_count": 71,
   "metadata": {},
   "outputs": [
    {
     "data": {
      "image/png": "[encoded data removed]",
      "text/plain": [
       "<Figure size 1224x432 with 2 Axes>"
      ]
     },
     "metadata": {
      "needs_background": "light"
     },
     "output_type": "display_data"
    }
   ],
   "source": [
    "## Distributions visualization of continuous feature\n",
    "y, x = \"细菌结果\", \"age\"\n",
    "fig, ax = plt.subplots(nrows=1,\n",
    "                       ncols=2,\n",
    "                       sharex=False,\n",
    "                       sharey=False,\n",
    "                       figsize=(17, 6))\n",
    "\n",
    "font1 = {'family': 'Times New Roman',\n",
    "         'weight': 'normal',\n",
    "         'size': 18,\n",
    "         }\n",
    "\n",
    "font2 = {'family': 'Times New Roman',\n",
    "         'weight': 'normal',\n",
    "         'size': 20,\n",
    "         }\n",
    "\n",
    "font3 = {'family': 'Times New Roman',\n",
    "         'weight': 'normal',\n",
    "         'size': 23,\n",
    "         }\n",
    "\n",
    "fig.suptitle(\"Age\" + \"   vs   \" + \"Bacterial infection results\",\n",
    "             fontsize=20, fontproperties=font3)\n",
    "\n",
    "# line\n",
    "for i in df[y].unique():\n",
    "    sns.distplot(df[df[y] == i][x], hist=False, label=\"Negative\" if i==0 else \"Positive\", ax=ax[0])\n",
    "ax[0].legend(prop=font1,loc='best')\n",
    "ax[0].set_xlabel('Age',font2)\n",
    "ax[0].set_ylabel('Density',font2)\n",
    "ax[0].tick_params(labelsize=18)\n",
    "labels = ax[0].get_xticklabels() + ax[0].get_yticklabels()\n",
    "[label.set_fontname('Times New Roman') for label in labels]\n",
    "\n",
    "# stacked\n",
    "breaks = np.quantile(df[x], q=np.linspace(0, 1, 11))\n",
    "tmp = df.groupby([y, pd.cut(df[x], breaks, duplicates='drop')]).size().unstack().T\n",
    "tmp = tmp[df[y].unique()]\n",
    "tmp[\"tot\"] = tmp.sum(axis=1)\n",
    "for col in tmp.drop(\"tot\", axis=1).columns:\n",
    "    tmp[col] = tmp[col] / tmp[\"tot\"]\n",
    "tmp.drop(\"tot\", axis=1).plot(kind='bar',\n",
    "                             stacked=True,\n",
    "                             ax=ax[1],\n",
    "                             legend=False,)\n",
    "                             #grid=True)\n",
    "ax[1].set_xlabel('Age',font2)\n",
    "plt.xticks(rotation=20);\n",
    "\n",
    "ax[1].tick_params(labelsize=18)\n",
    "labels = ax[1].get_xticklabels() + ax[1].get_yticklabels()\n",
    "[label.set_fontname('Times New Roman') for label in labels]\n",
    "fig.tight_layout()\n",
    "plt.show();"
   ]
  },
  {
   "cell_type": "code",
   "execution_count": 72,
   "metadata": {},
   "outputs": [
    {
     "data": {
      "image/png": "[encoded data removed]",
      "text/plain": [
       "<Figure size 1224x432 with 2 Axes>"
      ]
     },
     "metadata": {
      "needs_background": "light"
     },
     "output_type": "display_data"
    }
   ],
   "source": [
    "# Distributions visualization of categorical feature\n",
    "y, x = \"细菌结果\", \"呕吐频次\"\n",
    "fig, ax = plt.subplots(nrows=1,\n",
    "                       ncols=2,\n",
    "                       sharex=False,\n",
    "                       sharey=False,\n",
    "                       figsize=(17, 6))\n",
    "\n",
    "fig.suptitle(\"Vomiting frequency\" + \"   vs   \" +\n",
    "             \"Bacterial infection results\", fontsize=20, fontproperties=font3)\n",
    "\n",
    "# line\n",
    "ax[0].set_title('density', fontproperties=font2)\n",
    "for i in df[y].unique():\n",
    "    sns.distplot(df[df[y] == i][x], hist=False,\n",
    "                 label=\"Negative\" if i == 0 else \"Positive\", ax=ax[0])\n",
    "# ax[0].grid(True)\n",
    "ax[0].legend(prop=font1, loc='best')\n",
    "ax[0].set_xlabel('Vomiting frequency', font2)\n",
    "ax[0].set_ylabel('Density', font2)\n",
    "ax[0].tick_params(labelsize=18)\n",
    "labels = ax[0].get_xticklabels() + ax[0].get_yticklabels()\n",
    "[label.set_fontname('Times New Roman') for label in labels]\n",
    "\n",
    "# stacked\n",
    "ax[1].set_title('bins', fontproperties=font2)\n",
    "breaks = np.quantile(df[x], q=np.linspace(0, 1, 11))\n",
    "tmp = df.groupby([y, pd.cut(df[x], breaks, duplicates='drop')]\n",
    "                 ).size().unstack().T\n",
    "tmp = tmp[df[y].unique()]\n",
    "tmp[\"tot\"] = tmp.sum(axis=1)\n",
    "for col in tmp.drop(\"tot\", axis=1).columns:\n",
    "    tmp[col] = tmp[col] / tmp[\"tot\"]\n",
    "tmp.drop(\"tot\", axis=1).plot(kind='bar',\n",
    "                             stacked=True,\n",
    "                             ax=ax[1],\n",
    "                             legend=False,)\n",
    "ax[1].set_xlabel('Vomiting frequency', font2)\n",
    "plt.xticks(rotation=20)\n",
    "ax[1].tick_params(labelsize=18)\n",
    "labels = ax[1].get_xticklabels() + ax[1].get_yticklabels()\n",
    "[label.set_fontname('Times New Roman') for label in labels]\n",
    "fig.tight_layout()\n",
    "plt.show();"
   ]
  },
  {
   "cell_type": "code",
   "execution_count": 73,
   "metadata": {},
   "outputs": [
    {
     "data": {
      "text/html": [
       "<div>\n",
       "<style scoped>\n",
       "    .dataframe tbody tr th:only-of-type {\n",
       "        vertical-align: middle;\n",
       "    }\n",
       "\n",
       "    .dataframe tbody tr th {\n",
       "        vertical-align: top;\n",
       "    }\n",
       "\n",
       "    .dataframe thead th {\n",
       "        text-align: right;\n",
       "    }\n",
       "</style>\n",
       "<table border=\"1\" class=\"dataframe\">\n",
       "  <thead>\n",
       "    <tr style=\"text-align: right;\">\n",
       "      <th></th>\n",
       "      <th>Coeff</th>\n",
       "      <th>P Value</th>\n",
       "      <th>Effective</th>\n",
       "    </tr>\n",
       "  </thead>\n",
       "  <tbody>\n",
       "    <tr>\n",
       "      <th>区县</th>\n",
       "      <td>0.431</td>\n",
       "      <td>0.000</td>\n",
       "      <td>Correlated</td>\n",
       "    </tr>\n",
       "    <tr>\n",
       "      <th>性别</th>\n",
       "      <td>0.035</td>\n",
       "      <td>0.000</td>\n",
       "      <td>Correlated</td>\n",
       "    </tr>\n",
       "    <tr>\n",
       "      <th>户籍</th>\n",
       "      <td>0.119</td>\n",
       "      <td>0.000</td>\n",
       "      <td>Correlated</td>\n",
       "    </tr>\n",
       "    <tr>\n",
       "      <th>职业</th>\n",
       "      <td>0.144</td>\n",
       "      <td>0.000</td>\n",
       "      <td>Correlated</td>\n",
       "    </tr>\n",
       "    <tr>\n",
       "      <th>首发症状</th>\n",
       "      <td>0.062</td>\n",
       "      <td>0.000</td>\n",
       "      <td>Correlated</td>\n",
       "    </tr>\n",
       "    <tr>\n",
       "      <th>发热</th>\n",
       "      <td>0.101</td>\n",
       "      <td>0.000</td>\n",
       "      <td>Correlated</td>\n",
       "    </tr>\n",
       "    <tr>\n",
       "      <th>脱水</th>\n",
       "      <td>0.013</td>\n",
       "      <td>0.136</td>\n",
       "      <td>Non-Correlated</td>\n",
       "    </tr>\n",
       "  </tbody>\n",
       "</table>\n",
       "</div>"
      ],
      "text/plain": [
       "      Coeff  P Value       Effective\n",
       "区县    0.431    0.000      Correlated\n",
       "性别    0.035    0.000      Correlated\n",
       "户籍    0.119    0.000      Correlated\n",
       "职业    0.144    0.000      Correlated\n",
       "首发症状  0.062    0.000      Correlated\n",
       "发热    0.101    0.000      Correlated\n",
       "脱水    0.013    0.136  Non-Correlated"
      ]
     },
     "execution_count": 73,
     "metadata": {},
     "output_type": "execute_result"
    }
   ],
   "source": [
    "## Categorical data: chi-square test\n",
    "def correlation_chi2(x,y,df):\n",
    "    \"\"\"\n",
    "    Chi-Square test: for two categorical factors\n",
    "    \"\"\"\n",
    "    cont_table = pd.crosstab(index=df[x], columns=df[y])\n",
    "    chi2_test = scipy.stats.chi2_contingency(cont_table)\n",
    "    chi2, p = chi2_test[0], chi2_test[1]\n",
    "    n = cont_table.sum().sum()\n",
    "    phi2 = chi2/n\n",
    "    r,k = cont_table.shape\n",
    "    phi2corr = max(0, phi2-((k-1)*(r-1))/(n-1))\n",
    "    rcorr = r-((r-1)**2)/(n-1)\n",
    "    kcorr = k-((k-1)**2)/(n-1)\n",
    "    coeff = np.sqrt(phi2corr/min((kcorr-1), (rcorr-1)))\n",
    "    coeff, p = round(coeff, 3), round(p, 3)\n",
    "    conclusion = \"Correlated\" if p < 0.05 else \"Non-Correlated\"\n",
    "    # conclusion = \"Significant\" if p < 0.05 else \"Non-Significant\"\n",
    "    # print(\"Cramer Correlation:\", coeff, conclusion, \"(p-value:\"+str(p)+\")\")\n",
    "    return coeff, p, conclusion\n",
    "    \n",
    "y = \"细菌结果\"\n",
    "obj_coeff = []\n",
    "obj_p = []\n",
    "obj_conclusion = []\n",
    "for column in obj_columns:\n",
    "    coeff, p, conclusion = correlation_chi2(column,y,df)\n",
    "    obj_coeff.append(coeff)\n",
    "    obj_p.append(p)\n",
    "    obj_conclusion.append(conclusion)\n",
    "\n",
    "list_of_tuple = list(zip(obj_coeff,obj_p,obj_conclusion))\n",
    "obj_result = pd.DataFrame(data=list_of_tuple,index=obj_columns,columns=[\"Coeff\", \"P Value\", \"Effective\"])\n",
    "obj_result.head(7)"
   ]
  },
  {
   "cell_type": "code",
   "execution_count": 74,
   "metadata": {},
   "outputs": [
    {
     "data": {
      "image/png": "[encoded data removed]",
      "text/plain": [
       "<Figure size 864x432 with 2 Axes>"
      ]
     },
     "metadata": {
      "needs_background": "light"
     },
     "output_type": "display_data"
    }
   ],
   "source": [
    "# Visualization\n",
    "def correlation_plot(x, y, df, feature):\n",
    "    fig, ax = plt.subplots(nrows=1, ncols=2,  sharex=False,\n",
    "                           sharey=False, figsize=(12, 6))\n",
    "    fig.suptitle(feature+\"   vs   \"+\"Bacterial infection results\",\n",
    "                 fontsize=20, fontproperties=font3)\n",
    "\n",
    "    # count\n",
    "    ax[0].set_title('count', fontproperties=font2)\n",
    "    order = df.groupby(x)[y].count().index.tolist()\n",
    "    sns.countplot(x=x, hue=y, data=df, order=order, ax=ax[0])\n",
    "    # ax[0].grid(True)\n",
    "    ax[0].legend(prop=font1, loc='best', labels=['Negative', 'Positive'])\n",
    "    ax[0].set_xlabel(feature, font2)\n",
    "    ax[0].set_ylabel('Count', font2)\n",
    "    ax[0].set_xticklabels(['No', 'Yes'])\n",
    "    ax[0].tick_params(labelsize=18)\n",
    "    labels = ax[0].get_xticklabels() + ax[0].get_yticklabels()\n",
    "    [label.set_fontname('Times New Roman') for label in labels]\n",
    "\n",
    "    # percentage\n",
    "    ax[1].set_title('percentage', fontproperties=font2)\n",
    "    a = df.groupby(x)[y].count().reset_index()\n",
    "    a = a.rename(columns={y: \"tot\"})\n",
    "    b = df.groupby([x, y])[y].count()\n",
    "    b = b.to_frame()\n",
    "    b = b.rename(columns={y: 0}).reset_index()\n",
    "    b = b.merge(a, how=\"left\")\n",
    "    b[\"%\"] = b[0] / b[\"tot\"] * 100\n",
    "    sns.barplot(x=x, y=\"%\", hue=y, data=b,\n",
    "                ax=ax[1]).get_legend().remove()\n",
    "    # ax[1].grid(True)\n",
    "    ax[1].set_xticklabels(['No', 'Yes'])\n",
    "    ax[1].set_xlabel(feature, font2)\n",
    "    ax[1].set_ylabel('%', font2)\n",
    "    ax[1].tick_params(labelsize=18)\n",
    "    labels = ax[1].get_xticklabels() + ax[1].get_yticklabels()\n",
    "    [label.set_fontname('Times New Roman') for label in labels]\n",
    "    fig.tight_layout()\n",
    "    plt.show()\n",
    "\n",
    "## relevant\n",
    "x, y = \"发热\", \"细菌结果\"\n",
    "correlation_plot(x, y, df, \"Fever\")"
   ]
  },
  {
   "cell_type": "code",
   "execution_count": 75,
   "metadata": {},
   "outputs": [
    {
     "data": {
      "image/png": "[encoded data removed]",
      "text/plain": [
       "<Figure size 864x432 with 2 Axes>"
      ]
     },
     "metadata": {
      "needs_background": "light"
     },
     "output_type": "display_data"
    }
   ],
   "source": [
    "# irrelevant\n",
    "x, y = \"呕吐\", \"细菌结果\"\n",
    "correlation_plot(x, y, df, 'Vomit')"
   ]
  },
  {
   "cell_type": "code",
   "execution_count": 76,
   "metadata": {},
   "outputs": [],
   "source": [
    "obj_result = obj_result.drop(columns=['Coeff'], axis=1)"
   ]
  },
  {
   "cell_type": "code",
   "execution_count": 77,
   "metadata": {},
   "outputs": [
    {
     "data": {
      "text/html": [
       "<div>\n",
       "<style scoped>\n",
       "    .dataframe tbody tr th:only-of-type {\n",
       "        vertical-align: middle;\n",
       "    }\n",
       "\n",
       "    .dataframe tbody tr th {\n",
       "        vertical-align: top;\n",
       "    }\n",
       "\n",
       "    .dataframe thead th {\n",
       "        text-align: right;\n",
       "    }\n",
       "</style>\n",
       "<table border=\"1\" class=\"dataframe\">\n",
       "  <thead>\n",
       "    <tr style=\"text-align: right;\">\n",
       "      <th></th>\n",
       "      <th>P Value</th>\n",
       "      <th>Effective</th>\n",
       "    </tr>\n",
       "  </thead>\n",
       "  <tbody>\n",
       "    <tr>\n",
       "      <th>age</th>\n",
       "      <td>0.000</td>\n",
       "      <td>Correlated</td>\n",
       "    </tr>\n",
       "    <tr>\n",
       "      <th>体温</th>\n",
       "      <td>0.000</td>\n",
       "      <td>Correlated</td>\n",
       "    </tr>\n",
       "    <tr>\n",
       "      <th>呕吐频次</th>\n",
       "      <td>0.116</td>\n",
       "      <td>Non-Correlated</td>\n",
       "    </tr>\n",
       "    <tr>\n",
       "      <th>持续天数</th>\n",
       "      <td>0.234</td>\n",
       "      <td>Non-Correlated</td>\n",
       "    </tr>\n",
       "    <tr>\n",
       "      <th>腹泻量</th>\n",
       "      <td>0.000</td>\n",
       "      <td>Correlated</td>\n",
       "    </tr>\n",
       "  </tbody>\n",
       "</table>\n",
       "</div>"
      ],
      "text/plain": [
       "      P Value       Effective\n",
       "age     0.000      Correlated\n",
       "体温      0.000      Correlated\n",
       "呕吐频次    0.116  Non-Correlated\n",
       "持续天数    0.234  Non-Correlated\n",
       "腹泻量     0.000      Correlated"
      ]
     },
     "execution_count": 77,
     "metadata": {},
     "output_type": "execute_result"
    }
   ],
   "source": [
    "# All features vs selected features\n",
    "\n",
    "# cont_result + obj_result\n",
    "cont_obj_result = pd.concat([cont_result, obj_result])\n",
    "cont_obj_result.head()\n",
    "final_columns = cont_obj_result[cont_obj_result[\"Effective\"] == \"Correlated\"].index.to_list()\n",
    "\n",
    "## Delete irrelevant columns\n",
    "# if you want to use all features, delete the following code\n",
    "df = df[final_columns]"
   ]
  },
  {
   "cell_type": "code",
   "execution_count": 78,
   "metadata": {},
   "outputs": [
    {
     "data": {
      "text/plain": [
       "Index(['age', '体温', '腹泻量', '腹泻频次', '腹泻天数', '细菌结果', '区县', '性别', '户籍', '职业',\n",
       "       '首发症状', '发热', '腹胀', '恶心', '腹痛', '腹痛性质', '腹痛部位', '呕吐在腹泻___发生', '腹泻',\n",
       "       '腹泻性质', '近6个月有无肠道疾病既往史', '进餐地点', '是否家中饲养或接触过宠物', '就诊前是否服用过抗生素', '诊断',\n",
       "       '诊断类型', '临床处理', '本次就诊是否给予抗生素', '抗生素名称.1', '是否采集', '采样类型'],\n",
       "      dtype='object')"
      ]
     },
     "execution_count": 78,
     "metadata": {},
     "output_type": "execute_result"
    }
   ],
   "source": [
    "df.columns"
   ]
  },
  {
   "cell_type": "markdown",
   "metadata": {},
   "source": [
    "### Feature representation\n",
    "#### 1. One-hot encoding"
   ]
  },
  {
   "cell_type": "code",
   "execution_count": 80,
   "metadata": {},
   "outputs": [
    {
     "data": {
      "text/plain": [
       "(11600, 266)"
      ]
     },
     "execution_count": 80,
     "metadata": {},
     "output_type": "execute_result"
    }
   ],
   "source": [
    "## Statistical-based method + one-hot encoding\n",
    "df = pd.get_dummies(df, drop_first=True)\n",
    "df.shape\n",
    "# 357 features (excluding the label column)"
   ]
  },
  {
   "cell_type": "code",
   "execution_count": 81,
   "metadata": {},
   "outputs": [],
   "source": [
    "y = '细菌结果'\n",
    "names = df.columns\n",
    "scaler = preprocessing.MinMaxScaler().fit(df)\n",
    "df = scaler.transform(df)\n",
    "df = pd.DataFrame(df, columns=names)\n",
    "\n",
    "df_normal_file = \"data/Diarrhea_statistical_onehot_357.tsv\"\n",
    "df.to_csv(df_normal_file, sep=\"\\t\", encoding=\"utf-8\")\n"
   ]
  },
  {
   "cell_type": "code",
   "execution_count": 82,
   "metadata": {},
   "outputs": [],
   "source": [
    "y = '细菌结果'\n",
    "df_file = \"data/Diarrhea_statistical_onehot_357.tsv\"\n",
    "df = pd.read_csv(df_file, sep=\"\\t\", index_col=0, encoding=\"utf-8\")\n",
    "features_raw = df.drop(y, axis=1).columns.to_list()"
   ]
  },
  {
   "cell_type": "markdown",
   "metadata": {},
   "source": [
    "### Stratified sampling"
   ]
  },
  {
   "cell_type": "code",
   "execution_count": 83,
   "metadata": {},
   "outputs": [
    {
     "name": "stdout",
     "output_type": "stream",
     "text": [
      "X_train shape: (6960, 265) | X_val shape: (2320, 265) | X_test shape: (2320, 265)\n",
      "y_train mean: 0.2 | y_test mean: 0.2\n",
      "--------------------------------------------------\n",
      "Train set：\n",
      "0    0.795833\n",
      "1    0.204167\n",
      "Name: 细菌结果, dtype: float64\n",
      "Val set：\n",
      "0    0.79569\n",
      "1    0.20431\n",
      "Name: 细菌结果, dtype: float64\n",
      "Test set：\n",
      "0    0.79569\n",
      "1    0.20431\n",
      "Name: 细菌结果, dtype: float64\n"
     ]
    }
   ],
   "source": [
    "# train set : val set : test set = 6 : 2 : 2 \n",
    "df_train, df_test = train_test_split(df, test_size=0.2,\n",
    "                                     stratify=df[y], random_state=42)\n",
    "\n",
    "df_train, df_val = train_test_split(df_train, test_size=0.25,\n",
    "                                     stratify=df_train[y], random_state=42)\n",
    "\n",
    "# print info\n",
    "print(\"X_train shape:\", df_train.drop(y, axis=1).shape,\n",
    "      \"| X_val shape:\", df_val.drop(y, axis=1).shape,\n",
    "      \"| X_test shape:\", df_test.drop(y, axis=1).shape,)\n",
    "print(\"y_train mean:\", round(\n",
    "    np.mean(df_train[y]), 2), \"| y_test mean:\", round(np.mean(df_test[y]), 2))\n",
    "\n",
    "print('-'*50)\n",
    "\n",
    "print(\"Train set：\")\n",
    "print(df_train[y].value_counts() / len(df_train[y]))\n",
    "print(\"Val set：\")\n",
    "print(df_val[y].value_counts() / len(df_val[y]))\n",
    "print(\"Test set：\")\n",
    "print(df_test[y].value_counts() / len(df_test[y]))"
   ]
  },
  {
   "cell_type": "code",
   "execution_count": 84,
   "metadata": {},
   "outputs": [],
   "source": [
    "X_train = df_train[features_raw]\n",
    "y_train = df_train[y]\n",
    "\n",
    "X_val = df_val[features_raw]\n",
    "y_val = df_val[y]\n",
    "\n",
    "X_test = df_test[features_raw]\n",
    "y_test = df_test[y]"
   ]
  },
  {
   "cell_type": "markdown",
   "metadata": {},
   "source": [
    "### Model comparison\n"
   ]
  },
  {
   "cell_type": "code",
   "execution_count": null,
   "metadata": {},
   "outputs": [],
   "source": [
    "## Logistic Regression\n",
    "model = LogisticRegression(class_weight='balanced')\n",
    "\n",
    "# define hyperparameters combinations to try\n",
    "param_dic = {'penalty': ['l2', 'l1'],\n",
    "             'C': [0.01, 1, 10],\n",
    "             'solver': ['liblinear', 'lbfgs', 'newton-cg', 'sag'],\n",
    "             'max_iter': [50, 100]}\n",
    "\n",
    "# random search\n",
    "random_search = model_selection.RandomizedSearchCV(model,\n",
    "                                                   param_distributions=param_dic, n_iter=1000, cv=10,\n",
    "                                                   scoring=\"f1\").fit(X_train, y_train)\n",
    "print(\"Best Model parameters:\", random_search.best_params_)\n",
    "print(\"Best Model mean f1:\", random_search.best_score_)\n",
    "model = random_search.best_estimator_"
   ]
  },
  {
   "cell_type": "code",
   "execution_count": 86,
   "metadata": {},
   "outputs": [],
   "source": [
    "import joblib\n",
    "model = LogisticRegression(class_weight='balanced', solver='newton-cg',penalty='l2',max_iter=50, C=1)"
   ]
  },
  {
   "cell_type": "code",
   "execution_count": 14,
   "metadata": {},
   "outputs": [],
   "source": [
    "# Naive Bayes\n",
    "# from sklearn.naive_bayes import BernoulliNB\n",
    "# model = BernoulliNB()"
   ]
  },
  {
   "cell_type": "code",
   "execution_count": 20,
   "metadata": {},
   "outputs": [],
   "source": [
    "# Random Forest\n",
    "# model = ensemble.RandomForestClassifier(random_state=10)"
   ]
  },
  {
   "cell_type": "code",
   "execution_count": 28,
   "metadata": {},
   "outputs": [],
   "source": [
    "## Gradient Boosting Classifier\n",
    "model = ensemble.GradientBoostingClassifier(random_state=0)"
   ]
  },
  {
   "cell_type": "code",
   "execution_count": 87,
   "metadata": {},
   "outputs": [],
   "source": [
    "def train(X, y, model):\n",
    "    model.fit(X, y)\n",
    "\n",
    "\n",
    "def eval(X_test, y_test, predicted, predicted_prob, model):\n",
    "\n",
    "    # Accuray e AUC\n",
    "    accuracy = metrics.accuracy_score(y_test, predicted)\n",
    "    auc = metrics.roc_auc_score(y_test, predicted_prob)\n",
    "    print(\"Accuracy (overall correct predictions):\",  round(accuracy, 2))\n",
    "    print(\"Auc:\", round(auc, 2))\n",
    "\n",
    "    # Precision e Recall\n",
    "    recall = metrics.recall_score(y_test, predicted)\n",
    "    precision = metrics.precision_score(y_test, predicted)\n",
    "    print(\"Recall (all 1s predicted right):\", round(recall, 2))\n",
    "    print(\"Precision (confidence when predicting a 1):\", round(precision, 2))\n",
    "    print(\"Detail:\")\n",
    "    print(metrics.classification_report(y_test, predicted,\n",
    "          target_names=[str(i) for i in np.unique(y_test)]))\n",
    "\n",
    "    # confusion matrix\n",
    "    classes = np.unique(y_test)\n",
    "    fig, ax = plt.subplots(figsize=(7, 5))\n",
    "    cm = metrics.confusion_matrix(y_test, predicted, labels=classes)\n",
    "    sns.heatmap(cm, annot=True, fmt='d', cmap=plt.cm.Blues, cbar=False)\n",
    "    ax.set(xlabel=\"Pred\", ylabel=\"True\", title=\"Confusion matrix\")\n",
    "    ax.set_yticklabels(labels=classes, rotation=0)\n",
    "    plt.tight_layout()\n",
    "    plt.show()\n",
    "\n",
    "    return recall, precision, cm"
   ]
  },
  {
   "cell_type": "code",
   "execution_count": 88,
   "metadata": {},
   "outputs": [
    {
     "data": {
      "text/plain": [
       "['lr.model']"
      ]
     },
     "execution_count": 88,
     "metadata": {},
     "output_type": "execute_result"
    }
   ],
   "source": [
    "# train\n",
    "train(X_train, y_train, model)\n",
    "#lr是一个LogisticRegression模型\n",
    "joblib.dump(model, 'lr.model')"
   ]
  },
  {
   "cell_type": "code",
   "execution_count": null,
   "metadata": {},
   "outputs": [],
   "source": [
    "\n",
    "# select best parameters in val set\n",
    "predicted_prob = model.predict_proba(X_val)[:, 1]\n",
    "# print(model.predict_proba(X_val))\n",
    "predicted = model.predict(X_val)\n",
    "recall, precision, cm = eval(X_val, y_val, predicted, predicted_prob, model)"
   ]
  },
  {
   "cell_type": "code",
   "execution_count": 31,
   "metadata": {},
   "outputs": [
    {
     "data": {
      "text/plain": [
       "<AxesSubplot:title={'center':'Threshold Selection'}>"
      ]
     },
     "execution_count": 31,
     "metadata": {},
     "output_type": "execute_result"
    },
    {
     "data": {
      "text/plain": [
       "<matplotlib.legend.Legend at 0x27786794a60>"
      ]
     },
     "execution_count": 31,
     "metadata": {},
     "output_type": "execute_result"
    },
    {
     "data": {
      "image/png": "[encoded data removed]",
      "text/plain": [
       "<Figure size 432x288 with 1 Axes>"
      ]
     },
     "metadata": {
      "needs_background": "light"
     },
     "output_type": "display_data"
    }
   ],
   "source": [
    "# calculate scores for different thresholds\n",
    "dic_scores = {'accuracy': [], 'precision': [], 'recall': [], 'f1': []}\n",
    "thresholds = []\n",
    "for threshold in np.arange(0, 1, step=0.005):\n",
    "    predicted = (predicted_prob > threshold)\n",
    "    thresholds.append(threshold)\n",
    "    dic_scores[\"accuracy\"].append(metrics.accuracy_score(y_test, predicted))\n",
    "    dic_scores[\"precision\"].append(metrics.precision_score(y_test, predicted))\n",
    "    dic_scores[\"recall\"].append(metrics.recall_score(y_test, predicted))\n",
    "    dic_scores[\"f1\"].append(metrics.f1_score(y_test, predicted))\n",
    "\n",
    "# plot\n",
    "df_scores = pd.DataFrame(dic_scores).set_index(pd.Index(thresholds))\n",
    "df_scores.plot(title=\"Threshold Selection\")\n",
    "plt.tight_layout()\n",
    "plt.legend(loc=\"upper right\")\n",
    "plt.show()"
   ]
  },
  {
   "cell_type": "code",
   "execution_count": 33,
   "metadata": {},
   "outputs": [
    {
     "name": "stdout",
     "output_type": "stream",
     "text": [
      "Accuracy (overall correct predictions): 0.72\n",
      "Auc: 0.72\n",
      "Recall (all 1s predicted right): 0.57\n",
      "Precision (confidence when predicting a 1): 0.37\n",
      "Detail:\n",
      "              precision    recall  f1-score   support\n",
      "\n",
      "         0.0       0.87      0.76      0.81      1846\n",
      "         1.0       0.37      0.57      0.45       474\n",
      "\n",
      "    accuracy                           0.72      2320\n",
      "   macro avg       0.62      0.66      0.63      2320\n",
      "weighted avg       0.77      0.72      0.74      2320\n",
      "\n"
     ]
    },
    {
     "data": {
      "image/png": "[encoded data removed]",
      "text/plain": [
       "<Figure size 504x360 with 1 Axes>"
      ]
     },
     "metadata": {
      "needs_background": "light"
     },
     "output_type": "display_data"
    }
   ],
   "source": [
    "threshold = 0.2\n",
    "predicted_prob = model.predict_proba(X_val)[:, 1]\n",
    "predicted = (predicted_prob > threshold)\n",
    "# predicted = model.predict(X_val)\n",
    "\n",
    "recall, precision, cm = eval(X_val, y_val, predicted, predicted_prob, model)"
   ]
  },
  {
   "cell_type": "code",
   "execution_count": 37,
   "metadata": {},
   "outputs": [
    {
     "name": "stdout",
     "output_type": "stream",
     "text": [
      "Accuracy (overall correct predictions): 0.66\n",
      "Auc: 0.76\n",
      "Recall (all 1s predicted right): 0.7\n",
      "Precision (confidence when predicting a 1): 0.34\n",
      "Detail:\n",
      "              precision    recall  f1-score   support\n",
      "\n",
      "         0.0       0.90      0.65      0.75      1846\n",
      "         1.0       0.34      0.70      0.46       474\n",
      "\n",
      "    accuracy                           0.66      2320\n",
      "   macro avg       0.62      0.68      0.60      2320\n",
      "weighted avg       0.78      0.66      0.69      2320\n",
      "\n"
     ]
    },
    {
     "data": {
      "image/png": "[encoded data removed]",
      "text/plain": [
       "<Figure size 504x360 with 1 Axes>"
      ]
     },
     "metadata": {
      "needs_background": "light"
     },
     "output_type": "display_data"
    }
   ],
   "source": [
    "# Test model performance on the test set\n",
    "threshold = 0.17\n",
    "predicted_prob = model.predict_proba(X_test)[:, 1]\n",
    "predicted = (predicted_prob > threshold)\n",
    "# predicted = model.predict(X_val)\n",
    "\n",
    "recall, precision, cm = eval(X_test, y_test, predicted, predicted_prob, model)"
   ]
  },
  {
   "cell_type": "code",
   "execution_count": null,
   "metadata": {},
   "outputs": [],
   "source": []
  }
 ],
 "metadata": {
  "kernelspec": {
   "display_name": "Python 3.8.8 ('base')",
   "language": "python",
   "name": "python3"
  },
  "language_info": {
   "codemirror_mode": {
    "name": "ipython",
    "version": 3
   },
   "file_extension": ".py",
   "mimetype": "text/x-python",
   "name": "python",
   "nbconvert_exporter": "python",
   "pygments_lexer": "ipython3",
   "version": "3.8.8"
  },
  "orig_nbformat": 4,
  "vscode": {
   "interpreter": {
    "hash": "bb86b2e73e40408f6db468da6d9d0d4ea726460eb6a44d55f922f6aec4f641b6"
   }
  }
 },
 "nbformat": 4,
 "nbformat_minor": 2
}
