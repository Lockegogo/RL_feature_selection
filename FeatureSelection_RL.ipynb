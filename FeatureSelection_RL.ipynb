{
 "cells": [
  {
   "cell_type": "code",
   "execution_count": 2,
   "id": "291c7f87",
   "metadata": {
    "ExecuteTime": {
     "end_time": "2021-11-08T04:18:40.634790Z",
     "start_time": "2021-11-08T04:18:37.663972Z"
    }
   },
   "outputs": [],
   "source": [
    "import import_ipynb\n",
    "from IPython.core.interactiveshell import InteractiveShell\n",
    "InteractiveShell.ast_node_interactivity = 'all'\n",
    "\n",
    "## For data\n",
    "import pandas as pd\n",
    "import numpy as np\n",
    "import random\n",
    "\n",
    "## For plotting\n",
    "import matplotlib.pyplot as plt\n",
    "import missingno as msno\n",
    "import seaborn as sns\n",
    "\n",
    "## For statistical tests\n",
    "import scipy\n",
    "import statsmodels.formula.api as smf\n",
    "import statsmodels.api as sm\n",
    "\n",
    "## For machine learning\n",
    "from sklearn import model_selection, preprocessing, feature_selection, ensemble, linear_model, metrics, decomposition\n",
    "from sklearn.model_selection import train_test_split\n",
    "from sklearn.model_selection import GridSearchCV\n",
    "from sklearn.linear_model import LogisticRegression\n",
    "from sklearn.feature_selection import chi2\n",
    "from sklearn.feature_selection import f_classif\n",
    "from sklearn.feature_selection import mutual_info_classif\n",
    "from sklearn.metrics import precision_recall_fscore_support\n",
    "\n",
    "%matplotlib inline\n",
    "\n",
    "## Chinese display\n",
    "plt.rcParams['font.sans-serif']=['SimHei']\n",
    "plt.rcParams['axes.unicode_minus'] = False\n",
    "\n",
    "## No warnings\n",
    "import warnings\n",
    "warnings.filterwarnings('ignore') "
   ]
  },
  {
   "cell_type": "code",
   "execution_count": 30,
   "id": "3123bb94",
   "metadata": {},
   "outputs": [],
   "source": [
    "# f_beta\n",
    "def calculate_fscore(X, Y):\n",
    "    X_train, X_test, y_train, y_test = train_test_split(X,\n",
    "                                                        Y,\n",
    "                                                        test_size=0.3,\n",
    "                                                        stratify=Y,\n",
    "                                                        random_state=42)\n",
    "    clf = linear_model.LogisticRegression(class_weight='balanced',\n",
    "                                          solver='lbfgs')\n",
    "    clf.fit(X_train, y_train)\n",
    "    predicted = clf.predict(X_test)\n",
    "    precision, recall, f_beta, support = precision_recall_fscore_support(\n",
    "        y_true=y_test, y_pred=predicted,beta=1.5)\n",
    "    return f_beta[1] "
   ]
  },
  {
   "cell_type": "markdown",
   "id": "4bae24a1",
   "metadata": {},
   "source": [
    "## Feature selection\n",
    "### 1. No feature selection\n",
    "#### 1.1 One-hot encoding"
   ]
  },
  {
   "cell_type": "code",
   "execution_count": 31,
   "id": "6c630c17",
   "metadata": {},
   "outputs": [
    {
     "data": {
      "text/plain": [
       "(11600, 383)"
      ]
     },
     "execution_count": 31,
     "metadata": {},
     "output_type": "execute_result"
    },
    {
     "name": "stdout",
     "output_type": "stream",
     "text": [
      "No feature selection: f_beta of one-hot encoding:  0.5140648872112878\n"
     ]
    }
   ],
   "source": [
    "df_file = \"data/Diarrhea_fillna.tsv\"\n",
    "df1 = pd.read_csv(df_file, sep=\"\\t\", index_col=0, encoding=\"utf-8\")\n",
    "\n",
    "y = \"细菌结果\"\n",
    "df1[y] = df1[y].map(lambda x: 0 if x == \"阴性\" else 1)\n",
    "\n",
    "df1 = pd.get_dummies(df1, drop_first=True)\n",
    "df1.shape\n",
    "\n",
    "X_original = df1.drop(y, axis=1)\n",
    "y_original = df1[y]\n",
    "f_beta_original = calculate_fscore(X_original, y_original)\n",
    "\n",
    "print(\"No feature selection: f_beta of one-hot encoding: \", f_beta_original)"
   ]
  },
  {
   "cell_type": "markdown",
   "id": "13a4101a",
   "metadata": {},
   "source": [
    "#### 1.2 Feature embedding"
   ]
  },
  {
   "cell_type": "code",
   "execution_count": 32,
   "id": "92d5debc",
   "metadata": {},
   "outputs": [
    {
     "data": {
      "text/plain": [
       "(11600, 220)"
      ]
     },
     "execution_count": 32,
     "metadata": {},
     "output_type": "execute_result"
    },
    {
     "name": "stdout",
     "output_type": "stream",
     "text": [
      "No feature selection: f_beta of feature embedding:  0.5069153207816542\n"
     ]
    }
   ],
   "source": [
    "df_file = \"data/Diarrhea_embed_219.tsv\"\n",
    "df = pd.read_csv(df_file, sep=\"\\t\", index_col=0, encoding=\"utf-8\")\n",
    "df.shape\n",
    "\n",
    "y = \"细菌结果\"\n",
    "X_embed = df.drop(y, axis=1)\n",
    "y_embed = df[y]\n",
    "f_beta_embed = calculate_fscore(X_embed, y_embed)\n",
    "\n",
    "print(\"No feature selection: f_beta of feature embedding: \", f_beta_embed)"
   ]
  },
  {
   "cell_type": "markdown",
   "id": "b6e54730",
   "metadata": {},
   "source": [
    "#### 1.3 One-hot encoding + feature embedding"
   ]
  },
  {
   "cell_type": "code",
   "execution_count": 33,
   "id": "d8ad58cb",
   "metadata": {},
   "outputs": [
    {
     "data": {
      "text/plain": [
       "(11600, 374)"
      ]
     },
     "execution_count": 33,
     "metadata": {},
     "output_type": "execute_result"
    },
    {
     "data": {
      "text/plain": [
       "(11600, 220)"
      ]
     },
     "execution_count": 33,
     "metadata": {},
     "output_type": "execute_result"
    },
    {
     "data": {
      "text/plain": [
       "(11600, 594)"
      ]
     },
     "execution_count": 33,
     "metadata": {},
     "output_type": "execute_result"
    }
   ],
   "source": [
    "df_file = \"data/Diarrhea_fillna.tsv\"\n",
    "df = pd.read_csv(df_file, sep=\"\\t\", index_col=0, encoding=\"utf-8\")\n",
    "y = \"细菌结果\"\n",
    "df[y] = df[y].map(lambda x: 0 if x == \"阴性\" else 1)\n",
    "df_onehot = df[df.dtypes[df.dtypes == 'object'].index]\n",
    "df_onehot = pd.get_dummies(df_onehot, drop_first=True)\n",
    "df_onehot = df_onehot.reset_index(drop=True)\n",
    "df_onehot.shape\n",
    "\n",
    "df_file = \"data/Diarrhea_embed_219.tsv\"\n",
    "df_embed = pd.read_csv(df_file, sep=\"\\t\", index_col=0, encoding=\"utf-8\")\n",
    "df_embed.shape\n",
    "\n",
    "df = pd.concat([df_onehot, df_embed], axis=1)\n",
    "df.shape\n",
    "\n",
    "df_combined = \"data/Diarrhea_onehot_embed_593.tsv\"\n",
    "df.to_csv(df_combined, sep=\"\\t\", encoding=\"utf-8\")"
   ]
  },
  {
   "cell_type": "code",
   "execution_count": 34,
   "id": "dae20a14",
   "metadata": {},
   "outputs": [
    {
     "data": {
      "text/plain": [
       "(11600, 594)"
      ]
     },
     "execution_count": 34,
     "metadata": {},
     "output_type": "execute_result"
    },
    {
     "name": "stdout",
     "output_type": "stream",
     "text": [
      "No feature selection: f_beta of one-hot encoding and feature embedding:  0.5064027939464494\n"
     ]
    }
   ],
   "source": [
    "df_file = \"data/Diarrhea_onehot_embed_593.tsv\"\n",
    "df = pd.read_csv(df_file, sep=\"\\t\", index_col=0, encoding=\"utf-8\")\n",
    "df.shape\n",
    "\n",
    "y = \"细菌结果\"\n",
    "X_embed = df.drop(y, axis=1)\n",
    "y_embed = df[y]\n",
    "df_onehot_embed = calculate_fscore(X_embed, y_embed)\n",
    "\n",
    "print(\"No feature selection: f_beta of one-hot encoding and feature embedding: \", df_onehot_embed)"
   ]
  },
  {
   "cell_type": "markdown",
   "id": "d55a61d2",
   "metadata": {},
   "source": [
    "### 2. Statistical-based methods: One-hot encoding "
   ]
  },
  {
   "cell_type": "code",
   "execution_count": 35,
   "id": "75e0ed19",
   "metadata": {},
   "outputs": [
    {
     "data": {
      "text/plain": [
       "(11600, 358)"
      ]
     },
     "execution_count": 35,
     "metadata": {},
     "output_type": "execute_result"
    },
    {
     "name": "stdout",
     "output_type": "stream",
     "text": [
      "Statistical-based method: f_beta of one-hot encoding:  0.5150610583446404\n"
     ]
    }
   ],
   "source": [
    "df_file = \"data/Diarrhea_fillna.tsv\"\n",
    "df2 = pd.read_csv(df_file, sep=\"\\t\", index_col=0, encoding=\"utf-8\")\n",
    "\n",
    "y = \"细菌结果\"\n",
    "df2[y] = df2[y].map(lambda x: 0 if x == \"阴性\" else 1)\n",
    "\n",
    "# relevant features from 'main.ipynb'\n",
    "features_chi2_anova = [\n",
    "    'age', '体温', '腹泻量', '腹泻频次', '腹泻天数', '细菌结果', '区县', '性别', '户籍', '职业', '首发症状',\n",
    "    '发热', '腹胀', '恶心', '腹痛', '腹痛性质', '腹痛部位', '呕吐在腹泻___发生', '腹泻', '腹泻性质',\n",
    "    '近6个月有无肠道疾病既往史', '进餐地点', '是否家中饲养或接触过宠物', '就诊前是否服用过抗生素',\n",
    "    '诊断', '诊断类型', '临床处理', '本次就诊是否给予抗生素', '抗生素名称.1', '是否采集', '采样类型'\n",
    "]\n",
    "\n",
    "df2 = df2[features_chi2_anova]\n",
    "df2 = pd.get_dummies(df2, drop_first=True)\n",
    "df2.shape\n",
    "\n",
    "X_chi2_anova = df2.drop(y, axis=1)\n",
    "y_chi2_anova = df2[y]\n",
    "f_beta_chi2_anova = calculate_fscore(X_chi2_anova, y_chi2_anova)\n",
    "print(\"Statistical-based method: f_beta of one-hot encoding: \", f_beta_chi2_anova)"
   ]
  },
  {
   "cell_type": "markdown",
   "id": "59bb5295",
   "metadata": {},
   "source": [
    "### 3. Reinforcement Learning-based methods"
   ]
  },
  {
   "cell_type": "code",
   "execution_count": 2,
   "id": "f078b411",
   "metadata": {},
   "outputs": [
    {
     "data": {
      "text/plain": [
       "(11600, 46)"
      ]
     },
     "execution_count": 2,
     "metadata": {},
     "output_type": "execute_result"
    }
   ],
   "source": [
    "df_file = \"data/Diarrhea_fillna.tsv\"\n",
    "df = pd.read_csv(df_file, sep=\"\\t\", index_col=0, encoding=\"utf-8\")\n",
    "df.shape"
   ]
  },
  {
   "cell_type": "code",
   "execution_count": 3,
   "id": "5862fd77",
   "metadata": {},
   "outputs": [
    {
     "data": {
      "text/plain": [
       "0    9231\n",
       "1    2369\n",
       "Name: 细菌结果, dtype: int64"
      ]
     },
     "execution_count": 3,
     "metadata": {},
     "output_type": "execute_result"
    }
   ],
   "source": [
    "y = \"细菌结果\"\n",
    "df[y] = df[y].map(lambda x: 0 if x == \"阴性\" else 1)\n",
    "df[y].value_counts()"
   ]
  },
  {
   "cell_type": "code",
   "execution_count": 4,
   "id": "148572cf",
   "metadata": {
    "ExecuteTime": {
     "end_time": "2021-11-09T00:49:41.542089Z",
     "start_time": "2021-11-09T00:49:41.480075Z"
    }
   },
   "outputs": [
    {
     "data": {
      "text/plain": [
       "(11600, 383)"
      ]
     },
     "execution_count": 4,
     "metadata": {},
     "output_type": "execute_result"
    }
   ],
   "source": [
    "# one-hot encoding\n",
    "df = pd.get_dummies(df, drop_first=True)\n",
    "df.shape\n",
    "# 382 features (excluding the label column)"
   ]
  },
  {
   "cell_type": "code",
   "execution_count": 5,
   "id": "c9c550d2",
   "metadata": {
    "ExecuteTime": {
     "end_time": "2021-11-09T00:49:43.161455Z",
     "start_time": "2021-11-09T00:49:41.543089Z"
    }
   },
   "outputs": [],
   "source": [
    "y = '细菌结果'\n",
    "names = df.columns\n",
    "scaler = preprocessing.MinMaxScaler().fit(df)\n",
    "df = scaler.transform(df)\n",
    "df = pd.DataFrame(df, columns=names)\n",
    "\n",
    "df_normal_file = \"data/Diarrhea_onehot_382.tsv\"\n",
    "df.to_csv(df_normal_file, sep=\"\\t\", encoding=\"utf-8\")"
   ]
  },
  {
   "cell_type": "markdown",
   "id": "11fd6cbf",
   "metadata": {},
   "source": [
    "#### 3.1 One-hot encoding"
   ]
  },
  {
   "cell_type": "markdown",
   "id": "1c41aa25",
   "metadata": {},
   "source": [
    "To repeat the RL-based experiment, you can run it from here."
   ]
  },
  {
   "cell_type": "code",
   "execution_count": 26,
   "id": "142fad94",
   "metadata": {},
   "outputs": [
    {
     "data": {
      "text/plain": [
       "(11600, 383)"
      ]
     },
     "execution_count": 26,
     "metadata": {},
     "output_type": "execute_result"
    }
   ],
   "source": [
    "df_file = \"data/Diarrhea_onehot_382.tsv\"\n",
    "df = pd.read_csv(df_file, sep=\"\\t\", index_col=0, encoding=\"utf-8\")\n",
    "df.shape"
   ]
  },
  {
   "cell_type": "markdown",
   "id": "4d4ec317",
   "metadata": {},
   "source": [
    "#### 3.2 Feature embedding"
   ]
  },
  {
   "cell_type": "code",
   "execution_count": 5,
   "id": "d871de35",
   "metadata": {},
   "outputs": [
    {
     "data": {
      "text/plain": [
       "(11600, 220)"
      ]
     },
     "execution_count": 5,
     "metadata": {},
     "output_type": "execute_result"
    }
   ],
   "source": [
    "# df_file = \"data/Diarrhea_embed_219.tsv\"\n",
    "# df = pd.read_csv(df_file, sep=\"\\t\", index_col=0, encoding=\"utf-8\")\n",
    "# df.shape"
   ]
  },
  {
   "cell_type": "markdown",
   "id": "361fb9d0",
   "metadata": {},
   "source": [
    "#### 3.3 One-hot encoding + feature embedding"
   ]
  },
  {
   "cell_type": "code",
   "execution_count": 24,
   "id": "0800c725",
   "metadata": {},
   "outputs": [
    {
     "data": {
      "text/plain": [
       "(11600, 594)"
      ]
     },
     "execution_count": 24,
     "metadata": {},
     "output_type": "execute_result"
    }
   ],
   "source": [
    "# df_file = \"data/Diarrhea_onehot_embed_593.tsv\"\n",
    "# df = pd.read_csv(df_file, sep=\"\\t\", index_col=0, encoding=\"utf-8\")\n",
    "# df.shape"
   ]
  },
  {
   "cell_type": "markdown",
   "id": "7347d398",
   "metadata": {},
   "source": [
    "Choose any one of the above three feature encoding methods."
   ]
  },
  {
   "cell_type": "code",
   "execution_count": 27,
   "id": "307d7bdd",
   "metadata": {
    "ExecuteTime": {
     "end_time": "2021-11-09T00:49:43.241474Z",
     "start_time": "2021-11-09T00:49:43.178460Z"
    }
   },
   "outputs": [
    {
     "name": "stdout",
     "output_type": "stream",
     "text": [
      "X_train shape: (8120, 382) | X_test shape: (3480, 382)\n",
      "y_train mean: 0.2 | y_test mean: 0.2\n",
      "--------------------------------------------------\n",
      "Train set：\n",
      "0.0    0.795813\n",
      "1.0    0.204187\n",
      "Name: 细菌结果, dtype: float64\n",
      "Test set：\n",
      "0.0    0.79569\n",
      "1.0    0.20431\n",
      "Name: 细菌结果, dtype: float64\n"
     ]
    }
   ],
   "source": [
    "# Stratified sampling\n",
    "df_train, df_test = train_test_split(df, test_size=0.3,\n",
    "                                     stratify=df[y], random_state=42)\n",
    "\n",
    "# print info\n",
    "print(\"X_train shape:\", df_train.drop(y, axis=1).shape,\n",
    "      \"| X_test shape:\", df_test.drop(y, axis=1).shape)\n",
    "print(\"y_train mean:\", round(\n",
    "    np.mean(df_train[y]), 2), \"| y_test mean:\", round(np.mean(df_test[y]), 2))\n",
    "\n",
    "print('-'*50)\n",
    "\n",
    "print(\"Train set：\")\n",
    "print(df_train[y].value_counts() / len(df_train[y]))\n",
    "print(\"Test set：\")\n",
    "print(df_test[y].value_counts() / len(df_test[y]))\n"
   ]
  },
  {
   "cell_type": "code",
   "execution_count": 28,
   "id": "dae25902",
   "metadata": {
    "ExecuteTime": {
     "end_time": "2021-11-09T00:49:43.273481Z",
     "start_time": "2021-11-09T00:49:43.243475Z"
    }
   },
   "outputs": [],
   "source": [
    "y = '细菌结果'\n",
    "features_raw = df.drop(y, axis=1).columns.to_list()\n",
    "\n",
    "X_train = df_train[features_raw]\n",
    "y_train = df_train[y]\n",
    "\n",
    "X_test = df_test[features_raw]\n",
    "y_test = df_test[y]"
   ]
  },
  {
   "cell_type": "code",
   "execution_count": 8,
   "id": "e18d0036",
   "metadata": {
    "ExecuteTime": {
     "end_time": "2021-11-09T00:49:43.289485Z",
     "start_time": "2021-11-09T00:49:43.276484Z"
    }
   },
   "outputs": [],
   "source": [
    "# f_beta\n",
    "def accuracy(input):\n",
    "    # x_train = X_train[input]\n",
    "    x_train = X_train.iloc[:, input]\n",
    "    x_test = X_test.iloc[:, input]\n",
    "    clf = linear_model.LogisticRegression(class_weight='balanced')\n",
    "    clf.fit(x_train, y_train.values.ravel())\n",
    "    predicted = clf.predict(x_test)\n",
    "    precision, recall, f_beta, support = precision_recall_fscore_support(\n",
    "        y_true=y_test, y_pred=predicted, beta=1.5)\n",
    "    return f_beta[1]"
   ]
  },
  {
   "cell_type": "code",
   "execution_count": 9,
   "id": "b2119d43",
   "metadata": {
    "ExecuteTime": {
     "end_time": "2021-11-09T00:49:43.321492Z",
     "start_time": "2021-11-09T00:49:43.290486Z"
    },
    "scrolled": true
   },
   "outputs": [
    {
     "data": {
      "text/plain": [
       "[[-1, -1], [-1, -1], [-1, -1]]"
      ]
     },
     "execution_count": 9,
     "metadata": {},
     "output_type": "execute_result"
    },
    {
     "data": {
      "text/plain": [
       "[[-1, 0], [-1, 0], [-1, -1]]"
      ]
     },
     "execution_count": 9,
     "metadata": {},
     "output_type": "execute_result"
    }
   ],
   "source": [
    "## Initialize Q-table with -1\n",
    "# Q_values = [[-1, -1]] * len(features_raw)\n",
    "Q_values = [[-1, -1] for i in range(len(features_raw))]\n",
    "Q_values[:3]\n",
    "\n",
    "## How to add a priori weights to the features? \n",
    "# (run \"Statistical-based methods: One-hot encoding\" first and then run the following code)\n",
    "# 1. get the column names of the columns of df2, or X_chi2_anova, so that there are no y label\n",
    "# 2. find the subscripts i corresponding to these column names in df\n",
    "# 3. set the second column of row i in Q_values to 0 > 1\n",
    "\n",
    "## add a priori weights to the features\n",
    "for ix, column in enumerate(X_train.columns):\n",
    "    if column in X_chi2_anova.columns:\n",
    "        Q_values[ix][1] = 0\n",
    "\n",
    "Q_values[:3]"
   ]
  },
  {
   "cell_type": "code",
   "execution_count": 18,
   "id": "d932c93e",
   "metadata": {
    "ExecuteTime": {
     "end_time": "2021-11-09T00:49:43.369176Z",
     "start_time": "2021-11-09T00:49:43.354500Z"
    }
   },
   "outputs": [],
   "source": [
    "def get_reward(features):\n",
    "    if len(features) == 0:\n",
    "        return 0\n",
    "    acc = accuracy(features) * 100\n",
    "    tot_f = len(features)\n",
    "    R = acc\n",
    "    if tot_f > K:\n",
    "        R = acc * K / tot_f\n",
    "    return R"
   ]
  },
  {
   "cell_type": "code",
   "execution_count": 19,
   "id": "bb70e437",
   "metadata": {
    "ExecuteTime": {
     "end_time": "2021-11-09T00:49:43.383944Z",
     "start_time": "2021-11-09T00:49:43.370179Z"
    }
   },
   "outputs": [],
   "source": [
    "# epsilon-greedy policy\n",
    "epsilon = 0.5\n",
    "alpha = 0.2\n",
    "\n",
    "# attenuation coefficient\n",
    "epsilon_decay_rate = 0.995\n",
    "alpha_decay_rate = 0.995\n",
    "\n",
    "# Maximum number of features allowed\n",
    "K = 400"
   ]
  },
  {
   "cell_type": "code",
   "execution_count": 20,
   "id": "21abfbc1",
   "metadata": {
    "ExecuteTime": {
     "end_time": "2021-11-09T00:49:43.399295Z",
     "start_time": "2021-11-09T00:49:43.385229Z"
    }
   },
   "outputs": [],
   "source": [
    "all_rewards = []\n",
    "num_episodes = 100\n",
    "\n",
    "# Assign an agent to each feature\n",
    "num_agents = len(features_raw)\n",
    "\n",
    "# Initialize the reward matrix with 0\n",
    "reward_store = {}\n",
    "for i in range(num_agents + 1):\n",
    "    reward_store[i] = 0"
   ]
  },
  {
   "cell_type": "code",
   "execution_count": 21,
   "id": "48276590",
   "metadata": {
    "ExecuteTime": {
     "end_time": "2021-11-09T02:58:37.062567Z",
     "start_time": "2021-11-09T00:49:43.400297Z"
    },
    "scrolled": true
   },
   "outputs": [],
   "source": [
    "# Initialize the action space with 0\n",
    "actions = [0] * num_agents\n",
    "\n",
    "for episode in range(num_episodes):\n",
    "    for agent in range(num_agents):\n",
    "        rand_number = random.uniform(0, 1)\n",
    "        if rand_number > epsilon:\n",
    "            # actions[agent]  = Q_values[agent].index(max(Q_values[agent]))\n",
    "            actions[agent] = np.argmax(Q_values[agent])\n",
    "        else:\n",
    "            actions[agent] = random.choice([0, 1])\n",
    "    features = []\n",
    "    for i, act in enumerate(actions):\n",
    "        if act == 1:\n",
    "            features.append(i)\n",
    "    # print(features)\n",
    "    R = get_reward(features)\n",
    "    reward_store[len(features)] = max(reward_store[len(features)], R)\n",
    "    # print(R)\n",
    "    all_rewards.append(R)\n",
    "\n",
    "    for agent in range(num_agents):\n",
    "        actions[agent] = 1 - actions[agent]\n",
    "        features = []\n",
    "        for i, act in enumerate(actions):\n",
    "            if act == 1:\n",
    "                features.append(i)\n",
    "        # CLEAN Reward：C_i = G(a-a_i+c_i) - G(a)\n",
    "        C_agent = get_reward(features) - R\n",
    "        Q_values[agent][actions[agent]] = Q_values[agent][actions[agent]] + alpha * (C_agent - Q_values[agent][actions[agent]])\n",
    "    alpha = alpha * alpha_decay_rate\n",
    "    epsilon = epsilon * epsilon_decay_rate"
   ]
  },
  {
   "cell_type": "code",
   "execution_count": 167,
   "id": "8a71e5ae",
   "metadata": {
    "ExecuteTime": {
     "end_time": "2021-11-09T02:58:37.078237Z",
     "start_time": "2021-11-09T02:58:37.068235Z"
    }
   },
   "outputs": [
    {
     "name": "stdout",
     "output_type": "stream",
     "text": [
      "{0: 0, 1: 0, 2: 0, 3: 0, 4: 0, 5: 0, 6: 0, 7: 0, 8: 0, 9: 0, 10: 0, 11: 0, 12: 0, 13: 0, 14: 0, 15: 0, 16: 0, 17: 0, 18: 0, 19: 0, 20: 0, 21: 0, 22: 0, 23: 0, 24: 0, 25: 0, 26: 0, 27: 0, 28: 0, 29: 0, 30: 0, 31: 0, 32: 0, 33: 0, 34: 0, 35: 0, 36: 0, 37: 0, 38: 0, 39: 0, 40: 0, 41: 0, 42: 0, 43: 0, 44: 0, 45: 0, 46: 0, 47: 0, 48: 0, 49: 0, 50: 0, 51: 0, 52: 0, 53: 0, 54: 0, 55: 0, 56: 0, 57: 0, 58: 0, 59: 0, 60: 0, 61: 0, 62: 0, 63: 0, 64: 0, 65: 0, 66: 0, 67: 0, 68: 0, 69: 0, 70: 0, 71: 0, 72: 0, 73: 0, 74: 0, 75: 0, 76: 0, 77: 0, 78: 0, 79: 0, 80: 0, 81: 0, 82: 0, 83: 0, 84: 0, 85: 0, 86: 0, 87: 0, 88: 0, 89: 0, 90: 0, 91: 0, 92: 0, 93: 0, 94: 0, 95: 0, 96: 0, 97: 0, 98: 0, 99: 0, 100: 0, 101: 0, 102: 0, 103: 0, 104: 0, 105: 0, 106: 0, 107: 0, 108: 0, 109: 0, 110: 0, 111: 0, 112: 0, 113: 0, 114: 0, 115: 0, 116: 0, 117: 0, 118: 0, 119: 0, 120: 0, 121: 0, 122: 0, 123: 0, 124: 0, 125: 0, 126: 0, 127: 0, 128: 0, 129: 0, 130: 0, 131: 0, 132: 0, 133: 0, 134: 0, 135: 0, 136: 0, 137: 0, 138: 0, 139: 0, 140: 0, 141: 0, 142: 0, 143: 0, 144: 0, 145: 0, 146: 0, 147: 0, 148: 0, 149: 0, 150: 0, 151: 0, 152: 0, 153: 0, 154: 0, 155: 0, 156: 0, 157: 0, 158: 0, 159: 0, 160: 0, 161: 0, 162: 0, 163: 0, 164: 0, 165: 0, 166: 0, 167: 0, 168: 0, 169: 0, 170: 0, 171: 0, 172: 0, 173: 0, 174: 0, 175: 0, 176: 0, 177: 0, 178: 0, 179: 0, 180: 0, 181: 0, 182: 0, 183: 0, 184: 0, 185: 0, 186: 0, 187: 0, 188: 0, 189: 0, 190: 0, 191: 0, 192: 49.26140012845215, 193: 0, 194: 0, 195: 49.009584664536746, 196: 0, 197: 0, 198: 0, 199: 0, 200: 0, 201: 50.89525930049169, 202: 53.14865948160684, 203: 50.30501684421379, 204: 51.82488395376353, 205: 51.71980242478671, 206: 51.46401532427257, 207: 0, 208: 51.38293016887266, 209: 51.069297843047266, 210: 51.985949743312624, 211: 51.86886427091777, 212: 49.96812095819291, 213: 52.137453285935656, 214: 51.7630979498861, 215: 52.23267281526801, 216: 50.85762568652302, 217: 51.625831132161395, 218: 52.52999007847029, 219: 51.6634764378817, 220: 0, 221: 51.506105834464044, 222: 50.10283465975141, 223: 50.560160306038796, 224: 51.96662693682956, 225: 51.4747000992153, 226: 51.986075158439704, 227: 50.23183925811436, 228: 50.47044852470995, 229: 49.96812095819291, 230: 50.17793594306049, 231: 50.50170302862929, 232: 51.133570062824376, 233: 0, 234: 0, 235: 51.64464692482915, 236: 51.46505005970423, 237: 0, 238: 50.143372490981406, 239: 51.651006711409394, 240: 0, 241: 51.79751879018384, 242: 0, 243: 0, 244: 0, 245: 50.94546451082488, 246: 51.24317768344451, 247: 51.40774487471526, 248: 50.73751717819515, 249: 0, 250: 50.68407404095502, 251: 50.43154356318706, 252: 0, 253: 0, 254: 0, 255: 0, 256: 0, 257: 0, 258: 0, 259: 49.49595934349746, 260: 0, 261: 0, 262: 0, 263: 0, 264: 0, 265: 0, 266: 0, 267: 0, 268: 0, 269: 49.4775295217059, 270: 0, 271: 0, 272: 49.3139628732849, 273: 49.35031847133758, 274: 0, 275: 0, 276: 0, 277: 51.00137174211247, 278: 0, 279: 51.146768198712714, 280: 0, 281: 0, 282: 0, 283: 48.44583721521132, 284: 0, 285: 0, 286: 0, 287: 0, 288: 0, 289: 0, 290: 0, 291: 0, 292: 0, 293: 0, 294: 0, 295: 0, 296: 0, 297: 0, 298: 0, 299: 0, 300: 0, 301: 0, 302: 0, 303: 0, 304: 0, 305: 0, 306: 0, 307: 0, 308: 0, 309: 0, 310: 0, 311: 0, 312: 0, 313: 0, 314: 0, 315: 0, 316: 0, 317: 0, 318: 0, 319: 0, 320: 0, 321: 0, 322: 0, 323: 0, 324: 0, 325: 0, 326: 0, 327: 0, 328: 0, 329: 0, 330: 0, 331: 0, 332: 0, 333: 0, 334: 0, 335: 0, 336: 0, 337: 0, 338: 0, 339: 0, 340: 0, 341: 0, 342: 0, 343: 0, 344: 0, 345: 0, 346: 0, 347: 0, 348: 0, 349: 0, 350: 0, 351: 0, 352: 0, 353: 0, 354: 0, 355: 0, 356: 0, 357: 0, 358: 0, 359: 0, 360: 0, 361: 0, 362: 0, 363: 0, 364: 0, 365: 0, 366: 0, 367: 0, 368: 0, 369: 0, 370: 0, 371: 0, 372: 0, 373: 0, 374: 0, 375: 0, 376: 0, 377: 0, 378: 0, 379: 0, 380: 0, 381: 0, 382: 0}\n"
     ]
    }
   ],
   "source": [
    "reward_store"
   ]
  },
  {
   "cell_type": "code",
   "execution_count": 168,
   "id": "c3329f22",
   "metadata": {
    "ExecuteTime": {
     "end_time": "2021-11-09T02:58:37.094241Z",
     "start_time": "2021-11-09T02:58:37.079238Z"
    }
   },
   "outputs": [
    {
     "data": {
      "text/plain": [
       "202"
      ]
     },
     "execution_count": 168,
     "metadata": {},
     "output_type": "execute_result"
    }
   ],
   "source": [
    "# Feature dimension: 202\n",
    "max(reward_store,key=reward_store.get)"
   ]
  },
  {
   "cell_type": "code",
   "execution_count": 37,
   "id": "a13c8986",
   "metadata": {},
   "outputs": [
    {
     "name": "stdout",
     "output_type": "stream",
     "text": [
      "53.14865948160684\n"
     ]
    }
   ],
   "source": [
    "print(\"RL-based method: f_beta of one-hot encoding: \", reward_store[max(reward_store,key=reward_store.get)])"
   ]
  }
 ],
 "metadata": {
  "kernelspec": {
   "display_name": "Python 3 (ipykernel)",
   "language": "python",
   "name": "python3"
  },
  "language_info": {
   "codemirror_mode": {
    "name": "ipython",
    "version": 3
   },
   "file_extension": ".py",
   "mimetype": "text/x-python",
   "name": "python",
   "nbconvert_exporter": "python",
   "pygments_lexer": "ipython3",
   "version": "3.8.8"
  },
  "toc": {
   "base_numbering": 1,
   "nav_menu": {},
   "number_sections": true,
   "sideBar": true,
   "skip_h1_title": false,
   "title_cell": "Table of Contents",
   "title_sidebar": "Contents",
   "toc_cell": false,
   "toc_position": {
    "height": "calc(100% - 180px)",
    "left": "10px",
    "top": "150px",
    "width": "341.448px"
   },
   "toc_section_display": true,
   "toc_window_display": false
  },
  "varInspector": {
   "cols": {
    "lenName": 16,
    "lenType": 16,
    "lenVar": 40
   },
   "kernels_config": {
    "python": {
     "delete_cmd_postfix": "",
     "delete_cmd_prefix": "del ",
     "library": "var_list.py",
     "varRefreshCmd": "print(var_dic_list())"
    },
    "r": {
     "delete_cmd_postfix": ") ",
     "delete_cmd_prefix": "rm(",
     "library": "var_list.r",
     "varRefreshCmd": "cat(var_dic_list()) "
    }
   },
   "position": {
    "height": "636.667px",
    "left": "1279.33px",
    "right": "20px",
    "top": "144px",
    "width": "350px"
   },
   "types_to_exclude": [
    "module",
    "function",
    "builtin_function_or_method",
    "instance",
    "_Feature"
   ],
   "window_display": false
  }
 },
 "nbformat": 4,
 "nbformat_minor": 5
}
